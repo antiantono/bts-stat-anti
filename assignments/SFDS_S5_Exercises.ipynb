{
  "nbformat": 4,
  "nbformat_minor": 0,
  "metadata": {
    "kernelspec": {
      "display_name": "Python 3",
      "language": "python",
      "name": "python3"
    },
    "language_info": {
      "codemirror_mode": {
        "name": "ipython",
        "version": 3
      },
      "file_extension": ".py",
      "mimetype": "text/x-python",
      "name": "python",
      "nbconvert_exporter": "python",
      "pygments_lexer": "ipython3",
      "version": "3.7.1"
    },
    "colab": {
      "name": "SFDS_S5_Exercises.ipynb",
      "provenance": [],
      "collapsed_sections": [],
      "toc_visible": true,
      "include_colab_link": true
    }
  },
  "cells": [
    {
      "cell_type": "markdown",
      "metadata": {
        "id": "view-in-github",
        "colab_type": "text"
      },
      "source": [
        "<a href=\"https://colab.research.google.com/github/antiantono/bts-stat-anti/blob/main/assignments/SFDS_S5_Exercises.ipynb\" target=\"_parent\"><img src=\"https://colab.research.google.com/assets/colab-badge.svg\" alt=\"Open In Colab\"/></a>"
      ]
    },
    {
      "cell_type": "markdown",
      "metadata": {
        "id": "qLveGwCyHMFF"
      },
      "source": [
        "# Stats Exercise (not graded)\n",
        "Open Anti's notebook in Google Colaboratory: [![Open in Colab](https://colab.research.google.com/assets/colab-badge.svg)](https://colab.research.google.com/github/antiantono/bts-stat-anti/blob/main/assignments/SFDS_S5_Exercises.ipynb)"
      ]
    },
    {
      "cell_type": "code",
      "metadata": {
        "id": "8DNT7D-b3UxR",
        "colab": {
          "base_uri": "https://localhost:8080/"
        },
        "outputId": "443e0230-78fa-4511-dfcf-0557d89bf436"
      },
      "source": [
        "from google.colab import drive\n",
        "drive.mount('/content/drive')"
      ],
      "execution_count": null,
      "outputs": [
        {
          "output_type": "stream",
          "text": [
            "Mounted at /content/drive\n"
          ],
          "name": "stdout"
        }
      ]
    },
    {
      "cell_type": "code",
      "metadata": {
        "id": "m3X7Acqd90hh"
      },
      "source": [
        "from IPython.core.interactiveshell import InteractiveShell\n",
        "InteractiveShell.ast_node_interactivity = \"all\""
      ],
      "execution_count": null,
      "outputs": []
    },
    {
      "cell_type": "markdown",
      "metadata": {
        "id": "da1HmQgUwaXh"
      },
      "source": [
        "# DATA PULL"
      ]
    },
    {
      "cell_type": "markdown",
      "metadata": {
        "id": "QrqCSFCAwhSj"
      },
      "source": [
        "## Full Data"
      ]
    },
    {
      "cell_type": "code",
      "metadata": {
        "id": "8wt6Km-hwHTw"
      },
      "source": [
        "import pandas as pd"
      ],
      "execution_count": null,
      "outputs": []
    },
    {
      "cell_type": "code",
      "metadata": {
        "id": "g46wm1gxJ-dY"
      },
      "source": [
        "col_list = ['Year','Month','DayofMonth','DayOfWeek','DepTime','CRSDepTime','ArrTime','CRSArrTime',\n",
        "            'UniqueCarrier','FlightNum','TailNum','ActualElapsedTime','CRSElapsedTime','AirTime',\n",
        "            'ArrDelay','DepDelay','Origin','Dest','Distance','TaxiIn','TaxiOut',\n",
        "            'Cancelled','CancellationCode','Diverted','CarrierDelay','WeatherDelay',\n",
        "            'NASDelay','SecurityDelay','LateAircraftDelay']"
      ],
      "execution_count": null,
      "outputs": []
    },
    {
      "cell_type": "code",
      "metadata": {
        "id": "8fpASLQZIKEo",
        "colab": {
          "base_uri": "https://localhost:8080/"
        },
        "outputId": "95a92b58-5fda-47e2-f7cd-983c8bb37867"
      },
      "source": [
        "link = '/content/drive/My Drive/Data/2008.csv'\n",
        "df_pop = pd.read_csv(link, parse_dates={'Date':['Year','Month','DayofMonth']}, \n",
        "                     keep_date_col=True, usecols=col_list)"
      ],
      "execution_count": null,
      "outputs": [
        {
          "output_type": "stream",
          "text": [
            "/usr/local/lib/python3.6/dist-packages/IPython/core/interactiveshell.py:2718: DtypeWarning: Columns (3,4,5,6,7,9,11,12,13,14,15,18,19,20,21,23,24,25,26,27,28) have mixed types.Specify dtype option on import or set low_memory=False.\n",
            "  interactivity=interactivity, compiler=compiler, result=result)\n"
          ],
          "name": "stderr"
        }
      ]
    },
    {
      "cell_type": "code",
      "metadata": {
        "id": "ZQ_7beN631K8",
        "colab": {
          "base_uri": "https://localhost:8080/",
          "height": 979
        },
        "outputId": "6657ba6c-e42f-44fe-f5af-909983c2e28f"
      },
      "source": [
        "df_pop.describe().transpose()"
      ],
      "execution_count": null,
      "outputs": [
        {
          "output_type": "execute_result",
          "data": {
            "text/html": [
              "<div>\n",
              "<style scoped>\n",
              "    .dataframe tbody tr th:only-of-type {\n",
              "        vertical-align: middle;\n",
              "    }\n",
              "\n",
              "    .dataframe tbody tr th {\n",
              "        vertical-align: top;\n",
              "    }\n",
              "\n",
              "    .dataframe thead th {\n",
              "        text-align: right;\n",
              "    }\n",
              "</style>\n",
              "<table border=\"1\" class=\"dataframe\">\n",
              "  <thead>\n",
              "    <tr style=\"text-align: right;\">\n",
              "      <th></th>\n",
              "      <th>count</th>\n",
              "      <th>unique</th>\n",
              "      <th>top</th>\n",
              "      <th>freq</th>\n",
              "    </tr>\n",
              "  </thead>\n",
              "  <tbody>\n",
              "    <tr>\n",
              "      <th>Date</th>\n",
              "      <td>13526249</td>\n",
              "      <td>469</td>\n",
              "      <td>2008 7 18</td>\n",
              "      <td>42256</td>\n",
              "    </tr>\n",
              "    <tr>\n",
              "      <th>Year</th>\n",
              "      <td>13526245</td>\n",
              "      <td>46</td>\n",
              "      <td>2008</td>\n",
              "      <td>13526180</td>\n",
              "    </tr>\n",
              "    <tr>\n",
              "      <th>Month</th>\n",
              "      <td>13526223</td>\n",
              "      <td>62</td>\n",
              "      <td>7</td>\n",
              "      <td>1255860</td>\n",
              "    </tr>\n",
              "    <tr>\n",
              "      <th>DayofMonth</th>\n",
              "      <td>13526216</td>\n",
              "      <td>93</td>\n",
              "      <td>14</td>\n",
              "      <td>452810</td>\n",
              "    </tr>\n",
              "    <tr>\n",
              "      <th>DayOfWeek</th>\n",
              "      <td>13526211</td>\n",
              "      <td>95</td>\n",
              "      <td>5</td>\n",
              "      <td>1930644</td>\n",
              "    </tr>\n",
              "    <tr>\n",
              "      <th>DepTime</th>\n",
              "      <td>1.32688e+07</td>\n",
              "      <td>2936</td>\n",
              "      <td>555</td>\n",
              "      <td>30210</td>\n",
              "    </tr>\n",
              "    <tr>\n",
              "      <th>CRSDepTime</th>\n",
              "      <td>13526194</td>\n",
              "      <td>2483</td>\n",
              "      <td>600</td>\n",
              "      <td>223058</td>\n",
              "    </tr>\n",
              "    <tr>\n",
              "      <th>ArrTime</th>\n",
              "      <td>1.32391e+07</td>\n",
              "      <td>2979</td>\n",
              "      <td>1020</td>\n",
              "      <td>14454</td>\n",
              "    </tr>\n",
              "    <tr>\n",
              "      <th>CRSArrTime</th>\n",
              "      <td>13526153</td>\n",
              "      <td>2807</td>\n",
              "      <td>1800</td>\n",
              "      <td>40163</td>\n",
              "    </tr>\n",
              "    <tr>\n",
              "      <th>UniqueCarrier</th>\n",
              "      <td>13526130</td>\n",
              "      <td>217</td>\n",
              "      <td>WN</td>\n",
              "      <td>2302041</td>\n",
              "    </tr>\n",
              "    <tr>\n",
              "      <th>FlightNum</th>\n",
              "      <td>13526111</td>\n",
              "      <td>14965</td>\n",
              "      <td>152</td>\n",
              "      <td>8391</td>\n",
              "    </tr>\n",
              "    <tr>\n",
              "      <th>TailNum</th>\n",
              "      <td>13367801</td>\n",
              "      <td>5608</td>\n",
              "      <td>N476HA</td>\n",
              "      <td>9033</td>\n",
              "    </tr>\n",
              "    <tr>\n",
              "      <th>ActualElapsedTime</th>\n",
              "      <td>1.32329e+07</td>\n",
              "      <td>1507</td>\n",
              "      <td>80</td>\n",
              "      <td>103877</td>\n",
              "    </tr>\n",
              "    <tr>\n",
              "      <th>CRSElapsedTime</th>\n",
              "      <td>13524441</td>\n",
              "      <td>1168</td>\n",
              "      <td>75</td>\n",
              "      <td>284405</td>\n",
              "    </tr>\n",
              "    <tr>\n",
              "      <th>AirTime</th>\n",
              "      <td>1.32328e+07</td>\n",
              "      <td>1434</td>\n",
              "      <td>45</td>\n",
              "      <td>107499</td>\n",
              "    </tr>\n",
              "    <tr>\n",
              "      <th>ArrDelay</th>\n",
              "      <td>1.32328e+07</td>\n",
              "      <td>2204</td>\n",
              "      <td>-5</td>\n",
              "      <td>326864</td>\n",
              "    </tr>\n",
              "    <tr>\n",
              "      <th>DepDelay</th>\n",
              "      <td>1.32686e+07</td>\n",
              "      <td>2143</td>\n",
              "      <td>-5</td>\n",
              "      <td>861108</td>\n",
              "    </tr>\n",
              "    <tr>\n",
              "      <th>Origin</th>\n",
              "      <td>13525919</td>\n",
              "      <td>533</td>\n",
              "      <td>ATL</td>\n",
              "      <td>801692</td>\n",
              "    </tr>\n",
              "    <tr>\n",
              "      <th>Dest</th>\n",
              "      <td>13525898</td>\n",
              "      <td>545</td>\n",
              "      <td>ATL</td>\n",
              "      <td>801715</td>\n",
              "    </tr>\n",
              "    <tr>\n",
              "      <th>Distance</th>\n",
              "      <td>1.35259e+07</td>\n",
              "      <td>3001</td>\n",
              "      <td>337</td>\n",
              "      <td>63246</td>\n",
              "    </tr>\n",
              "    <tr>\n",
              "      <th>TaxiIn</th>\n",
              "      <td>1.32387e+07</td>\n",
              "      <td>511</td>\n",
              "      <td>4</td>\n",
              "      <td>1.71373e+06</td>\n",
              "    </tr>\n",
              "    <tr>\n",
              "      <th>TaxiOut</th>\n",
              "      <td>1.32668e+07</td>\n",
              "      <td>824</td>\n",
              "      <td>10</td>\n",
              "      <td>753546</td>\n",
              "    </tr>\n",
              "    <tr>\n",
              "      <th>Cancelled</th>\n",
              "      <td>1.35258e+07</td>\n",
              "      <td>268</td>\n",
              "      <td>0</td>\n",
              "      <td>1.05024e+07</td>\n",
              "    </tr>\n",
              "    <tr>\n",
              "      <th>CancellationCode</th>\n",
              "      <td>260189</td>\n",
              "      <td>260</td>\n",
              "      <td>B</td>\n",
              "      <td>103728</td>\n",
              "    </tr>\n",
              "    <tr>\n",
              "      <th>Diverted</th>\n",
              "      <td>1.35257e+07</td>\n",
              "      <td>247</td>\n",
              "      <td>0</td>\n",
              "      <td>1.04847e+07</td>\n",
              "    </tr>\n",
              "    <tr>\n",
              "      <th>CarrierDelay</th>\n",
              "      <td>2.92778e+06</td>\n",
              "      <td>1868</td>\n",
              "      <td>0</td>\n",
              "      <td>1.27646e+06</td>\n",
              "    </tr>\n",
              "    <tr>\n",
              "      <th>WeatherDelay</th>\n",
              "      <td>2.92777e+06</td>\n",
              "      <td>1193</td>\n",
              "      <td>0</td>\n",
              "      <td>2.11282e+06</td>\n",
              "    </tr>\n",
              "    <tr>\n",
              "      <th>NASDelay</th>\n",
              "      <td>2.92776e+06</td>\n",
              "      <td>1180</td>\n",
              "      <td>0</td>\n",
              "      <td>884994</td>\n",
              "    </tr>\n",
              "    <tr>\n",
              "      <th>SecurityDelay</th>\n",
              "      <td>2.92775e+06</td>\n",
              "      <td>423</td>\n",
              "      <td>0</td>\n",
              "      <td>2.33644e+06</td>\n",
              "    </tr>\n",
              "    <tr>\n",
              "      <th>LateAircraftDelay</th>\n",
              "      <td>2.92774e+06</td>\n",
              "      <td>1157</td>\n",
              "      <td>0</td>\n",
              "      <td>1.24659e+06</td>\n",
              "    </tr>\n",
              "  </tbody>\n",
              "</table>\n",
              "</div>"
            ],
            "text/plain": [
              "                         count unique        top         freq\n",
              "Date                  13526249    469  2008 7 18        42256\n",
              "Year                  13526245     46       2008     13526180\n",
              "Month                 13526223     62          7      1255860\n",
              "DayofMonth            13526216     93         14       452810\n",
              "DayOfWeek             13526211     95          5      1930644\n",
              "DepTime            1.32688e+07   2936        555        30210\n",
              "CRSDepTime            13526194   2483        600       223058\n",
              "ArrTime            1.32391e+07   2979       1020        14454\n",
              "CRSArrTime            13526153   2807       1800        40163\n",
              "UniqueCarrier         13526130    217         WN      2302041\n",
              "FlightNum             13526111  14965        152         8391\n",
              "TailNum               13367801   5608     N476HA         9033\n",
              "ActualElapsedTime  1.32329e+07   1507         80       103877\n",
              "CRSElapsedTime        13524441   1168         75       284405\n",
              "AirTime            1.32328e+07   1434         45       107499\n",
              "ArrDelay           1.32328e+07   2204         -5       326864\n",
              "DepDelay           1.32686e+07   2143         -5       861108\n",
              "Origin                13525919    533        ATL       801692\n",
              "Dest                  13525898    545        ATL       801715\n",
              "Distance           1.35259e+07   3001        337        63246\n",
              "TaxiIn             1.32387e+07    511          4  1.71373e+06\n",
              "TaxiOut            1.32668e+07    824         10       753546\n",
              "Cancelled          1.35258e+07    268          0  1.05024e+07\n",
              "CancellationCode        260189    260          B       103728\n",
              "Diverted           1.35257e+07    247          0  1.04847e+07\n",
              "CarrierDelay       2.92778e+06   1868          0  1.27646e+06\n",
              "WeatherDelay       2.92777e+06   1193          0  2.11282e+06\n",
              "NASDelay           2.92776e+06   1180          0       884994\n",
              "SecurityDelay      2.92775e+06    423          0  2.33644e+06\n",
              "LateAircraftDelay  2.92774e+06   1157          0  1.24659e+06"
            ]
          },
          "metadata": {
            "tags": []
          },
          "execution_count": 6
        }
      ]
    },
    {
      "cell_type": "markdown",
      "metadata": {
        "id": "dusnjV2ywlmy"
      },
      "source": [
        "## Sample n~1000"
      ]
    },
    {
      "cell_type": "code",
      "metadata": {
        "id": "ALFQbWvKM4Hu",
        "colab": {
          "base_uri": "https://localhost:8080/",
          "height": 1000
        },
        "outputId": "fd848af6-6bd2-4314-e6d0-9d59b9dbba85"
      },
      "source": [
        "df = df_pop.sample(frac = 0.0001)\n",
        "df['Date'] = pd.to_datetime(df['Date'], format='%Y-%m-%d')\n",
        "df.describe().transpose()"
      ],
      "execution_count": null,
      "outputs": [
        {
          "output_type": "stream",
          "text": [
            "/usr/local/lib/python3.6/dist-packages/ipykernel_launcher.py:3: FutureWarning: Treating datetime data as categorical rather than numeric in `.describe` is deprecated and will be removed in a future version of pandas. Specify `datetime_is_numeric=True` to silence this warning and adopt the future behavior now.\n",
            "  This is separate from the ipykernel package so we can avoid doing imports until\n"
          ],
          "name": "stderr"
        },
        {
          "output_type": "execute_result",
          "data": {
            "text/html": [
              "<div>\n",
              "<style scoped>\n",
              "    .dataframe tbody tr th:only-of-type {\n",
              "        vertical-align: middle;\n",
              "    }\n",
              "\n",
              "    .dataframe tbody tr th {\n",
              "        vertical-align: top;\n",
              "    }\n",
              "\n",
              "    .dataframe thead th {\n",
              "        text-align: right;\n",
              "    }\n",
              "</style>\n",
              "<table border=\"1\" class=\"dataframe\">\n",
              "  <thead>\n",
              "    <tr style=\"text-align: right;\">\n",
              "      <th></th>\n",
              "      <th>count</th>\n",
              "      <th>unique</th>\n",
              "      <th>top</th>\n",
              "      <th>freq</th>\n",
              "      <th>first</th>\n",
              "      <th>last</th>\n",
              "    </tr>\n",
              "  </thead>\n",
              "  <tbody>\n",
              "    <tr>\n",
              "      <th>Date</th>\n",
              "      <td>1353</td>\n",
              "      <td>356</td>\n",
              "      <td>2008-08-08 00:00:00</td>\n",
              "      <td>10</td>\n",
              "      <td>2008-01-01</td>\n",
              "      <td>2008-12-31</td>\n",
              "    </tr>\n",
              "    <tr>\n",
              "      <th>Year</th>\n",
              "      <td>1353</td>\n",
              "      <td>1</td>\n",
              "      <td>2008</td>\n",
              "      <td>1353</td>\n",
              "      <td>NaT</td>\n",
              "      <td>NaT</td>\n",
              "    </tr>\n",
              "    <tr>\n",
              "      <th>Month</th>\n",
              "      <td>1353</td>\n",
              "      <td>12</td>\n",
              "      <td>7</td>\n",
              "      <td>127</td>\n",
              "      <td>NaT</td>\n",
              "      <td>NaT</td>\n",
              "    </tr>\n",
              "    <tr>\n",
              "      <th>DayofMonth</th>\n",
              "      <td>1353</td>\n",
              "      <td>31</td>\n",
              "      <td>18</td>\n",
              "      <td>63</td>\n",
              "      <td>NaT</td>\n",
              "      <td>NaT</td>\n",
              "    </tr>\n",
              "    <tr>\n",
              "      <th>DayOfWeek</th>\n",
              "      <td>1353</td>\n",
              "      <td>14</td>\n",
              "      <td>4</td>\n",
              "      <td>209</td>\n",
              "      <td>NaT</td>\n",
              "      <td>NaT</td>\n",
              "    </tr>\n",
              "    <tr>\n",
              "      <th>DepTime</th>\n",
              "      <td>1333</td>\n",
              "      <td>808</td>\n",
              "      <td>600</td>\n",
              "      <td>8</td>\n",
              "      <td>NaT</td>\n",
              "      <td>NaT</td>\n",
              "    </tr>\n",
              "    <tr>\n",
              "      <th>CRSDepTime</th>\n",
              "      <td>1353</td>\n",
              "      <td>515</td>\n",
              "      <td>600</td>\n",
              "      <td>25</td>\n",
              "      <td>NaT</td>\n",
              "      <td>NaT</td>\n",
              "    </tr>\n",
              "    <tr>\n",
              "      <th>ArrTime</th>\n",
              "      <td>1330</td>\n",
              "      <td>850</td>\n",
              "      <td>1304</td>\n",
              "      <td>5</td>\n",
              "      <td>NaT</td>\n",
              "      <td>NaT</td>\n",
              "    </tr>\n",
              "    <tr>\n",
              "      <th>CRSArrTime</th>\n",
              "      <td>1353</td>\n",
              "      <td>779</td>\n",
              "      <td>1530</td>\n",
              "      <td>9</td>\n",
              "      <td>NaT</td>\n",
              "      <td>NaT</td>\n",
              "    </tr>\n",
              "    <tr>\n",
              "      <th>UniqueCarrier</th>\n",
              "      <td>1353</td>\n",
              "      <td>20</td>\n",
              "      <td>WN</td>\n",
              "      <td>228</td>\n",
              "      <td>NaT</td>\n",
              "      <td>NaT</td>\n",
              "    </tr>\n",
              "    <tr>\n",
              "      <th>FlightNum</th>\n",
              "      <td>1353</td>\n",
              "      <td>1179</td>\n",
              "      <td>426</td>\n",
              "      <td>5</td>\n",
              "      <td>NaT</td>\n",
              "      <td>NaT</td>\n",
              "    </tr>\n",
              "    <tr>\n",
              "      <th>TailNum</th>\n",
              "      <td>1339</td>\n",
              "      <td>1166</td>\n",
              "      <td>N711HK</td>\n",
              "      <td>4</td>\n",
              "      <td>NaT</td>\n",
              "      <td>NaT</td>\n",
              "    </tr>\n",
              "    <tr>\n",
              "      <th>ActualElapsedTime</th>\n",
              "      <td>1328</td>\n",
              "      <td>398</td>\n",
              "      <td>71</td>\n",
              "      <td>17</td>\n",
              "      <td>NaT</td>\n",
              "      <td>NaT</td>\n",
              "    </tr>\n",
              "    <tr>\n",
              "      <th>CRSElapsedTime</th>\n",
              "      <td>1353</td>\n",
              "      <td>387</td>\n",
              "      <td>70</td>\n",
              "      <td>30</td>\n",
              "      <td>NaT</td>\n",
              "      <td>NaT</td>\n",
              "    </tr>\n",
              "    <tr>\n",
              "      <th>AirTime</th>\n",
              "      <td>1328</td>\n",
              "      <td>393</td>\n",
              "      <td>67</td>\n",
              "      <td>16</td>\n",
              "      <td>NaT</td>\n",
              "      <td>NaT</td>\n",
              "    </tr>\n",
              "    <tr>\n",
              "      <th>ArrDelay</th>\n",
              "      <td>1328</td>\n",
              "      <td>228</td>\n",
              "      <td>-6</td>\n",
              "      <td>38</td>\n",
              "      <td>NaT</td>\n",
              "      <td>NaT</td>\n",
              "    </tr>\n",
              "    <tr>\n",
              "      <th>DepDelay</th>\n",
              "      <td>1333</td>\n",
              "      <td>181</td>\n",
              "      <td>-5</td>\n",
              "      <td>90</td>\n",
              "      <td>NaT</td>\n",
              "      <td>NaT</td>\n",
              "    </tr>\n",
              "    <tr>\n",
              "      <th>Origin</th>\n",
              "      <td>1353</td>\n",
              "      <td>180</td>\n",
              "      <td>ATL</td>\n",
              "      <td>79</td>\n",
              "      <td>NaT</td>\n",
              "      <td>NaT</td>\n",
              "    </tr>\n",
              "    <tr>\n",
              "      <th>Dest</th>\n",
              "      <td>1353</td>\n",
              "      <td>173</td>\n",
              "      <td>ORD</td>\n",
              "      <td>79</td>\n",
              "      <td>NaT</td>\n",
              "      <td>NaT</td>\n",
              "    </tr>\n",
              "    <tr>\n",
              "      <th>Distance</th>\n",
              "      <td>1353</td>\n",
              "      <td>822</td>\n",
              "      <td>399</td>\n",
              "      <td>11</td>\n",
              "      <td>NaT</td>\n",
              "      <td>NaT</td>\n",
              "    </tr>\n",
              "    <tr>\n",
              "      <th>TaxiIn</th>\n",
              "      <td>1330</td>\n",
              "      <td>56</td>\n",
              "      <td>5</td>\n",
              "      <td>162</td>\n",
              "      <td>NaT</td>\n",
              "      <td>NaT</td>\n",
              "    </tr>\n",
              "    <tr>\n",
              "      <th>TaxiOut</th>\n",
              "      <td>1333</td>\n",
              "      <td>103</td>\n",
              "      <td>12</td>\n",
              "      <td>83</td>\n",
              "      <td>NaT</td>\n",
              "      <td>NaT</td>\n",
              "    </tr>\n",
              "    <tr>\n",
              "      <th>Cancelled</th>\n",
              "      <td>1353</td>\n",
              "      <td>4</td>\n",
              "      <td>0</td>\n",
              "      <td>1053</td>\n",
              "      <td>NaT</td>\n",
              "      <td>NaT</td>\n",
              "    </tr>\n",
              "    <tr>\n",
              "      <th>CancellationCode</th>\n",
              "      <td>20</td>\n",
              "      <td>3</td>\n",
              "      <td>A</td>\n",
              "      <td>13</td>\n",
              "      <td>NaT</td>\n",
              "      <td>NaT</td>\n",
              "    </tr>\n",
              "    <tr>\n",
              "      <th>Diverted</th>\n",
              "      <td>1353</td>\n",
              "      <td>4</td>\n",
              "      <td>0</td>\n",
              "      <td>1057</td>\n",
              "      <td>NaT</td>\n",
              "      <td>NaT</td>\n",
              "    </tr>\n",
              "    <tr>\n",
              "      <th>CarrierDelay</th>\n",
              "      <td>282</td>\n",
              "      <td>73</td>\n",
              "      <td>0</td>\n",
              "      <td>129</td>\n",
              "      <td>NaT</td>\n",
              "      <td>NaT</td>\n",
              "    </tr>\n",
              "    <tr>\n",
              "      <th>WeatherDelay</th>\n",
              "      <td>282</td>\n",
              "      <td>11</td>\n",
              "      <td>0</td>\n",
              "      <td>214</td>\n",
              "      <td>NaT</td>\n",
              "      <td>NaT</td>\n",
              "    </tr>\n",
              "    <tr>\n",
              "      <th>NASDelay</th>\n",
              "      <td>282</td>\n",
              "      <td>90</td>\n",
              "      <td>0</td>\n",
              "      <td>79</td>\n",
              "      <td>NaT</td>\n",
              "      <td>NaT</td>\n",
              "    </tr>\n",
              "    <tr>\n",
              "      <th>SecurityDelay</th>\n",
              "      <td>282</td>\n",
              "      <td>2</td>\n",
              "      <td>0</td>\n",
              "      <td>222</td>\n",
              "      <td>NaT</td>\n",
              "      <td>NaT</td>\n",
              "    </tr>\n",
              "    <tr>\n",
              "      <th>LateAircraftDelay</th>\n",
              "      <td>282</td>\n",
              "      <td>78</td>\n",
              "      <td>0</td>\n",
              "      <td>118</td>\n",
              "      <td>NaT</td>\n",
              "      <td>NaT</td>\n",
              "    </tr>\n",
              "  </tbody>\n",
              "</table>\n",
              "</div>"
            ],
            "text/plain": [
              "                  count unique                  top  freq      first       last\n",
              "Date               1353    356  2008-08-08 00:00:00    10 2008-01-01 2008-12-31\n",
              "Year               1353      1                 2008  1353        NaT        NaT\n",
              "Month              1353     12                    7   127        NaT        NaT\n",
              "DayofMonth         1353     31                   18    63        NaT        NaT\n",
              "DayOfWeek          1353     14                    4   209        NaT        NaT\n",
              "DepTime            1333    808                  600     8        NaT        NaT\n",
              "CRSDepTime         1353    515                  600    25        NaT        NaT\n",
              "ArrTime            1330    850                 1304     5        NaT        NaT\n",
              "CRSArrTime         1353    779                 1530     9        NaT        NaT\n",
              "UniqueCarrier      1353     20                   WN   228        NaT        NaT\n",
              "FlightNum          1353   1179                  426     5        NaT        NaT\n",
              "TailNum            1339   1166               N711HK     4        NaT        NaT\n",
              "ActualElapsedTime  1328    398                   71    17        NaT        NaT\n",
              "CRSElapsedTime     1353    387                   70    30        NaT        NaT\n",
              "AirTime            1328    393                   67    16        NaT        NaT\n",
              "ArrDelay           1328    228                   -6    38        NaT        NaT\n",
              "DepDelay           1333    181                   -5    90        NaT        NaT\n",
              "Origin             1353    180                  ATL    79        NaT        NaT\n",
              "Dest               1353    173                  ORD    79        NaT        NaT\n",
              "Distance           1353    822                  399    11        NaT        NaT\n",
              "TaxiIn             1330     56                    5   162        NaT        NaT\n",
              "TaxiOut            1333    103                   12    83        NaT        NaT\n",
              "Cancelled          1353      4                    0  1053        NaT        NaT\n",
              "CancellationCode     20      3                    A    13        NaT        NaT\n",
              "Diverted           1353      4                    0  1057        NaT        NaT\n",
              "CarrierDelay        282     73                    0   129        NaT        NaT\n",
              "WeatherDelay        282     11                    0   214        NaT        NaT\n",
              "NASDelay            282     90                    0    79        NaT        NaT\n",
              "SecurityDelay       282      2                    0   222        NaT        NaT\n",
              "LateAircraftDelay   282     78                    0   118        NaT        NaT"
            ]
          },
          "metadata": {
            "tags": []
          },
          "execution_count": 7
        }
      ]
    },
    {
      "cell_type": "code",
      "metadata": {
        "id": "tjALiRomgayY",
        "colab": {
          "base_uri": "https://localhost:8080/",
          "height": 213
        },
        "outputId": "ef96a26c-fa34-45ab-b452-3e49121b188f"
      },
      "source": [
        "df.head(3)"
      ],
      "execution_count": null,
      "outputs": [
        {
          "output_type": "execute_result",
          "data": {
            "text/html": [
              "<div>\n",
              "<style scoped>\n",
              "    .dataframe tbody tr th:only-of-type {\n",
              "        vertical-align: middle;\n",
              "    }\n",
              "\n",
              "    .dataframe tbody tr th {\n",
              "        vertical-align: top;\n",
              "    }\n",
              "\n",
              "    .dataframe thead th {\n",
              "        text-align: right;\n",
              "    }\n",
              "</style>\n",
              "<table border=\"1\" class=\"dataframe\">\n",
              "  <thead>\n",
              "    <tr style=\"text-align: right;\">\n",
              "      <th></th>\n",
              "      <th>Date</th>\n",
              "      <th>Year</th>\n",
              "      <th>Month</th>\n",
              "      <th>DayofMonth</th>\n",
              "      <th>DayOfWeek</th>\n",
              "      <th>DepTime</th>\n",
              "      <th>CRSDepTime</th>\n",
              "      <th>ArrTime</th>\n",
              "      <th>CRSArrTime</th>\n",
              "      <th>UniqueCarrier</th>\n",
              "      <th>FlightNum</th>\n",
              "      <th>TailNum</th>\n",
              "      <th>ActualElapsedTime</th>\n",
              "      <th>CRSElapsedTime</th>\n",
              "      <th>AirTime</th>\n",
              "      <th>ArrDelay</th>\n",
              "      <th>DepDelay</th>\n",
              "      <th>Origin</th>\n",
              "      <th>Dest</th>\n",
              "      <th>Distance</th>\n",
              "      <th>TaxiIn</th>\n",
              "      <th>TaxiOut</th>\n",
              "      <th>Cancelled</th>\n",
              "      <th>CancellationCode</th>\n",
              "      <th>Diverted</th>\n",
              "      <th>CarrierDelay</th>\n",
              "      <th>WeatherDelay</th>\n",
              "      <th>NASDelay</th>\n",
              "      <th>SecurityDelay</th>\n",
              "      <th>LateAircraftDelay</th>\n",
              "    </tr>\n",
              "  </thead>\n",
              "  <tbody>\n",
              "    <tr>\n",
              "      <th>9224168</th>\n",
              "      <td>2008-08-08</td>\n",
              "      <td>2008</td>\n",
              "      <td>8</td>\n",
              "      <td>8</td>\n",
              "      <td>5</td>\n",
              "      <td>1500</td>\n",
              "      <td>1505</td>\n",
              "      <td>2313</td>\n",
              "      <td>2315</td>\n",
              "      <td>HA</td>\n",
              "      <td>40</td>\n",
              "      <td>N580HA</td>\n",
              "      <td>313</td>\n",
              "      <td>310</td>\n",
              "      <td>299</td>\n",
              "      <td>-2</td>\n",
              "      <td>-5</td>\n",
              "      <td>OGG</td>\n",
              "      <td>PDX</td>\n",
              "      <td>2562</td>\n",
              "      <td>6</td>\n",
              "      <td>8</td>\n",
              "      <td>0</td>\n",
              "      <td>NaN</td>\n",
              "      <td>0</td>\n",
              "      <td>NaN</td>\n",
              "      <td>NaN</td>\n",
              "      <td>NaN</td>\n",
              "      <td>NaN</td>\n",
              "      <td>NaN</td>\n",
              "    </tr>\n",
              "    <tr>\n",
              "      <th>3137844</th>\n",
              "      <td>2008-03-22</td>\n",
              "      <td>2008</td>\n",
              "      <td>3</td>\n",
              "      <td>22</td>\n",
              "      <td>6</td>\n",
              "      <td>1632</td>\n",
              "      <td>1640</td>\n",
              "      <td>1748</td>\n",
              "      <td>1800</td>\n",
              "      <td>MQ</td>\n",
              "      <td>3627</td>\n",
              "      <td>N800AE</td>\n",
              "      <td>76</td>\n",
              "      <td>80</td>\n",
              "      <td>55</td>\n",
              "      <td>-12</td>\n",
              "      <td>-8</td>\n",
              "      <td>DFW</td>\n",
              "      <td>CRP</td>\n",
              "      <td>354</td>\n",
              "      <td>5</td>\n",
              "      <td>16</td>\n",
              "      <td>0</td>\n",
              "      <td>NaN</td>\n",
              "      <td>0</td>\n",
              "      <td>NaN</td>\n",
              "      <td>NaN</td>\n",
              "      <td>NaN</td>\n",
              "      <td>NaN</td>\n",
              "      <td>NaN</td>\n",
              "    </tr>\n",
              "    <tr>\n",
              "      <th>4120909</th>\n",
              "      <td>2008-04-18</td>\n",
              "      <td>2008</td>\n",
              "      <td>4</td>\n",
              "      <td>18</td>\n",
              "      <td>5</td>\n",
              "      <td>1532</td>\n",
              "      <td>1530</td>\n",
              "      <td>1647</td>\n",
              "      <td>1650</td>\n",
              "      <td>US</td>\n",
              "      <td>701</td>\n",
              "      <td>N589US</td>\n",
              "      <td>135</td>\n",
              "      <td>140</td>\n",
              "      <td>99</td>\n",
              "      <td>-3</td>\n",
              "      <td>2</td>\n",
              "      <td>PHL</td>\n",
              "      <td>ORD</td>\n",
              "      <td>678</td>\n",
              "      <td>24</td>\n",
              "      <td>12</td>\n",
              "      <td>0</td>\n",
              "      <td>NaN</td>\n",
              "      <td>0</td>\n",
              "      <td>NaN</td>\n",
              "      <td>NaN</td>\n",
              "      <td>NaN</td>\n",
              "      <td>NaN</td>\n",
              "      <td>NaN</td>\n",
              "    </tr>\n",
              "  </tbody>\n",
              "</table>\n",
              "</div>"
            ],
            "text/plain": [
              "              Date  Year Month  ... NASDelay SecurityDelay LateAircraftDelay\n",
              "9224168 2008-08-08  2008     8  ...      NaN           NaN               NaN\n",
              "3137844 2008-03-22  2008     3  ...      NaN           NaN               NaN\n",
              "4120909 2008-04-18  2008     4  ...      NaN           NaN               NaN\n",
              "\n",
              "[3 rows x 30 columns]"
            ]
          },
          "metadata": {
            "tags": []
          },
          "execution_count": 8
        }
      ]
    },
    {
      "cell_type": "code",
      "metadata": {
        "id": "-yWiAuFX42YW",
        "colab": {
          "base_uri": "https://localhost:8080/"
        },
        "outputId": "828d8b9a-c50c-4e2f-ea07-9c720a6908b1"
      },
      "source": [
        "# Check data type >> need conversion\n",
        "df.info()"
      ],
      "execution_count": null,
      "outputs": [
        {
          "output_type": "stream",
          "text": [
            "<class 'pandas.core.frame.DataFrame'>\n",
            "Int64Index: 1353 entries, 9224168 to 7782340\n",
            "Data columns (total 30 columns):\n",
            " #   Column             Non-Null Count  Dtype         \n",
            "---  ------             --------------  -----         \n",
            " 0   Date               1353 non-null   datetime64[ns]\n",
            " 1   Year               1353 non-null   object        \n",
            " 2   Month              1353 non-null   object        \n",
            " 3   DayofMonth         1353 non-null   object        \n",
            " 4   DayOfWeek          1353 non-null   object        \n",
            " 5   DepTime            1333 non-null   object        \n",
            " 6   CRSDepTime         1353 non-null   object        \n",
            " 7   ArrTime            1330 non-null   object        \n",
            " 8   CRSArrTime         1353 non-null   object        \n",
            " 9   UniqueCarrier      1353 non-null   object        \n",
            " 10  FlightNum          1353 non-null   object        \n",
            " 11  TailNum            1339 non-null   object        \n",
            " 12  ActualElapsedTime  1328 non-null   object        \n",
            " 13  CRSElapsedTime     1353 non-null   object        \n",
            " 14  AirTime            1328 non-null   object        \n",
            " 15  ArrDelay           1328 non-null   object        \n",
            " 16  DepDelay           1333 non-null   object        \n",
            " 17  Origin             1353 non-null   object        \n",
            " 18  Dest               1353 non-null   object        \n",
            " 19  Distance           1353 non-null   object        \n",
            " 20  TaxiIn             1330 non-null   object        \n",
            " 21  TaxiOut            1333 non-null   object        \n",
            " 22  Cancelled          1353 non-null   object        \n",
            " 23  CancellationCode   20 non-null     object        \n",
            " 24  Diverted           1353 non-null   object        \n",
            " 25  CarrierDelay       282 non-null    object        \n",
            " 26  WeatherDelay       282 non-null    object        \n",
            " 27  NASDelay           282 non-null    object        \n",
            " 28  SecurityDelay      282 non-null    object        \n",
            " 29  LateAircraftDelay  282 non-null    object        \n",
            "dtypes: datetime64[ns](1), object(29)\n",
            "memory usage: 327.7+ KB\n"
          ],
          "name": "stdout"
        }
      ]
    },
    {
      "cell_type": "code",
      "metadata": {
        "id": "OXd9Exl85Quc"
      },
      "source": [
        "# Convert data types\n",
        "df[['DepTime','CRSDepTime','ArrTime','CRSArrTime']] = df[['DepTime','CRSDepTime','ArrTime','CRSArrTime']].astype(float)\n",
        "df[['ActualElapsedTime','CRSElapsedTime','AirTime','ArrDelay','DepDelay']] = df[['ActualElapsedTime','CRSElapsedTime','AirTime','ArrDelay','DepDelay']].astype(float)\n",
        "df[['Distance','TaxiIn','TaxiOut']] = df[['Distance','TaxiIn','TaxiOut']].astype(float)\n",
        "df[['Cancelled','Diverted']] = df[['Cancelled','Diverted']].astype(int)"
      ],
      "execution_count": null,
      "outputs": []
    },
    {
      "cell_type": "code",
      "metadata": {
        "id": "d1Yx_K2y54db",
        "colab": {
          "base_uri": "https://localhost:8080/"
        },
        "outputId": "abc1dac0-e129-42bd-881a-39370e8efbd0"
      },
      "source": [
        "# Data types after conversion\n",
        "df.info()"
      ],
      "execution_count": null,
      "outputs": [
        {
          "output_type": "stream",
          "text": [
            "<class 'pandas.core.frame.DataFrame'>\n",
            "Int64Index: 1353 entries, 1096278 to 2521431\n",
            "Data columns (total 30 columns):\n",
            " #   Column             Non-Null Count  Dtype         \n",
            "---  ------             --------------  -----         \n",
            " 0   Date               1353 non-null   datetime64[ns]\n",
            " 1   Year               1353 non-null   object        \n",
            " 2   Month              1353 non-null   object        \n",
            " 3   DayofMonth         1353 non-null   object        \n",
            " 4   DayOfWeek          1353 non-null   object        \n",
            " 5   DepTime            1326 non-null   float64       \n",
            " 6   CRSDepTime         1353 non-null   float64       \n",
            " 7   ArrTime            1322 non-null   float64       \n",
            " 8   CRSArrTime         1353 non-null   float64       \n",
            " 9   UniqueCarrier      1353 non-null   object        \n",
            " 10  FlightNum          1353 non-null   object        \n",
            " 11  TailNum            1353 non-null   object        \n",
            " 12  ActualElapsedTime  1322 non-null   float64       \n",
            " 13  CRSElapsedTime     1353 non-null   float64       \n",
            " 14  AirTime            1322 non-null   float64       \n",
            " 15  ArrDelay           1322 non-null   float64       \n",
            " 16  DepDelay           1326 non-null   float64       \n",
            " 17  Origin             1353 non-null   object        \n",
            " 18  Dest               1353 non-null   object        \n",
            " 19  Distance           1353 non-null   float64       \n",
            " 20  TaxiIn             1322 non-null   float64       \n",
            " 21  TaxiOut            1326 non-null   float64       \n",
            " 22  Cancelled          1353 non-null   int64         \n",
            " 23  CancellationCode   27 non-null     object        \n",
            " 24  Diverted           1353 non-null   int64         \n",
            " 25  CarrierDelay       283 non-null    float64       \n",
            " 26  WeatherDelay       283 non-null    float64       \n",
            " 27  NASDelay           283 non-null    float64       \n",
            " 28  SecurityDelay      283 non-null    float64       \n",
            " 29  LateAircraftDelay  283 non-null    float64       \n",
            "dtypes: datetime64[ns](1), float64(17), int64(2), object(10)\n",
            "memory usage: 327.7+ KB\n"
          ],
          "name": "stdout"
        }
      ]
    },
    {
      "cell_type": "markdown",
      "metadata": {
        "id": "HzshkGRswHTz"
      },
      "source": [
        "# EXERCISE\n",
        "Using one (or more) subsamples of the dataframe of flights, generate a meaningful example for each of the following tests and procedures:\n",
        "\n",
        "1. Chi-squared test\n",
        "2. T-test for independent samples\n",
        "3. T-test for paired data\n",
        "4. ANOVA (compare multiple means)\n",
        "5. Confidence interval for the mean\n",
        "6. Test if the data is normally distributed (one of the main assumptions, most of the times is not satisfied...)\n",
        "7. (EXTRA) What is bootstrap?!"
      ]
    },
    {
      "cell_type": "code",
      "metadata": {
        "id": "7zVnF0310m2V"
      },
      "source": [
        "import numpy as np\n",
        "import matplotlib.pyplot as plt\n",
        "%matplotlib inline"
      ],
      "execution_count": null,
      "outputs": []
    },
    {
      "cell_type": "code",
      "metadata": {
        "id": "b_PiM3go5iru"
      },
      "source": [
        "# Function to check significance\n",
        "def sigtest(p,confidence=0.95):\n",
        "  if p < (1-confidence):\n",
        "    print(f\"Result is significant at {confidence} confidence level: we accept H1\")\n",
        "  else:\n",
        "    print(f\"Result is not significant at {confidence} confidence level: we accept H0\")"
      ],
      "execution_count": null,
      "outputs": []
    },
    {
      "cell_type": "markdown",
      "metadata": {
        "id": "dEKEbr45wQut"
      },
      "source": [
        "## 1. Chi-squared test\n",
        "Question : are busier airports more likely to have delays?\n",
        "\n",
        "Approach :\n",
        "* Identify busy airports : airports with more departures\n",
        "* Categorize delays : > 15 mins will be considered delayed\n",
        "* Contingency table : airport size (busy/other) x delay (on time/delayed)"
      ]
    },
    {
      "cell_type": "code",
      "metadata": {
        "id": "AGR_4KglzGIy",
        "colab": {
          "base_uri": "https://localhost:8080/",
          "height": 483
        },
        "outputId": "61011aa4-fe31-4bcc-f80c-693a1fe0d553"
      },
      "source": [
        "# Check for busiest airports : big difference between Top 3 and the rest\n",
        "# Busiest airports are : Atlanta (ATL), Chicago O'Hare (ORD) and Dallas-Fortworth (DFW)\n",
        "print(df['Origin'].value_counts().head(10))\n",
        "df['Origin'].value_counts().head(30).plot.bar()"
      ],
      "execution_count": null,
      "outputs": [
        {
          "output_type": "stream",
          "text": [
            "ATL    79\n",
            "ORD    60\n",
            "DEN    59\n",
            "DFW    58\n",
            "IAH    42\n",
            "LAX    42\n",
            "LAS    32\n",
            "MCO    31\n",
            "PHX    30\n",
            "DTW    28\n",
            "Name: Origin, dtype: int64\n"
          ],
          "name": "stdout"
        },
        {
          "output_type": "execute_result",
          "data": {
            "text/plain": [
              "<matplotlib.axes._subplots.AxesSubplot at 0x7f419d56c390>"
            ]
          },
          "metadata": {
            "tags": []
          },
          "execution_count": 13
        },
        {
          "output_type": "display_data",
          "data": {
            "image/png": "[encoded data removed]",
            "text/plain": [
              "<Figure size 432x288 with 1 Axes>"
            ]
          },
          "metadata": {
            "tags": [],
            "needs_background": "light"
          }
        }
      ]
    },
    {
      "cell_type": "code",
      "metadata": {
        "id": "qlOgYoOz2Ncy",
        "colab": {
          "base_uri": "https://localhost:8080/"
        },
        "outputId": "041559e1-d70a-44f2-bdea-f10c63cb9d29"
      },
      "source": [
        "# Top 3 busiest airport accounts for 208 flights, or about 15% of all flights\n",
        "print(\"Nb of flights from Top 3 airports:\",df['Origin'].value_counts().head(3).sum())\n",
        "print(\"Rest of flights:\",(len(df['Origin']))-df['Origin'].value_counts().head(3).sum())"
      ],
      "execution_count": null,
      "outputs": [
        {
          "output_type": "stream",
          "text": [
            "Nb of flights from Top 3 airports: 198\n",
            "Rest of flights: 1155\n"
          ],
          "name": "stdout"
        }
      ]
    },
    {
      "cell_type": "code",
      "metadata": {
        "id": "d23H73ZA3niC",
        "colab": {
          "base_uri": "https://localhost:8080/",
          "height": 282
        },
        "outputId": "aed4c792-3fea-4459-b4a6-710f89b51d20"
      },
      "source": [
        "# Check for delay\n",
        "df.DepDelay.plot.hist(bins=20)"
      ],
      "execution_count": null,
      "outputs": [
        {
          "output_type": "execute_result",
          "data": {
            "text/plain": [
              "<matplotlib.axes._subplots.AxesSubplot at 0x7f4027fe95f8>"
            ]
          },
          "metadata": {
            "tags": []
          },
          "execution_count": 15
        },
        {
          "output_type": "display_data",
          "data": {
            "image/png": "[encoded data removed]",
            "text/plain": [
              "<Figure size 432x288 with 1 Axes>"
            ]
          },
          "metadata": {
            "tags": [],
            "needs_background": "light"
          }
        }
      ]
    },
    {
      "cell_type": "code",
      "metadata": {
        "id": "x3oOj0ik_ayt",
        "colab": {
          "base_uri": "https://localhost:8080/"
        },
        "outputId": "9ee6e91b-d3e9-437a-8342-c82f507db685"
      },
      "source": [
        "# Total flights with over 15min delay vs. the Rest >> for grouping\n",
        "print(\"Nb of flights with over 15min delay:\",len(df[df['DepDelay'] > 15]))\n",
        "print(\"Rest of flights:\",(len(df['Origin']))-(len(df[df['DepDelay'] > 15])))"
      ],
      "execution_count": null,
      "outputs": [
        {
          "output_type": "stream",
          "text": [
            "Nb of flights with over 15min delay: 236\n",
            "Rest of flights: 1117\n"
          ],
          "name": "stdout"
        }
      ]
    },
    {
      "cell_type": "code",
      "metadata": {
        "id": "PJ1Eeo9UBotu",
        "colab": {
          "base_uri": "https://localhost:8080/",
          "height": 419
        },
        "outputId": "e89c8447-2d50-465d-e780-a69662a83a85"
      },
      "source": [
        "df_chi = df[['DepDelay','Origin']].copy()\n",
        "df_chi"
      ],
      "execution_count": null,
      "outputs": [
        {
          "output_type": "execute_result",
          "data": {
            "text/html": [
              "<div>\n",
              "<style scoped>\n",
              "    .dataframe tbody tr th:only-of-type {\n",
              "        vertical-align: middle;\n",
              "    }\n",
              "\n",
              "    .dataframe tbody tr th {\n",
              "        vertical-align: top;\n",
              "    }\n",
              "\n",
              "    .dataframe thead th {\n",
              "        text-align: right;\n",
              "    }\n",
              "</style>\n",
              "<table border=\"1\" class=\"dataframe\">\n",
              "  <thead>\n",
              "    <tr style=\"text-align: right;\">\n",
              "      <th></th>\n",
              "      <th>DepDelay</th>\n",
              "      <th>Origin</th>\n",
              "    </tr>\n",
              "  </thead>\n",
              "  <tbody>\n",
              "    <tr>\n",
              "      <th>9224168</th>\n",
              "      <td>-5.0</td>\n",
              "      <td>OGG</td>\n",
              "    </tr>\n",
              "    <tr>\n",
              "      <th>3137844</th>\n",
              "      <td>-8.0</td>\n",
              "      <td>DFW</td>\n",
              "    </tr>\n",
              "    <tr>\n",
              "      <th>4120909</th>\n",
              "      <td>2.0</td>\n",
              "      <td>PHL</td>\n",
              "    </tr>\n",
              "    <tr>\n",
              "      <th>731882</th>\n",
              "      <td>1.0</td>\n",
              "      <td>CAK</td>\n",
              "    </tr>\n",
              "    <tr>\n",
              "      <th>2281987</th>\n",
              "      <td>-1.0</td>\n",
              "      <td>MSP</td>\n",
              "    </tr>\n",
              "    <tr>\n",
              "      <th>...</th>\n",
              "      <td>...</td>\n",
              "      <td>...</td>\n",
              "    </tr>\n",
              "    <tr>\n",
              "      <th>3326710</th>\n",
              "      <td>-3.0</td>\n",
              "      <td>STL</td>\n",
              "    </tr>\n",
              "    <tr>\n",
              "      <th>2094112</th>\n",
              "      <td>6.0</td>\n",
              "      <td>ATL</td>\n",
              "    </tr>\n",
              "    <tr>\n",
              "      <th>12637093</th>\n",
              "      <td>-9.0</td>\n",
              "      <td>BOS</td>\n",
              "    </tr>\n",
              "    <tr>\n",
              "      <th>3984064</th>\n",
              "      <td>-3.0</td>\n",
              "      <td>PDX</td>\n",
              "    </tr>\n",
              "    <tr>\n",
              "      <th>7782340</th>\n",
              "      <td>0.0</td>\n",
              "      <td>MYR</td>\n",
              "    </tr>\n",
              "  </tbody>\n",
              "</table>\n",
              "<p>1353 rows × 2 columns</p>\n",
              "</div>"
            ],
            "text/plain": [
              "          DepDelay Origin\n",
              "9224168       -5.0    OGG\n",
              "3137844       -8.0    DFW\n",
              "4120909        2.0    PHL\n",
              "731882         1.0    CAK\n",
              "2281987       -1.0    MSP\n",
              "...            ...    ...\n",
              "3326710       -3.0    STL\n",
              "2094112        6.0    ATL\n",
              "12637093      -9.0    BOS\n",
              "3984064       -3.0    PDX\n",
              "7782340        0.0    MYR\n",
              "\n",
              "[1353 rows x 2 columns]"
            ]
          },
          "metadata": {
            "tags": []
          },
          "execution_count": 17
        }
      ]
    },
    {
      "cell_type": "code",
      "metadata": {
        "id": "NVvmTh05CVI7",
        "colab": {
          "base_uri": "https://localhost:8080/",
          "height": 419
        },
        "outputId": "7237fe99-3973-4653-b73c-e4464a2b55be"
      },
      "source": [
        "df_chi['DepDelayGr'] = np.where(df_chi.DepDelay > 15, 'Over 15min delay', 'Not delayed')\n",
        "df_chi"
      ],
      "execution_count": null,
      "outputs": [
        {
          "output_type": "execute_result",
          "data": {
            "text/html": [
              "<div>\n",
              "<style scoped>\n",
              "    .dataframe tbody tr th:only-of-type {\n",
              "        vertical-align: middle;\n",
              "    }\n",
              "\n",
              "    .dataframe tbody tr th {\n",
              "        vertical-align: top;\n",
              "    }\n",
              "\n",
              "    .dataframe thead th {\n",
              "        text-align: right;\n",
              "    }\n",
              "</style>\n",
              "<table border=\"1\" class=\"dataframe\">\n",
              "  <thead>\n",
              "    <tr style=\"text-align: right;\">\n",
              "      <th></th>\n",
              "      <th>DepDelay</th>\n",
              "      <th>Origin</th>\n",
              "      <th>DepDelayGr</th>\n",
              "    </tr>\n",
              "  </thead>\n",
              "  <tbody>\n",
              "    <tr>\n",
              "      <th>9224168</th>\n",
              "      <td>-5.0</td>\n",
              "      <td>OGG</td>\n",
              "      <td>Not delayed</td>\n",
              "    </tr>\n",
              "    <tr>\n",
              "      <th>3137844</th>\n",
              "      <td>-8.0</td>\n",
              "      <td>DFW</td>\n",
              "      <td>Not delayed</td>\n",
              "    </tr>\n",
              "    <tr>\n",
              "      <th>4120909</th>\n",
              "      <td>2.0</td>\n",
              "      <td>PHL</td>\n",
              "      <td>Not delayed</td>\n",
              "    </tr>\n",
              "    <tr>\n",
              "      <th>731882</th>\n",
              "      <td>1.0</td>\n",
              "      <td>CAK</td>\n",
              "      <td>Not delayed</td>\n",
              "    </tr>\n",
              "    <tr>\n",
              "      <th>2281987</th>\n",
              "      <td>-1.0</td>\n",
              "      <td>MSP</td>\n",
              "      <td>Not delayed</td>\n",
              "    </tr>\n",
              "    <tr>\n",
              "      <th>...</th>\n",
              "      <td>...</td>\n",
              "      <td>...</td>\n",
              "      <td>...</td>\n",
              "    </tr>\n",
              "    <tr>\n",
              "      <th>3326710</th>\n",
              "      <td>-3.0</td>\n",
              "      <td>STL</td>\n",
              "      <td>Not delayed</td>\n",
              "    </tr>\n",
              "    <tr>\n",
              "      <th>2094112</th>\n",
              "      <td>6.0</td>\n",
              "      <td>ATL</td>\n",
              "      <td>Not delayed</td>\n",
              "    </tr>\n",
              "    <tr>\n",
              "      <th>12637093</th>\n",
              "      <td>-9.0</td>\n",
              "      <td>BOS</td>\n",
              "      <td>Not delayed</td>\n",
              "    </tr>\n",
              "    <tr>\n",
              "      <th>3984064</th>\n",
              "      <td>-3.0</td>\n",
              "      <td>PDX</td>\n",
              "      <td>Not delayed</td>\n",
              "    </tr>\n",
              "    <tr>\n",
              "      <th>7782340</th>\n",
              "      <td>0.0</td>\n",
              "      <td>MYR</td>\n",
              "      <td>Not delayed</td>\n",
              "    </tr>\n",
              "  </tbody>\n",
              "</table>\n",
              "<p>1353 rows × 3 columns</p>\n",
              "</div>"
            ],
            "text/plain": [
              "          DepDelay Origin   DepDelayGr\n",
              "9224168       -5.0    OGG  Not delayed\n",
              "3137844       -8.0    DFW  Not delayed\n",
              "4120909        2.0    PHL  Not delayed\n",
              "731882         1.0    CAK  Not delayed\n",
              "2281987       -1.0    MSP  Not delayed\n",
              "...            ...    ...          ...\n",
              "3326710       -3.0    STL  Not delayed\n",
              "2094112        6.0    ATL  Not delayed\n",
              "12637093      -9.0    BOS  Not delayed\n",
              "3984064       -3.0    PDX  Not delayed\n",
              "7782340        0.0    MYR  Not delayed\n",
              "\n",
              "[1353 rows x 3 columns]"
            ]
          },
          "metadata": {
            "tags": []
          },
          "execution_count": 18
        }
      ]
    },
    {
      "cell_type": "code",
      "metadata": {
        "id": "VB1zsYYaDe4X"
      },
      "source": [
        "# Recode origin into two groups: top 3 vs. not top 3 \n",
        "df_chi['OriginGr'] = 'Not Top 3'\n",
        "df_chi['OriginGr'] = np.where(df_chi.Origin == 'ATL', 'Top3', df_chi.OriginGr)\n",
        "df_chi['OriginGr'] = np.where(df_chi.Origin == 'ORD', 'Top3', df_chi.OriginGr)\n",
        "df_chi['OriginGr'] = np.where(df_chi.Origin == 'DFW', 'Top3', df_chi.OriginGr)"
      ],
      "execution_count": null,
      "outputs": []
    },
    {
      "cell_type": "code",
      "metadata": {
        "id": "rZ1AUXbiEzl_",
        "colab": {
          "base_uri": "https://localhost:8080/",
          "height": 419
        },
        "outputId": "a987f36f-94f6-4451-87cc-c53982240898"
      },
      "source": [
        "df_chi[df_chi['OriginGr'] == 'Top3']"
      ],
      "execution_count": null,
      "outputs": [
        {
          "output_type": "execute_result",
          "data": {
            "text/html": [
              "<div>\n",
              "<style scoped>\n",
              "    .dataframe tbody tr th:only-of-type {\n",
              "        vertical-align: middle;\n",
              "    }\n",
              "\n",
              "    .dataframe tbody tr th {\n",
              "        vertical-align: top;\n",
              "    }\n",
              "\n",
              "    .dataframe thead th {\n",
              "        text-align: right;\n",
              "    }\n",
              "</style>\n",
              "<table border=\"1\" class=\"dataframe\">\n",
              "  <thead>\n",
              "    <tr style=\"text-align: right;\">\n",
              "      <th></th>\n",
              "      <th>DepDelay</th>\n",
              "      <th>Origin</th>\n",
              "      <th>DepDelayGr</th>\n",
              "      <th>OriginGr</th>\n",
              "    </tr>\n",
              "  </thead>\n",
              "  <tbody>\n",
              "    <tr>\n",
              "      <th>3137844</th>\n",
              "      <td>-8.0</td>\n",
              "      <td>DFW</td>\n",
              "      <td>Not delayed</td>\n",
              "      <td>Top3</td>\n",
              "    </tr>\n",
              "    <tr>\n",
              "      <th>4140297</th>\n",
              "      <td>-7.0</td>\n",
              "      <td>ORD</td>\n",
              "      <td>Not delayed</td>\n",
              "      <td>Top3</td>\n",
              "    </tr>\n",
              "    <tr>\n",
              "      <th>12893987</th>\n",
              "      <td>34.0</td>\n",
              "      <td>DFW</td>\n",
              "      <td>Over 15min delay</td>\n",
              "      <td>Top3</td>\n",
              "    </tr>\n",
              "    <tr>\n",
              "      <th>10469787</th>\n",
              "      <td>-9.0</td>\n",
              "      <td>ATL</td>\n",
              "      <td>Not delayed</td>\n",
              "      <td>Top3</td>\n",
              "    </tr>\n",
              "    <tr>\n",
              "      <th>3566504</th>\n",
              "      <td>NaN</td>\n",
              "      <td>DFW</td>\n",
              "      <td>Not delayed</td>\n",
              "      <td>Top3</td>\n",
              "    </tr>\n",
              "    <tr>\n",
              "      <th>...</th>\n",
              "      <td>...</td>\n",
              "      <td>...</td>\n",
              "      <td>...</td>\n",
              "      <td>...</td>\n",
              "    </tr>\n",
              "    <tr>\n",
              "      <th>11493772</th>\n",
              "      <td>2.0</td>\n",
              "      <td>DFW</td>\n",
              "      <td>Not delayed</td>\n",
              "      <td>Top3</td>\n",
              "    </tr>\n",
              "    <tr>\n",
              "      <th>9381581</th>\n",
              "      <td>-4.0</td>\n",
              "      <td>DFW</td>\n",
              "      <td>Not delayed</td>\n",
              "      <td>Top3</td>\n",
              "    </tr>\n",
              "    <tr>\n",
              "      <th>10623703</th>\n",
              "      <td>-1.0</td>\n",
              "      <td>DFW</td>\n",
              "      <td>Not delayed</td>\n",
              "      <td>Top3</td>\n",
              "    </tr>\n",
              "    <tr>\n",
              "      <th>7974644</th>\n",
              "      <td>53.0</td>\n",
              "      <td>ORD</td>\n",
              "      <td>Over 15min delay</td>\n",
              "      <td>Top3</td>\n",
              "    </tr>\n",
              "    <tr>\n",
              "      <th>2094112</th>\n",
              "      <td>6.0</td>\n",
              "      <td>ATL</td>\n",
              "      <td>Not delayed</td>\n",
              "      <td>Top3</td>\n",
              "    </tr>\n",
              "  </tbody>\n",
              "</table>\n",
              "<p>197 rows × 4 columns</p>\n",
              "</div>"
            ],
            "text/plain": [
              "          DepDelay Origin        DepDelayGr OriginGr\n",
              "3137844       -8.0    DFW       Not delayed     Top3\n",
              "4140297       -7.0    ORD       Not delayed     Top3\n",
              "12893987      34.0    DFW  Over 15min delay     Top3\n",
              "10469787      -9.0    ATL       Not delayed     Top3\n",
              "3566504        NaN    DFW       Not delayed     Top3\n",
              "...            ...    ...               ...      ...\n",
              "11493772       2.0    DFW       Not delayed     Top3\n",
              "9381581       -4.0    DFW       Not delayed     Top3\n",
              "10623703      -1.0    DFW       Not delayed     Top3\n",
              "7974644       53.0    ORD  Over 15min delay     Top3\n",
              "2094112        6.0    ATL       Not delayed     Top3\n",
              "\n",
              "[197 rows x 4 columns]"
            ]
          },
          "metadata": {
            "tags": []
          },
          "execution_count": 20
        }
      ]
    },
    {
      "cell_type": "code",
      "metadata": {
        "id": "YR3aRmVrF273",
        "colab": {
          "base_uri": "https://localhost:8080/",
          "height": 142
        },
        "outputId": "d7076f1b-923b-47af-98db-4524268fd177"
      },
      "source": [
        "# Create contingency table\n",
        "df_chi_obs = pd.crosstab(df_chi.OriginGr, df_chi.DepDelayGr)\n",
        "df_chi_obs"
      ],
      "execution_count": null,
      "outputs": [
        {
          "output_type": "execute_result",
          "data": {
            "text/html": [
              "<div>\n",
              "<style scoped>\n",
              "    .dataframe tbody tr th:only-of-type {\n",
              "        vertical-align: middle;\n",
              "    }\n",
              "\n",
              "    .dataframe tbody tr th {\n",
              "        vertical-align: top;\n",
              "    }\n",
              "\n",
              "    .dataframe thead th {\n",
              "        text-align: right;\n",
              "    }\n",
              "</style>\n",
              "<table border=\"1\" class=\"dataframe\">\n",
              "  <thead>\n",
              "    <tr style=\"text-align: right;\">\n",
              "      <th>DepDelayGr</th>\n",
              "      <th>Not delayed</th>\n",
              "      <th>Over 15min delay</th>\n",
              "    </tr>\n",
              "    <tr>\n",
              "      <th>OriginGr</th>\n",
              "      <th></th>\n",
              "      <th></th>\n",
              "    </tr>\n",
              "  </thead>\n",
              "  <tbody>\n",
              "    <tr>\n",
              "      <th>Not Top 3</th>\n",
              "      <td>967</td>\n",
              "      <td>189</td>\n",
              "    </tr>\n",
              "    <tr>\n",
              "      <th>Top3</th>\n",
              "      <td>150</td>\n",
              "      <td>47</td>\n",
              "    </tr>\n",
              "  </tbody>\n",
              "</table>\n",
              "</div>"
            ],
            "text/plain": [
              "DepDelayGr  Not delayed  Over 15min delay\n",
              "OriginGr                                 \n",
              "Not Top 3           967               189\n",
              "Top3                150                47"
            ]
          },
          "metadata": {
            "tags": []
          },
          "execution_count": 21
        }
      ]
    },
    {
      "cell_type": "code",
      "metadata": {
        "id": "5WY-yjK0GXU_",
        "colab": {
          "base_uri": "https://localhost:8080/"
        },
        "outputId": "971f2b3e-6127-411a-d3a1-bb83ca2e8803"
      },
      "source": [
        "# Chi square test\n",
        "from scipy.stats import chi2_contingency\n",
        "chi2, p, dof, df_chi_exp = chi2_contingency(df_chi_obs)\n",
        "print(\"Observed values:\\n\", df_chi_obs)\n",
        "print(\"Expected values:\\n\", df_chi_exp)\n",
        "print(\"\")\n",
        "print(\"Chi-square stat:  \", chi2)\n",
        "print(\"p-value:          \", p)\n",
        "print(\"Degree of freedom:\", dof)\n",
        "print(\"\")\n",
        "sigtest(p)"
      ],
      "execution_count": null,
      "outputs": [
        {
          "output_type": "stream",
          "text": [
            "Observed values:\n",
            " DepDelayGr  Not delayed  Over 15min delay\n",
            "OriginGr                                 \n",
            "Not Top 3           967               189\n",
            "Top3                150                47\n",
            "Expected values:\n",
            " [[954.36215817 201.63784183]\n",
            " [162.63784183  34.36215817]]\n",
            "\n",
            "Chi-square stat:   6.07836956058992\n",
            "p-value:           0.013684701563592411\n",
            "Degree of freedom: 1\n",
            "\n",
            "Result is significant at 0.95 confidence level: we accept H1\n"
          ],
          "name": "stdout"
        }
      ]
    },
    {
      "cell_type": "markdown",
      "metadata": {
        "id": "iIB_P27-8iHP"
      },
      "source": [
        "Note :\n",
        "\n",
        "* H0 = number of departures don't affect delay\n",
        "* H1 = delay is associated with (higher) number of departures"
      ]
    },
    {
      "cell_type": "markdown",
      "metadata": {
        "id": "K5T_fJBbyCtA"
      },
      "source": [
        "## 2. T-test for independent samples\n",
        "Question : are long distance flights more likely to arrive late\n",
        "\n",
        "Approach :\n",
        "* Split into two groups (samples): short vs. long distance flights\n",
        "* Compare means of delay time (absolute and % of flight time)"
      ]
    },
    {
      "cell_type": "code",
      "metadata": {
        "id": "5VkFD5eDKnbq",
        "colab": {
          "base_uri": "https://localhost:8080/",
          "height": 302
        },
        "outputId": "f172bae6-f3e6-47f5-e8bf-38de94e2e3a1"
      },
      "source": [
        "# Check for flight distance\n",
        "# Illustration : 500 miles is about 1.5 hr flight e.g. from Minneapolis to Chicago \n",
        "print(\"Number of flights under 500 miles: \", len(df[df['Distance'] < 500]))\n",
        "df.Distance.plot.hist()"
      ],
      "execution_count": null,
      "outputs": [
        {
          "output_type": "stream",
          "text": [
            "Number of flights under 500 miles:  553\n"
          ],
          "name": "stdout"
        },
        {
          "output_type": "execute_result",
          "data": {
            "text/plain": [
              "<matplotlib.axes._subplots.AxesSubplot at 0x7f40478225c0>"
            ]
          },
          "metadata": {
            "tags": []
          },
          "execution_count": 25
        },
        {
          "output_type": "display_data",
          "data": {
            "image/png": "[encoded data removed]",
            "text/plain": [
              "<Figure size 432x288 with 1 Axes>"
            ]
          },
          "metadata": {
            "tags": [],
            "needs_background": "light"
          }
        }
      ]
    },
    {
      "cell_type": "code",
      "metadata": {
        "id": "9_NaXRGY9Hga",
        "colab": {
          "base_uri": "https://localhost:8080/",
          "height": 419
        },
        "outputId": "81b123e7-0f2e-4ebe-da64-b6e388db27fe"
      },
      "source": [
        "df_t2 = df[['ArrDelay','Distance']].copy()\n",
        "df_t2"
      ],
      "execution_count": null,
      "outputs": [
        {
          "output_type": "execute_result",
          "data": {
            "text/html": [
              "<div>\n",
              "<style scoped>\n",
              "    .dataframe tbody tr th:only-of-type {\n",
              "        vertical-align: middle;\n",
              "    }\n",
              "\n",
              "    .dataframe tbody tr th {\n",
              "        vertical-align: top;\n",
              "    }\n",
              "\n",
              "    .dataframe thead th {\n",
              "        text-align: right;\n",
              "    }\n",
              "</style>\n",
              "<table border=\"1\" class=\"dataframe\">\n",
              "  <thead>\n",
              "    <tr style=\"text-align: right;\">\n",
              "      <th></th>\n",
              "      <th>ArrDelay</th>\n",
              "      <th>Distance</th>\n",
              "    </tr>\n",
              "  </thead>\n",
              "  <tbody>\n",
              "    <tr>\n",
              "      <th>9224168</th>\n",
              "      <td>-2.0</td>\n",
              "      <td>2562.0</td>\n",
              "    </tr>\n",
              "    <tr>\n",
              "      <th>3137844</th>\n",
              "      <td>-12.0</td>\n",
              "      <td>354.0</td>\n",
              "    </tr>\n",
              "    <tr>\n",
              "      <th>4120909</th>\n",
              "      <td>-3.0</td>\n",
              "      <td>678.0</td>\n",
              "    </tr>\n",
              "    <tr>\n",
              "      <th>731882</th>\n",
              "      <td>7.0</td>\n",
              "      <td>528.0</td>\n",
              "    </tr>\n",
              "    <tr>\n",
              "      <th>2281987</th>\n",
              "      <td>1.0</td>\n",
              "      <td>906.0</td>\n",
              "    </tr>\n",
              "    <tr>\n",
              "      <th>...</th>\n",
              "      <td>...</td>\n",
              "      <td>...</td>\n",
              "    </tr>\n",
              "    <tr>\n",
              "      <th>3326710</th>\n",
              "      <td>1.0</td>\n",
              "      <td>258.0</td>\n",
              "    </tr>\n",
              "    <tr>\n",
              "      <th>2094112</th>\n",
              "      <td>17.0</td>\n",
              "      <td>227.0</td>\n",
              "    </tr>\n",
              "    <tr>\n",
              "      <th>12637093</th>\n",
              "      <td>-29.0</td>\n",
              "      <td>1124.0</td>\n",
              "    </tr>\n",
              "    <tr>\n",
              "      <th>3984064</th>\n",
              "      <td>-7.0</td>\n",
              "      <td>106.0</td>\n",
              "    </tr>\n",
              "    <tr>\n",
              "      <th>7782340</th>\n",
              "      <td>9.0</td>\n",
              "      <td>372.0</td>\n",
              "    </tr>\n",
              "  </tbody>\n",
              "</table>\n",
              "<p>1353 rows × 2 columns</p>\n",
              "</div>"
            ],
            "text/plain": [
              "          ArrDelay  Distance\n",
              "9224168       -2.0    2562.0\n",
              "3137844      -12.0     354.0\n",
              "4120909       -3.0     678.0\n",
              "731882         7.0     528.0\n",
              "2281987        1.0     906.0\n",
              "...            ...       ...\n",
              "3326710        1.0     258.0\n",
              "2094112       17.0     227.0\n",
              "12637093     -29.0    1124.0\n",
              "3984064       -7.0     106.0\n",
              "7782340        9.0     372.0\n",
              "\n",
              "[1353 rows x 2 columns]"
            ]
          },
          "metadata": {
            "tags": []
          },
          "execution_count": 26
        }
      ]
    },
    {
      "cell_type": "code",
      "metadata": {
        "id": "7zQbyk41EXT0",
        "colab": {
          "base_uri": "https://localhost:8080/",
          "height": 204
        },
        "outputId": "389f64c3-0759-4b75-ec4a-0f17f98d8f3f"
      },
      "source": [
        "# Split sample based on distance (below 500 miles vs. 500+ miles)\n",
        "df_t2['DistanceGr'] = np.where(df_t2.Distance < 500, 'Under 500 miles', '500+ miles')\n",
        "df_t2.head()"
      ],
      "execution_count": null,
      "outputs": [
        {
          "output_type": "execute_result",
          "data": {
            "text/html": [
              "<div>\n",
              "<style scoped>\n",
              "    .dataframe tbody tr th:only-of-type {\n",
              "        vertical-align: middle;\n",
              "    }\n",
              "\n",
              "    .dataframe tbody tr th {\n",
              "        vertical-align: top;\n",
              "    }\n",
              "\n",
              "    .dataframe thead th {\n",
              "        text-align: right;\n",
              "    }\n",
              "</style>\n",
              "<table border=\"1\" class=\"dataframe\">\n",
              "  <thead>\n",
              "    <tr style=\"text-align: right;\">\n",
              "      <th></th>\n",
              "      <th>ArrDelay</th>\n",
              "      <th>Distance</th>\n",
              "      <th>DistanceGr</th>\n",
              "    </tr>\n",
              "  </thead>\n",
              "  <tbody>\n",
              "    <tr>\n",
              "      <th>9224168</th>\n",
              "      <td>-2.0</td>\n",
              "      <td>2562.0</td>\n",
              "      <td>500+ miles</td>\n",
              "    </tr>\n",
              "    <tr>\n",
              "      <th>3137844</th>\n",
              "      <td>-12.0</td>\n",
              "      <td>354.0</td>\n",
              "      <td>Under 500 miles</td>\n",
              "    </tr>\n",
              "    <tr>\n",
              "      <th>4120909</th>\n",
              "      <td>-3.0</td>\n",
              "      <td>678.0</td>\n",
              "      <td>500+ miles</td>\n",
              "    </tr>\n",
              "    <tr>\n",
              "      <th>731882</th>\n",
              "      <td>7.0</td>\n",
              "      <td>528.0</td>\n",
              "      <td>500+ miles</td>\n",
              "    </tr>\n",
              "    <tr>\n",
              "      <th>2281987</th>\n",
              "      <td>1.0</td>\n",
              "      <td>906.0</td>\n",
              "      <td>500+ miles</td>\n",
              "    </tr>\n",
              "  </tbody>\n",
              "</table>\n",
              "</div>"
            ],
            "text/plain": [
              "         ArrDelay  Distance       DistanceGr\n",
              "9224168      -2.0    2562.0       500+ miles\n",
              "3137844     -12.0     354.0  Under 500 miles\n",
              "4120909      -3.0     678.0       500+ miles\n",
              "731882        7.0     528.0       500+ miles\n",
              "2281987       1.0     906.0       500+ miles"
            ]
          },
          "metadata": {
            "tags": []
          },
          "execution_count": 27
        }
      ]
    },
    {
      "cell_type": "code",
      "metadata": {
        "id": "NDAjE2M_EmDv",
        "colab": {
          "base_uri": "https://localhost:8080/",
          "height": 142
        },
        "outputId": "3fdec48c-1fbe-4085-9204-93640ff51c69"
      },
      "source": [
        "# Check average delay between the two distance groups\n",
        "df_t2.groupby(df_t2.DistanceGr).mean()"
      ],
      "execution_count": null,
      "outputs": [
        {
          "output_type": "execute_result",
          "data": {
            "text/html": [
              "<div>\n",
              "<style scoped>\n",
              "    .dataframe tbody tr th:only-of-type {\n",
              "        vertical-align: middle;\n",
              "    }\n",
              "\n",
              "    .dataframe tbody tr th {\n",
              "        vertical-align: top;\n",
              "    }\n",
              "\n",
              "    .dataframe thead th {\n",
              "        text-align: right;\n",
              "    }\n",
              "</style>\n",
              "<table border=\"1\" class=\"dataframe\">\n",
              "  <thead>\n",
              "    <tr style=\"text-align: right;\">\n",
              "      <th></th>\n",
              "      <th>ArrDelay</th>\n",
              "      <th>Distance</th>\n",
              "    </tr>\n",
              "    <tr>\n",
              "      <th>DistanceGr</th>\n",
              "      <th></th>\n",
              "      <th></th>\n",
              "    </tr>\n",
              "  </thead>\n",
              "  <tbody>\n",
              "    <tr>\n",
              "      <th>500+ miles</th>\n",
              "      <td>8.241379</td>\n",
              "      <td>1084.450000</td>\n",
              "    </tr>\n",
              "    <tr>\n",
              "      <th>Under 500 miles</th>\n",
              "      <td>6.633028</td>\n",
              "      <td>293.835443</td>\n",
              "    </tr>\n",
              "  </tbody>\n",
              "</table>\n",
              "</div>"
            ],
            "text/plain": [
              "                 ArrDelay     Distance\n",
              "DistanceGr                            \n",
              "500+ miles       8.241379  1084.450000\n",
              "Under 500 miles  6.633028   293.835443"
            ]
          },
          "metadata": {
            "tags": []
          },
          "execution_count": 28
        }
      ]
    },
    {
      "cell_type": "code",
      "metadata": {
        "id": "1zedgxElAj3a",
        "colab": {
          "base_uri": "https://localhost:8080/"
        },
        "outputId": "12fb62a4-fd5d-42bd-882c-7536c0f55dfb"
      },
      "source": [
        "# Sample 1 : Delays on flights under 500 miles\n",
        "s1_u500 = pd.DataFrame(np.where(df_t2['Distance'] < 500, df_t2.ArrDelay, np.NaN))\n",
        "s1_u500.columns = ['ArrDelay']\n",
        "s1_u500.dropna(inplace=True)\n",
        "print(\"Number of flights under 500 miles: \", len(s1_u500))\n",
        "print(\"Average delay: \",s1_u500.mean())"
      ],
      "execution_count": null,
      "outputs": [
        {
          "output_type": "stream",
          "text": [
            "Number of flights under 500 miles:  545\n",
            "Average delay:  ArrDelay    6.633028\n",
            "dtype: float64\n"
          ],
          "name": "stdout"
        }
      ]
    },
    {
      "cell_type": "code",
      "metadata": {
        "id": "oL4dTgEjBqnx",
        "colab": {
          "base_uri": "https://localhost:8080/"
        },
        "outputId": "57451cf2-ca5e-421a-9ad1-738489e46a12"
      },
      "source": [
        "# Sample 2 : Delays on flights 500 miles or more\n",
        "s2_500plus = pd.DataFrame(np.where(df_t2['Distance'] < 500, np.NaN, df_t2.ArrDelay))\n",
        "s2_500plus.columns = ['ArrDelay']\n",
        "s2_500plus.dropna(inplace=True)\n",
        "print(\"Number of flights 500 miles or more: \", len(s2_500plus))\n",
        "print(\"Average delay: \", s2_500plus.mean())"
      ],
      "execution_count": null,
      "outputs": [
        {
          "output_type": "stream",
          "text": [
            "Number of flights 500 miles or more:  783\n",
            "Average delay:  ArrDelay    8.241379\n",
            "dtype: float64\n"
          ],
          "name": "stdout"
        }
      ]
    },
    {
      "cell_type": "code",
      "metadata": {
        "id": "_RMWpwJU-xEz",
        "colab": {
          "base_uri": "https://localhost:8080/"
        },
        "outputId": "d70ec2f7-5d36-4d44-99b3-7eb8f5855463"
      },
      "source": [
        "# t-test (default: assume variances are not the same; unless known otherwise)\n",
        "from scipy.stats import ttest_ind\n",
        "tstat, p = ttest_ind(s1_u500, s2_500plus, equal_var= False)\n",
        "print(\"t-test stat: \", tstat)\n",
        "print(\"p-value:     \", p)\n",
        "print(\"\")\n",
        "sigtest(p)"
      ],
      "execution_count": null,
      "outputs": [
        {
          "output_type": "stream",
          "text": [
            "t-test stat:  [-0.79701695]\n",
            "p-value:      [0.4255891]\n",
            "\n",
            "Result is not significant at 0.95 confidence level: we accept H0\n"
          ],
          "name": "stdout"
        }
      ]
    },
    {
      "cell_type": "markdown",
      "metadata": {
        "id": "pwpcom7rFFGn"
      },
      "source": [
        "Note : \n",
        "\n",
        "* H0 = similar level of delay between short and long distance flight \n",
        "* H1 = different  level of delay between short and long distance flight"
      ]
    },
    {
      "cell_type": "markdown",
      "metadata": {
        "id": "HJQKXFyfypg-"
      },
      "source": [
        "## 3. T-test for paired data\n",
        "Question : does departure delay lead to arrival delay?\n",
        "\n",
        "Approach: compare means between departure and arrival delays"
      ]
    },
    {
      "cell_type": "code",
      "metadata": {
        "id": "XOMfLtQZN2vZ",
        "colab": {
          "base_uri": "https://localhost:8080/",
          "height": 419
        },
        "outputId": "fb906ab1-5e72-4610-85ee-504a4de32f58"
      },
      "source": [
        "df_t1 = df[['DepDelay','ArrDelay']].copy()\n",
        "df_t1"
      ],
      "execution_count": null,
      "outputs": [
        {
          "output_type": "execute_result",
          "data": {
            "text/html": [
              "<div>\n",
              "<style scoped>\n",
              "    .dataframe tbody tr th:only-of-type {\n",
              "        vertical-align: middle;\n",
              "    }\n",
              "\n",
              "    .dataframe tbody tr th {\n",
              "        vertical-align: top;\n",
              "    }\n",
              "\n",
              "    .dataframe thead th {\n",
              "        text-align: right;\n",
              "    }\n",
              "</style>\n",
              "<table border=\"1\" class=\"dataframe\">\n",
              "  <thead>\n",
              "    <tr style=\"text-align: right;\">\n",
              "      <th></th>\n",
              "      <th>DepDelay</th>\n",
              "      <th>ArrDelay</th>\n",
              "    </tr>\n",
              "  </thead>\n",
              "  <tbody>\n",
              "    <tr>\n",
              "      <th>9224168</th>\n",
              "      <td>-5.0</td>\n",
              "      <td>-2.0</td>\n",
              "    </tr>\n",
              "    <tr>\n",
              "      <th>3137844</th>\n",
              "      <td>-8.0</td>\n",
              "      <td>-12.0</td>\n",
              "    </tr>\n",
              "    <tr>\n",
              "      <th>4120909</th>\n",
              "      <td>2.0</td>\n",
              "      <td>-3.0</td>\n",
              "    </tr>\n",
              "    <tr>\n",
              "      <th>731882</th>\n",
              "      <td>1.0</td>\n",
              "      <td>7.0</td>\n",
              "    </tr>\n",
              "    <tr>\n",
              "      <th>2281987</th>\n",
              "      <td>-1.0</td>\n",
              "      <td>1.0</td>\n",
              "    </tr>\n",
              "    <tr>\n",
              "      <th>...</th>\n",
              "      <td>...</td>\n",
              "      <td>...</td>\n",
              "    </tr>\n",
              "    <tr>\n",
              "      <th>3326710</th>\n",
              "      <td>-3.0</td>\n",
              "      <td>1.0</td>\n",
              "    </tr>\n",
              "    <tr>\n",
              "      <th>2094112</th>\n",
              "      <td>6.0</td>\n",
              "      <td>17.0</td>\n",
              "    </tr>\n",
              "    <tr>\n",
              "      <th>12637093</th>\n",
              "      <td>-9.0</td>\n",
              "      <td>-29.0</td>\n",
              "    </tr>\n",
              "    <tr>\n",
              "      <th>3984064</th>\n",
              "      <td>-3.0</td>\n",
              "      <td>-7.0</td>\n",
              "    </tr>\n",
              "    <tr>\n",
              "      <th>7782340</th>\n",
              "      <td>0.0</td>\n",
              "      <td>9.0</td>\n",
              "    </tr>\n",
              "  </tbody>\n",
              "</table>\n",
              "<p>1353 rows × 2 columns</p>\n",
              "</div>"
            ],
            "text/plain": [
              "          DepDelay  ArrDelay\n",
              "9224168       -5.0      -2.0\n",
              "3137844       -8.0     -12.0\n",
              "4120909        2.0      -3.0\n",
              "731882         1.0       7.0\n",
              "2281987       -1.0       1.0\n",
              "...            ...       ...\n",
              "3326710       -3.0       1.0\n",
              "2094112        6.0      17.0\n",
              "12637093      -9.0     -29.0\n",
              "3984064       -3.0      -7.0\n",
              "7782340        0.0       9.0\n",
              "\n",
              "[1353 rows x 2 columns]"
            ]
          },
          "metadata": {
            "tags": []
          },
          "execution_count": 41
        }
      ]
    },
    {
      "cell_type": "code",
      "metadata": {
        "id": "CL6xR_94O9vE",
        "colab": {
          "base_uri": "https://localhost:8080/"
        },
        "outputId": "c3029a4a-34db-4b0b-e439-2270a38cf821"
      },
      "source": [
        "print(\"Average departure delay: \", df_t1['DepDelay'].mean())\n",
        "print(\"Average arrival delay  : \", df_t1['ArrDelay'].mean())"
      ],
      "execution_count": null,
      "outputs": [
        {
          "output_type": "stream",
          "text": [
            "Average departure delay:  8.981995498874719\n",
            "Average arrival delay  :  7.581325301204819\n"
          ],
          "name": "stdout"
        }
      ]
    },
    {
      "cell_type": "code",
      "metadata": {
        "id": "yKoGneNlNfr3",
        "colab": {
          "base_uri": "https://localhost:8080/"
        },
        "outputId": "676714b3-a160-4223-e354-a8de221fc649"
      },
      "source": [
        "# t-test (default: assume variances are not the same; unless known otherwise)\n",
        "from scipy.stats import ttest_rel\n",
        "tstat, p = ttest_rel(df_t1.DepDelay, df_t1.ArrDelay, nan_policy='omit')\n",
        "print(\"t-test stat: \", tstat)\n",
        "print(\"p-value:     \", p)\n",
        "print(\"\")\n",
        "sigtest(p)"
      ],
      "execution_count": null,
      "outputs": [
        {
          "output_type": "stream",
          "text": [
            "t-test stat:  2.8982005792064167\n",
            "p-value:      0.003814777829708241\n",
            "\n",
            "Result is significant at 0.95 confidence level: we accept H1\n"
          ],
          "name": "stdout"
        }
      ]
    },
    {
      "cell_type": "markdown",
      "metadata": {
        "id": "GUrrzbmZOz9v"
      },
      "source": [
        "Note : \n",
        "\n",
        "* H0 = average length of departure delay is the same as arrival delay\n",
        "* H1 = average length of departure delay is NOT the same as arrival delay"
      ]
    },
    {
      "cell_type": "markdown",
      "metadata": {
        "id": "OluyjTZU1F2w"
      },
      "source": [
        "## 4. ANOVA\n",
        "Question : do we have a longer delay when flying to one of the top 3 airports?<br>\n",
        "Approach:\n",
        "* Get data from top 3 airports\n",
        "* Compare means of arrival delay"
      ]
    },
    {
      "cell_type": "code",
      "metadata": {
        "id": "1V0fsWPzFwZD",
        "colab": {
          "base_uri": "https://localhost:8080/"
        },
        "outputId": "19163f3c-e82a-4064-b6f5-b07c3fd9a328"
      },
      "source": [
        "# Check average delay by arrival (destination) airport\n",
        "df.groupby(df.Dest)['ArrDelay'].mean()"
      ],
      "execution_count": null,
      "outputs": [
        {
          "output_type": "execute_result",
          "data": {
            "text/plain": [
              "Dest\n",
              "ABI    55.00\n",
              "ABQ     1.00\n",
              "ACK     1.00\n",
              "ACT    -6.00\n",
              "ACV    -2.50\n",
              "       ...  \n",
              "TVC   -29.00\n",
              "TXK     2.00\n",
              "TYS    -4.75\n",
              "VLD   -21.00\n",
              "XNA    20.50\n",
              "Name: ArrDelay, Length: 173, dtype: float64"
            ]
          },
          "metadata": {
            "tags": []
          },
          "execution_count": 45
        }
      ]
    },
    {
      "cell_type": "code",
      "metadata": {
        "id": "AtDPgOmSHb2R",
        "colab": {
          "base_uri": "https://localhost:8080/",
          "height": 419
        },
        "outputId": "391f1e27-6a14-4168-ffde-23278619bc42"
      },
      "source": [
        "df_anova = df[['ArrDelay','Dest']].copy()\n",
        "df_anova"
      ],
      "execution_count": null,
      "outputs": [
        {
          "output_type": "execute_result",
          "data": {
            "text/html": [
              "<div>\n",
              "<style scoped>\n",
              "    .dataframe tbody tr th:only-of-type {\n",
              "        vertical-align: middle;\n",
              "    }\n",
              "\n",
              "    .dataframe tbody tr th {\n",
              "        vertical-align: top;\n",
              "    }\n",
              "\n",
              "    .dataframe thead th {\n",
              "        text-align: right;\n",
              "    }\n",
              "</style>\n",
              "<table border=\"1\" class=\"dataframe\">\n",
              "  <thead>\n",
              "    <tr style=\"text-align: right;\">\n",
              "      <th></th>\n",
              "      <th>ArrDelay</th>\n",
              "      <th>Dest</th>\n",
              "    </tr>\n",
              "  </thead>\n",
              "  <tbody>\n",
              "    <tr>\n",
              "      <th>9224168</th>\n",
              "      <td>-2.0</td>\n",
              "      <td>PDX</td>\n",
              "    </tr>\n",
              "    <tr>\n",
              "      <th>3137844</th>\n",
              "      <td>-12.0</td>\n",
              "      <td>CRP</td>\n",
              "    </tr>\n",
              "    <tr>\n",
              "      <th>4120909</th>\n",
              "      <td>-3.0</td>\n",
              "      <td>ORD</td>\n",
              "    </tr>\n",
              "    <tr>\n",
              "      <th>731882</th>\n",
              "      <td>7.0</td>\n",
              "      <td>ATL</td>\n",
              "    </tr>\n",
              "    <tr>\n",
              "      <th>2281987</th>\n",
              "      <td>1.0</td>\n",
              "      <td>ATL</td>\n",
              "    </tr>\n",
              "    <tr>\n",
              "      <th>...</th>\n",
              "      <td>...</td>\n",
              "      <td>...</td>\n",
              "    </tr>\n",
              "    <tr>\n",
              "      <th>3326710</th>\n",
              "      <td>1.0</td>\n",
              "      <td>ORD</td>\n",
              "    </tr>\n",
              "    <tr>\n",
              "      <th>2094112</th>\n",
              "      <td>17.0</td>\n",
              "      <td>CLT</td>\n",
              "    </tr>\n",
              "    <tr>\n",
              "      <th>12637093</th>\n",
              "      <td>-29.0</td>\n",
              "      <td>MSP</td>\n",
              "    </tr>\n",
              "    <tr>\n",
              "      <th>3984064</th>\n",
              "      <td>-7.0</td>\n",
              "      <td>EUG</td>\n",
              "    </tr>\n",
              "    <tr>\n",
              "      <th>7782340</th>\n",
              "      <td>9.0</td>\n",
              "      <td>IAD</td>\n",
              "    </tr>\n",
              "  </tbody>\n",
              "</table>\n",
              "<p>1353 rows × 2 columns</p>\n",
              "</div>"
            ],
            "text/plain": [
              "          ArrDelay Dest\n",
              "9224168       -2.0  PDX\n",
              "3137844      -12.0  CRP\n",
              "4120909       -3.0  ORD\n",
              "731882         7.0  ATL\n",
              "2281987        1.0  ATL\n",
              "...            ...  ...\n",
              "3326710        1.0  ORD\n",
              "2094112       17.0  CLT\n",
              "12637093     -29.0  MSP\n",
              "3984064       -7.0  EUG\n",
              "7782340        9.0  IAD\n",
              "\n",
              "[1353 rows x 2 columns]"
            ]
          },
          "metadata": {
            "tags": []
          },
          "execution_count": 46
        }
      ]
    },
    {
      "cell_type": "code",
      "metadata": {
        "id": "qOjncDYvHkoQ",
        "colab": {
          "base_uri": "https://localhost:8080/"
        },
        "outputId": "673e03c3-da9a-44d9-fc1d-2c6420174a18"
      },
      "source": [
        "# ATL, ORD, DFW are also top 3 in arrival / destination\n",
        "df_anova.Dest.value_counts().head(10)"
      ],
      "execution_count": null,
      "outputs": [
        {
          "output_type": "execute_result",
          "data": {
            "text/plain": [
              "ORD    79\n",
              "ATL    70\n",
              "DFW    51\n",
              "PHX    47\n",
              "DEN    47\n",
              "LAS    40\n",
              "IAH    38\n",
              "SFO    35\n",
              "EWR    32\n",
              "DTW    31\n",
              "Name: Dest, dtype: int64"
            ]
          },
          "metadata": {
            "tags": []
          },
          "execution_count": 47
        }
      ]
    },
    {
      "cell_type": "code",
      "metadata": {
        "id": "p8RDDx3pui73",
        "colab": {
          "base_uri": "https://localhost:8080/",
          "height": 204
        },
        "outputId": "f4f484bb-a57e-4fa0-8fa4-a1cbba1c1bdc"
      },
      "source": [
        "df_anova['ArrDelay_ATL'] = np.where(df_anova['Dest'] == 'ATL', df_anova.ArrDelay, np.NaN)\n",
        "df_anova['ArrDelay_ORD'] = np.where(df_anova['Dest'] == 'ORD', df_anova.ArrDelay, np.NaN)\n",
        "df_anova['ArrDelay_DFW'] = np.where(df_anova['Dest'] == 'DFW', df_anova.ArrDelay, np.NaN)\n",
        "df_anova.head()"
      ],
      "execution_count": null,
      "outputs": [
        {
          "output_type": "execute_result",
          "data": {
            "text/html": [
              "<div>\n",
              "<style scoped>\n",
              "    .dataframe tbody tr th:only-of-type {\n",
              "        vertical-align: middle;\n",
              "    }\n",
              "\n",
              "    .dataframe tbody tr th {\n",
              "        vertical-align: top;\n",
              "    }\n",
              "\n",
              "    .dataframe thead th {\n",
              "        text-align: right;\n",
              "    }\n",
              "</style>\n",
              "<table border=\"1\" class=\"dataframe\">\n",
              "  <thead>\n",
              "    <tr style=\"text-align: right;\">\n",
              "      <th></th>\n",
              "      <th>ArrDelay</th>\n",
              "      <th>Dest</th>\n",
              "      <th>ArrDelay_ATL</th>\n",
              "      <th>ArrDelay_ORD</th>\n",
              "      <th>ArrDelay_DFW</th>\n",
              "    </tr>\n",
              "  </thead>\n",
              "  <tbody>\n",
              "    <tr>\n",
              "      <th>9224168</th>\n",
              "      <td>-2.0</td>\n",
              "      <td>PDX</td>\n",
              "      <td>NaN</td>\n",
              "      <td>NaN</td>\n",
              "      <td>NaN</td>\n",
              "    </tr>\n",
              "    <tr>\n",
              "      <th>3137844</th>\n",
              "      <td>-12.0</td>\n",
              "      <td>CRP</td>\n",
              "      <td>NaN</td>\n",
              "      <td>NaN</td>\n",
              "      <td>NaN</td>\n",
              "    </tr>\n",
              "    <tr>\n",
              "      <th>4120909</th>\n",
              "      <td>-3.0</td>\n",
              "      <td>ORD</td>\n",
              "      <td>NaN</td>\n",
              "      <td>-3.0</td>\n",
              "      <td>NaN</td>\n",
              "    </tr>\n",
              "    <tr>\n",
              "      <th>731882</th>\n",
              "      <td>7.0</td>\n",
              "      <td>ATL</td>\n",
              "      <td>7.0</td>\n",
              "      <td>NaN</td>\n",
              "      <td>NaN</td>\n",
              "    </tr>\n",
              "    <tr>\n",
              "      <th>2281987</th>\n",
              "      <td>1.0</td>\n",
              "      <td>ATL</td>\n",
              "      <td>1.0</td>\n",
              "      <td>NaN</td>\n",
              "      <td>NaN</td>\n",
              "    </tr>\n",
              "  </tbody>\n",
              "</table>\n",
              "</div>"
            ],
            "text/plain": [
              "         ArrDelay Dest  ArrDelay_ATL  ArrDelay_ORD  ArrDelay_DFW\n",
              "9224168      -2.0  PDX           NaN           NaN           NaN\n",
              "3137844     -12.0  CRP           NaN           NaN           NaN\n",
              "4120909      -3.0  ORD           NaN          -3.0           NaN\n",
              "731882        7.0  ATL           7.0           NaN           NaN\n",
              "2281987       1.0  ATL           1.0           NaN           NaN"
            ]
          },
          "metadata": {
            "tags": []
          },
          "execution_count": 86
        }
      ]
    },
    {
      "cell_type": "code",
      "metadata": {
        "id": "tQf4AyXrIwdz",
        "colab": {
          "base_uri": "https://localhost:8080/"
        },
        "outputId": "43df3255-7b37-4c6a-a2a2-86202c967d5e"
      },
      "source": [
        "# ANOVA test\n",
        "from scipy.stats import f_oneway\n",
        "fstat, p = f_oneway(df_anova.ArrDelay_ATL.dropna(), df_anova.ArrDelay_ORD.dropna(), df_anova.ArrDelay_DFW.dropna())\n",
        "print(\"ANOVA F-stat: \", fstat)\n",
        "print(\"p-value:      \", p)\n",
        "print(\"\")\n",
        "sigtest(p)"
      ],
      "execution_count": null,
      "outputs": [
        {
          "output_type": "stream",
          "text": [
            "ANOVA F-stat:  1.0813612155995074\n",
            "p-value:       0.34115834229351777\n",
            "\n",
            "Result is not significant at 0.95 confidence level: we accept H0\n"
          ],
          "name": "stdout"
        }
      ]
    },
    {
      "cell_type": "markdown",
      "metadata": {
        "id": "_C2qcn2xKu90"
      },
      "source": [
        "Note : \n",
        "\n",
        "* H0 = similar level of delay among the top 3 airports (ATL, ORD, DFW) \n",
        "* H1 = level of delay in top 3 airports are not the same"
      ]
    },
    {
      "cell_type": "markdown",
      "metadata": {
        "id": "rgC9fYP32UnP"
      },
      "source": [
        "## 5. Confidence Interval of Mean"
      ]
    },
    {
      "cell_type": "code",
      "metadata": {
        "id": "OQ0wA7wRPl1r",
        "colab": {
          "base_uri": "https://localhost:8080/"
        },
        "outputId": "90418eb5-1273-4de9-96ff-a58703586b32"
      },
      "source": [
        "import statsmodels.stats.api as sms\n",
        "sms.DescrStatsW(df.Distance).tconfint_mean(0.05)"
      ],
      "execution_count": null,
      "outputs": [
        {
          "output_type": "execute_result",
          "data": {
            "text/plain": [
              "(730.7913390081208, 791.8265471707409)"
            ]
          },
          "metadata": {
            "tags": []
          },
          "execution_count": 63
        }
      ]
    },
    {
      "cell_type": "markdown",
      "metadata": {
        "id": "tcEOcKk-2Y5m"
      },
      "source": [
        "## 6. Test if data is normally distributed"
      ]
    },
    {
      "cell_type": "code",
      "metadata": {
        "id": "gfivtsbMlqaA",
        "colab": {
          "base_uri": "https://localhost:8080/",
          "height": 279
        },
        "outputId": "4807f300-b9d6-4c38-fc04-91630da7ff16"
      },
      "source": [
        "# Visualization with QQPlot\n",
        "# Theoretical quantiles : quantiles if distribution is normal\n",
        "# Sample quantiles : if distribution is normal, the plot will follow the diagonal\n",
        "\n",
        "from statsmodels.graphics.gofplots import qqplot\n",
        "qqplot(df.ArrDelay.dropna(), fit = True, line = \"45\").show()"
      ],
      "execution_count": null,
      "outputs": [
        {
          "output_type": "display_data",
          "data": {
            "image/png": "[encoded data removed]",
            "text/plain": [
              "<Figure size 432x288 with 1 Axes>"
            ]
          },
          "metadata": {
            "tags": [],
            "needs_background": "light"
          }
        }
      ]
    },
    {
      "cell_type": "code",
      "metadata": {
        "id": "vD8QF1mZmluD",
        "colab": {
          "base_uri": "https://localhost:8080/"
        },
        "outputId": "6e3e6a5b-c9de-4eca-e51c-48c92f70b784"
      },
      "source": [
        "# The actual test : Kolmogorov-Smirnov\n",
        "# H0: normal dist \n",
        "# H1: non-normal dist\n",
        "\n",
        "from scipy.stats import kstest\n",
        "ksstat, p = kstest(df.ArrDelay.dropna(),\"norm\")\n",
        "\n",
        "print(\"Kolmogorov-Smirnov stat: \", ksstat)\n",
        "print(\"p-value:                 \", p)\n",
        "print(\"\")\n",
        "sigtest(p)"
      ],
      "execution_count": null,
      "outputs": [
        {
          "output_type": "stream",
          "text": [
            "Kolmogorov-Smirnov stat:  0.49682818130483286\n",
            "p-value:                  2.2748563835136704e-303\n",
            "\n",
            "Result is significant at 0.95 confidence level: we accept H1\n"
          ],
          "name": "stdout"
        }
      ]
    },
    {
      "cell_type": "markdown",
      "metadata": {
        "id": "UuRZcaNM2mlq"
      },
      "source": [
        "## 7. What is bootstrap"
      ]
    },
    {
      "cell_type": "code",
      "metadata": {
        "id": "yIRWlvr8qXn4",
        "colab": {
          "base_uri": "https://localhost:8080/"
        },
        "outputId": "503b84f8-a02a-4bfa-d4ca-eff3016243d2"
      },
      "source": [
        "# Mean of the sample\n",
        "df.ArrDelay.mean()"
      ],
      "execution_count": null,
      "outputs": [
        {
          "output_type": "execute_result",
          "data": {
            "text/plain": [
              "7.581325301204819"
            ]
          },
          "metadata": {
            "tags": []
          },
          "execution_count": 73
        }
      ]
    },
    {
      "cell_type": "code",
      "metadata": {
        "id": "aB26KtyLqYNU",
        "colab": {
          "base_uri": "https://localhost:8080/"
        },
        "outputId": "74600049-aa2f-417f-a690-a4fcd7ec11f4"
      },
      "source": [
        "# Mean of one re-drawn (bootstrapped) sample \n",
        "df.ArrDelay.sample(frac = 1, replace = True).mean()"
      ],
      "execution_count": null,
      "outputs": [
        {
          "output_type": "execute_result",
          "data": {
            "text/plain": [
              "8.43115124153499"
            ]
          },
          "metadata": {
            "tags": []
          },
          "execution_count": 74
        }
      ]
    },
    {
      "cell_type": "code",
      "metadata": {
        "id": "cszluRjXqdKz",
        "colab": {
          "base_uri": "https://localhost:8080/"
        },
        "outputId": "04a4803e-55ad-402a-e8f5-e8789c6a380e"
      },
      "source": [
        "# Bootstrap! Means\n",
        "allmeans = []\n",
        "\n",
        "for i in range(1000):\n",
        "    allmeans.append(df.ArrDelay.sample(frac = 1, replace = True).mean())\n",
        "\n",
        "allmeans[0:5]"
      ],
      "execution_count": null,
      "outputs": [
        {
          "output_type": "execute_result",
          "data": {
            "text/plain": [
              "[7.664404223227753,\n",
              " 6.233207547169811,\n",
              " 8.970742685671418,\n",
              " 9.330323551542513,\n",
              " 7.890483383685801]"
            ]
          },
          "metadata": {
            "tags": []
          },
          "execution_count": 75
        }
      ]
    },
    {
      "cell_type": "code",
      "metadata": {
        "id": "1ZJ0O2uLrMwN",
        "colab": {
          "base_uri": "https://localhost:8080/"
        },
        "outputId": "4d1ef99e-85ac-44aa-ca8b-5712c6f178f7"
      },
      "source": [
        "# Bootstrap! Stdev\n",
        "allstdev = []\n",
        "\n",
        "for i in range(1000):\n",
        "    allstdev.append(df.ArrDelay.sample(frac = 1, replace = True).std())\n",
        "\n",
        "allstdev[0:5]"
      ],
      "execution_count": null,
      "outputs": [
        {
          "output_type": "execute_result",
          "data": {
            "text/plain": [
              "[37.37960152580018,\n",
              " 42.51833575387071,\n",
              " 39.12613785668895,\n",
              " 32.82676539174783,\n",
              " 41.92955310677808]"
            ]
          },
          "metadata": {
            "tags": []
          },
          "execution_count": 78
        }
      ]
    },
    {
      "cell_type": "code",
      "metadata": {
        "id": "0F5ndY15rD0Z",
        "colab": {
          "base_uri": "https://localhost:8080/",
          "height": 807
        },
        "outputId": "c0c76b97-cd7e-49e2-c281-2f048879b8c7"
      },
      "source": [
        "# See the result\n",
        "import matplotlib.pyplot as plt\n",
        "\n",
        "plt.subplots(figsize=(12,4))\n",
        "\n",
        "plt.subplot(121)\n",
        "plt.hist(allmeans,40)\n",
        "plt.title('Means')\n",
        "\n",
        "plt.subplot(122)\n",
        "plt.hist(allstdev,40)\n",
        "plt.title('Std Dev')\n",
        "\n",
        "plt.tight_layout()\n",
        "plt.show()"
      ],
      "execution_count": null,
      "outputs": [
        {
          "output_type": "execute_result",
          "data": {
            "text/plain": [
              "(<Figure size 864x288 with 1 Axes>,\n",
              " <matplotlib.axes._subplots.AxesSubplot at 0x7f40309ac5c0>)"
            ]
          },
          "metadata": {
            "tags": []
          },
          "execution_count": 83
        },
        {
          "output_type": "execute_result",
          "data": {
            "text/plain": [
              "<matplotlib.axes._subplots.AxesSubplot at 0x7f402c742a90>"
            ]
          },
          "metadata": {
            "tags": []
          },
          "execution_count": 83
        },
        {
          "output_type": "execute_result",
          "data": {
            "text/plain": [
              "(array([ 2.,  0.,  3.,  2.,  5.,  6., 18., 31., 20., 33., 40., 35., 44.,\n",
              "        54., 64., 58., 75., 78., 67., 65., 53., 50., 47., 27., 29., 28.,\n",
              "        20., 16., 12.,  4.,  4.,  2.,  2.,  1.,  2.,  1.,  0.,  0.,  1.,\n",
              "         1.]),\n",
              " array([ 4.55306428,  4.72862589,  4.9041875 ,  5.07974911,  5.25531072,\n",
              "         5.43087233,  5.60643394,  5.78199555,  5.95755716,  6.13311877,\n",
              "         6.30868038,  6.48424199,  6.6598036 ,  6.83536521,  7.01092682,\n",
              "         7.18648843,  7.36205005,  7.53761166,  7.71317327,  7.88873488,\n",
              "         8.06429649,  8.2398581 ,  8.41541971,  8.59098132,  8.76654293,\n",
              "         8.94210454,  9.11766615,  9.29322776,  9.46878937,  9.64435098,\n",
              "         9.81991259,  9.99547421, 10.17103582, 10.34659743, 10.52215904,\n",
              "        10.69772065, 10.87328226, 11.04884387, 11.22440548, 11.39996709,\n",
              "        11.5755287 ]),\n",
              " <a list of 40 Patch objects>)"
            ]
          },
          "metadata": {
            "tags": []
          },
          "execution_count": 83
        },
        {
          "output_type": "execute_result",
          "data": {
            "text/plain": [
              "Text(0.5, 1.0, 'Means')"
            ]
          },
          "metadata": {
            "tags": []
          },
          "execution_count": 83
        },
        {
          "output_type": "execute_result",
          "data": {
            "text/plain": [
              "<matplotlib.axes._subplots.AxesSubplot at 0x7f4030935908>"
            ]
          },
          "metadata": {
            "tags": []
          },
          "execution_count": 83
        },
        {
          "output_type": "execute_result",
          "data": {
            "text/plain": [
              "(array([ 3.,  4.,  5.,  2.,  8.,  7., 14., 17., 13., 28., 29., 43., 53.,\n",
              "        39., 60., 50., 62., 56., 69., 56., 55., 43., 61., 50., 37., 20.,\n",
              "        23., 22., 17., 13.,  7., 10.,  9.,  6.,  3.,  1.,  1.,  2.,  1.,\n",
              "         1.]),\n",
              " array([29.78895325, 30.20757681, 30.62620038, 31.04482394, 31.4634475 ,\n",
              "        31.88207107, 32.30069463, 32.71931819, 33.13794176, 33.55656532,\n",
              "        33.97518889, 34.39381245, 34.81243601, 35.23105958, 35.64968314,\n",
              "        36.0683067 , 36.48693027, 36.90555383, 37.32417739, 37.74280096,\n",
              "        38.16142452, 38.58004809, 38.99867165, 39.41729521, 39.83591878,\n",
              "        40.25454234, 40.6731659 , 41.09178947, 41.51041303, 41.92903659,\n",
              "        42.34766016, 42.76628372, 43.18490729, 43.60353085, 44.02215441,\n",
              "        44.44077798, 44.85940154, 45.2780251 , 45.69664867, 46.11527223,\n",
              "        46.53389579]),\n",
              " <a list of 40 Patch objects>)"
            ]
          },
          "metadata": {
            "tags": []
          },
          "execution_count": 83
        },
        {
          "output_type": "execute_result",
          "data": {
            "text/plain": [
              "Text(0.5, 1.0, 'Std Dev')"
            ]
          },
          "metadata": {
            "tags": []
          },
          "execution_count": 83
        },
        {
          "output_type": "display_data",
          "data": {
            "image/png": "[encoded data removed]",
            "text/plain": [
              "<Figure size 864x288 with 2 Axes>"
            ]
          },
          "metadata": {
            "tags": [],
            "needs_background": "light"
          }
        }
      ]
    },
    {
      "cell_type": "code",
      "metadata": {
        "id": "EaO94eXbrF5b"
      },
      "source": [
        ""
      ],
      "execution_count": null,
      "outputs": []
    }
  ]
}