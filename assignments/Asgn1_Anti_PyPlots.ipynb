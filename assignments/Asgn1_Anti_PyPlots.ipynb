{
 "cells": [
  {
   "cell_type": "markdown",
   "metadata": {},
   "source": [
    "<h2>Assignment 1: Simple Plots with Python</h2>\n",
    "Create at least 5 different basic plots and discuss which types of variables you'd use them<br>\n",
    "Submit pdf to see both codes and results<br>\n",
    "<i>Submitted by: Anti Antono</i>"
   ]
  },
  {
   "cell_type": "code",
   "execution_count": 1,
   "metadata": {},
   "outputs": [],
   "source": [
    "import pandas as pd\n",
    "import numpy as np\n",
    "import matplotlib.pyplot as plt\n",
    "%matplotlib inline"
   ]
  },
  {
   "cell_type": "markdown",
   "metadata": {},
   "source": [
    "<h3>Dataset : Personality and Movie Ratings</h3>\n",
    "Source: <a href= https://www.kaggle.com/arslanali4343/top-personality-dataset?select=2018-personality-data.csv target=\"_blank\">https://www.kaggle.com/arslanali4343/top-personality-dataset?select=2018-personality-data.csv</a><br>\n",
    "Data contains:<br> \n",
    "<ul>\n",
    "    <li>personality tendencies (ordinal, 5 vars)</li>\n",
    "    <li>summary metric (categorical, 2 vars)</li>\n",
    "    <li>movies and their predicted ratings (numeric, 24 vars)</li>\n",
    "    <li>movie tags (categorical/ordinal, 2 vars)</li>\n",
    "</ul>"
   ]
  },
  {
   "cell_type": "markdown",
   "metadata": {},
   "source": [
    "<h4># READ & DESCRIBE</h4>"
   ]
  },
  {
   "cell_type": "code",
   "execution_count": 2,
   "metadata": {},
   "outputs": [],
   "source": [
    "import os"
   ]
  },
  {
   "cell_type": "code",
   "execution_count": 3,
   "metadata": {},
   "outputs": [],
   "source": [
    "os.chdir('C:/Users/anti_/Documents/BTS DS Statistics/Asgn1_PyPlot/')"
   ]
  },
  {
   "cell_type": "code",
   "execution_count": 4,
   "metadata": {},
   "outputs": [],
   "source": [
    "pers = pd.read_csv('2018-personality-data.csv',index_col='userid')"
   ]
  },
  {
   "cell_type": "code",
   "execution_count": 5,
   "metadata": {},
   "outputs": [
    {
     "name": "stdout",
     "output_type": "stream",
     "text": [
      "<class 'pandas.core.frame.DataFrame'>\n",
      "Index: 1834 entries, 8e7cebf9a234c064b75016249f2ac65e to 721ea658e148fc0f76ddd6e2b0e02422\n",
      "Data columns (total 33 columns):\n",
      " #   Column                Non-Null Count  Dtype  \n",
      "---  ------                --------------  -----  \n",
      " 0    openness             1834 non-null   float64\n",
      " 1    agreeableness        1834 non-null   float64\n",
      " 2    emotional_stability  1834 non-null   float64\n",
      " 3    conscientiousness    1834 non-null   float64\n",
      " 4    extraversion         1834 non-null   float64\n",
      " 5    assigned metric      1834 non-null   object \n",
      " 6    assigned condition   1834 non-null   object \n",
      " 7    movie_1              1834 non-null   int64  \n",
      " 8    predicted_rating_1   1834 non-null   float64\n",
      " 9    movie_2              1834 non-null   int64  \n",
      " 10   predicted_rating_2   1834 non-null   float64\n",
      " 11   movie_3              1834 non-null   int64  \n",
      " 12   predicted_rating_3   1834 non-null   float64\n",
      " 13   movie_4              1834 non-null   int64  \n",
      " 14   predicted_rating_4   1834 non-null   float64\n",
      " 15   movie_5              1834 non-null   int64  \n",
      " 16   predicted_rating_5   1834 non-null   float64\n",
      " 17   movie_6              1834 non-null   int64  \n",
      " 18   predicted_rating_6   1834 non-null   float64\n",
      " 19   movie_7              1834 non-null   int64  \n",
      " 20   predicted_rating_7   1834 non-null   float64\n",
      " 21   movie_8              1834 non-null   int64  \n",
      " 22   predicted_rating_8   1834 non-null   float64\n",
      " 23   movie_9              1834 non-null   int64  \n",
      " 24   predicted_rating_9   1834 non-null   float64\n",
      " 25   movie_10             1834 non-null   int64  \n",
      " 26   predicted_rating_10  1834 non-null   float64\n",
      " 27   movie_11             1834 non-null   int64  \n",
      " 28   predicted_rating_11  1834 non-null   float64\n",
      " 29   movie_12             1834 non-null   int64  \n",
      " 30   predicted_rating_12  1834 non-null   float64\n",
      " 31   is_personalized      1834 non-null   int64  \n",
      " 32   enjoy_watching       1834 non-null   int64  \n",
      "dtypes: float64(17), int64(14), object(2)\n",
      "memory usage: 487.2+ KB\n"
     ]
    }
   ],
   "source": [
    "pers.info()"
   ]
  },
  {
   "cell_type": "code",
   "execution_count": 6,
   "metadata": {},
   "outputs": [
    {
     "data": {
      "text/html": [
       "<div>\n",
       "<style scoped>\n",
       "    .dataframe tbody tr th:only-of-type {\n",
       "        vertical-align: middle;\n",
       "    }\n",
       "\n",
       "    .dataframe tbody tr th {\n",
       "        vertical-align: top;\n",
       "    }\n",
       "\n",
       "    .dataframe thead th {\n",
       "        text-align: right;\n",
       "    }\n",
       "</style>\n",
       "<table border=\"1\" class=\"dataframe\">\n",
       "  <thead>\n",
       "    <tr style=\"text-align: right;\">\n",
       "      <th></th>\n",
       "      <th>count</th>\n",
       "      <th>mean</th>\n",
       "      <th>std</th>\n",
       "      <th>min</th>\n",
       "      <th>25%</th>\n",
       "      <th>50%</th>\n",
       "      <th>75%</th>\n",
       "      <th>max</th>\n",
       "    </tr>\n",
       "  </thead>\n",
       "  <tbody>\n",
       "    <tr>\n",
       "      <th>openness</th>\n",
       "      <td>1834.0</td>\n",
       "      <td>5.376499</td>\n",
       "      <td>1.042804</td>\n",
       "      <td>1.000000</td>\n",
       "      <td>4.500000</td>\n",
       "      <td>5.500000</td>\n",
       "      <td>6.000000</td>\n",
       "      <td>7.000000</td>\n",
       "    </tr>\n",
       "    <tr>\n",
       "      <th>agreeableness</th>\n",
       "      <td>1834.0</td>\n",
       "      <td>4.215921</td>\n",
       "      <td>1.137923</td>\n",
       "      <td>1.000000</td>\n",
       "      <td>3.500000</td>\n",
       "      <td>4.000000</td>\n",
       "      <td>5.000000</td>\n",
       "      <td>7.000000</td>\n",
       "    </tr>\n",
       "    <tr>\n",
       "      <th>emotional_stability</th>\n",
       "      <td>1834.0</td>\n",
       "      <td>4.561614</td>\n",
       "      <td>1.392548</td>\n",
       "      <td>1.000000</td>\n",
       "      <td>3.500000</td>\n",
       "      <td>4.500000</td>\n",
       "      <td>5.500000</td>\n",
       "      <td>7.000000</td>\n",
       "    </tr>\n",
       "    <tr>\n",
       "      <th>conscientiousness</th>\n",
       "      <td>1834.0</td>\n",
       "      <td>4.662486</td>\n",
       "      <td>1.311450</td>\n",
       "      <td>1.000000</td>\n",
       "      <td>4.000000</td>\n",
       "      <td>4.500000</td>\n",
       "      <td>5.500000</td>\n",
       "      <td>7.000000</td>\n",
       "    </tr>\n",
       "    <tr>\n",
       "      <th>extraversion</th>\n",
       "      <td>1834.0</td>\n",
       "      <td>3.485551</td>\n",
       "      <td>1.468503</td>\n",
       "      <td>1.000000</td>\n",
       "      <td>2.500000</td>\n",
       "      <td>3.500000</td>\n",
       "      <td>4.500000</td>\n",
       "      <td>7.000000</td>\n",
       "    </tr>\n",
       "    <tr>\n",
       "      <th>movie_1</th>\n",
       "      <td>1834.0</td>\n",
       "      <td>45669.233915</td>\n",
       "      <td>46612.744107</td>\n",
       "      <td>6.000000</td>\n",
       "      <td>2019.000000</td>\n",
       "      <td>17392.000000</td>\n",
       "      <td>94466.000000</td>\n",
       "      <td>140737.000000</td>\n",
       "    </tr>\n",
       "    <tr>\n",
       "      <th>predicted_rating_1</th>\n",
       "      <td>1834.0</td>\n",
       "      <td>4.362927</td>\n",
       "      <td>0.383549</td>\n",
       "      <td>2.510682</td>\n",
       "      <td>4.110614</td>\n",
       "      <td>4.355815</td>\n",
       "      <td>4.618449</td>\n",
       "      <td>6.563889</td>\n",
       "    </tr>\n",
       "    <tr>\n",
       "      <th>movie_2</th>\n",
       "      <td>1834.0</td>\n",
       "      <td>50656.360414</td>\n",
       "      <td>46669.152356</td>\n",
       "      <td>1.000000</td>\n",
       "      <td>3307.750000</td>\n",
       "      <td>44377.000000</td>\n",
       "      <td>96606.000000</td>\n",
       "      <td>136445.000000</td>\n",
       "    </tr>\n",
       "    <tr>\n",
       "      <th>predicted_rating_2</th>\n",
       "      <td>1834.0</td>\n",
       "      <td>4.322496</td>\n",
       "      <td>0.378746</td>\n",
       "      <td>2.423497</td>\n",
       "      <td>4.084125</td>\n",
       "      <td>4.320721</td>\n",
       "      <td>4.556173</td>\n",
       "      <td>6.585588</td>\n",
       "    </tr>\n",
       "    <tr>\n",
       "      <th>movie_3</th>\n",
       "      <td>1834.0</td>\n",
       "      <td>51791.061069</td>\n",
       "      <td>46172.769718</td>\n",
       "      <td>6.000000</td>\n",
       "      <td>3031.250000</td>\n",
       "      <td>48780.000000</td>\n",
       "      <td>95311.000000</td>\n",
       "      <td>141761.000000</td>\n",
       "    </tr>\n",
       "    <tr>\n",
       "      <th>predicted_rating_3</th>\n",
       "      <td>1834.0</td>\n",
       "      <td>4.310485</td>\n",
       "      <td>0.389661</td>\n",
       "      <td>2.334397</td>\n",
       "      <td>4.059875</td>\n",
       "      <td>4.308237</td>\n",
       "      <td>4.572351</td>\n",
       "      <td>6.437737</td>\n",
       "    </tr>\n",
       "    <tr>\n",
       "      <th>movie_4</th>\n",
       "      <td>1834.0</td>\n",
       "      <td>49927.826063</td>\n",
       "      <td>46546.840789</td>\n",
       "      <td>1.000000</td>\n",
       "      <td>2918.000000</td>\n",
       "      <td>44197.000000</td>\n",
       "      <td>95604.000000</td>\n",
       "      <td>140265.000000</td>\n",
       "    </tr>\n",
       "    <tr>\n",
       "      <th>predicted_rating_4</th>\n",
       "      <td>1834.0</td>\n",
       "      <td>4.302079</td>\n",
       "      <td>0.383807</td>\n",
       "      <td>2.446774</td>\n",
       "      <td>4.043363</td>\n",
       "      <td>4.297630</td>\n",
       "      <td>4.549842</td>\n",
       "      <td>7.216901</td>\n",
       "    </tr>\n",
       "    <tr>\n",
       "      <th>movie_5</th>\n",
       "      <td>1834.0</td>\n",
       "      <td>47616.419847</td>\n",
       "      <td>45936.397132</td>\n",
       "      <td>6.000000</td>\n",
       "      <td>2423.250000</td>\n",
       "      <td>33779.000000</td>\n",
       "      <td>93006.000000</td>\n",
       "      <td>135567.000000</td>\n",
       "    </tr>\n",
       "    <tr>\n",
       "      <th>predicted_rating_5</th>\n",
       "      <td>1834.0</td>\n",
       "      <td>4.299958</td>\n",
       "      <td>0.380832</td>\n",
       "      <td>2.606057</td>\n",
       "      <td>4.042813</td>\n",
       "      <td>4.298478</td>\n",
       "      <td>4.559509</td>\n",
       "      <td>6.370870</td>\n",
       "    </tr>\n",
       "    <tr>\n",
       "      <th>movie_6</th>\n",
       "      <td>1834.0</td>\n",
       "      <td>43602.852236</td>\n",
       "      <td>44956.663214</td>\n",
       "      <td>1.000000</td>\n",
       "      <td>2020.500000</td>\n",
       "      <td>26614.000000</td>\n",
       "      <td>88531.000000</td>\n",
       "      <td>142871.000000</td>\n",
       "    </tr>\n",
       "    <tr>\n",
       "      <th>predicted_rating_6</th>\n",
       "      <td>1834.0</td>\n",
       "      <td>4.300766</td>\n",
       "      <td>0.373970</td>\n",
       "      <td>2.378735</td>\n",
       "      <td>4.053204</td>\n",
       "      <td>4.296220</td>\n",
       "      <td>4.545660</td>\n",
       "      <td>6.064117</td>\n",
       "    </tr>\n",
       "    <tr>\n",
       "      <th>movie_7</th>\n",
       "      <td>1834.0</td>\n",
       "      <td>42005.860960</td>\n",
       "      <td>44992.309865</td>\n",
       "      <td>1.000000</td>\n",
       "      <td>2019.000000</td>\n",
       "      <td>8364.000000</td>\n",
       "      <td>86528.000000</td>\n",
       "      <td>139855.000000</td>\n",
       "    </tr>\n",
       "    <tr>\n",
       "      <th>predicted_rating_7</th>\n",
       "      <td>1834.0</td>\n",
       "      <td>4.297656</td>\n",
       "      <td>0.375688</td>\n",
       "      <td>2.401339</td>\n",
       "      <td>4.051777</td>\n",
       "      <td>4.295978</td>\n",
       "      <td>4.545643</td>\n",
       "      <td>6.331396</td>\n",
       "    </tr>\n",
       "    <tr>\n",
       "      <th>movie_8</th>\n",
       "      <td>1834.0</td>\n",
       "      <td>41146.596510</td>\n",
       "      <td>44318.996536</td>\n",
       "      <td>6.000000</td>\n",
       "      <td>2283.500000</td>\n",
       "      <td>7767.000000</td>\n",
       "      <td>85774.000000</td>\n",
       "      <td>134853.000000</td>\n",
       "    </tr>\n",
       "    <tr>\n",
       "      <th>predicted_rating_8</th>\n",
       "      <td>1834.0</td>\n",
       "      <td>4.296113</td>\n",
       "      <td>0.377126</td>\n",
       "      <td>2.320503</td>\n",
       "      <td>4.041609</td>\n",
       "      <td>4.287963</td>\n",
       "      <td>4.552859</td>\n",
       "      <td>6.288501</td>\n",
       "    </tr>\n",
       "    <tr>\n",
       "      <th>movie_9</th>\n",
       "      <td>1834.0</td>\n",
       "      <td>39458.009269</td>\n",
       "      <td>44511.776921</td>\n",
       "      <td>1.000000</td>\n",
       "      <td>1766.750000</td>\n",
       "      <td>7156.000000</td>\n",
       "      <td>84847.000000</td>\n",
       "      <td>140359.000000</td>\n",
       "    </tr>\n",
       "    <tr>\n",
       "      <th>predicted_rating_9</th>\n",
       "      <td>1834.0</td>\n",
       "      <td>4.302993</td>\n",
       "      <td>0.380281</td>\n",
       "      <td>2.483215</td>\n",
       "      <td>4.049153</td>\n",
       "      <td>4.307194</td>\n",
       "      <td>4.545671</td>\n",
       "      <td>6.606617</td>\n",
       "    </tr>\n",
       "    <tr>\n",
       "      <th>movie_10</th>\n",
       "      <td>1834.0</td>\n",
       "      <td>38493.352236</td>\n",
       "      <td>43444.149855</td>\n",
       "      <td>1.000000</td>\n",
       "      <td>1302.000000</td>\n",
       "      <td>6964.000000</td>\n",
       "      <td>81847.000000</td>\n",
       "      <td>134853.000000</td>\n",
       "    </tr>\n",
       "    <tr>\n",
       "      <th>predicted_rating_10</th>\n",
       "      <td>1834.0</td>\n",
       "      <td>4.301880</td>\n",
       "      <td>0.383848</td>\n",
       "      <td>2.799538</td>\n",
       "      <td>4.059146</td>\n",
       "      <td>4.294702</td>\n",
       "      <td>4.539686</td>\n",
       "      <td>7.345432</td>\n",
       "    </tr>\n",
       "    <tr>\n",
       "      <th>movie_11</th>\n",
       "      <td>1834.0</td>\n",
       "      <td>39280.998909</td>\n",
       "      <td>43446.111523</td>\n",
       "      <td>1.000000</td>\n",
       "      <td>1466.000000</td>\n",
       "      <td>7505.000000</td>\n",
       "      <td>81845.000000</td>\n",
       "      <td>142115.000000</td>\n",
       "    </tr>\n",
       "    <tr>\n",
       "      <th>predicted_rating_11</th>\n",
       "      <td>1834.0</td>\n",
       "      <td>4.300609</td>\n",
       "      <td>0.378476</td>\n",
       "      <td>2.375510</td>\n",
       "      <td>4.052558</td>\n",
       "      <td>4.299400</td>\n",
       "      <td>4.549493</td>\n",
       "      <td>6.530355</td>\n",
       "    </tr>\n",
       "    <tr>\n",
       "      <th>movie_12</th>\n",
       "      <td>1834.0</td>\n",
       "      <td>38871.924755</td>\n",
       "      <td>43486.579385</td>\n",
       "      <td>1.000000</td>\n",
       "      <td>1256.000000</td>\n",
       "      <td>7361.000000</td>\n",
       "      <td>82069.000000</td>\n",
       "      <td>139195.000000</td>\n",
       "    </tr>\n",
       "    <tr>\n",
       "      <th>predicted_rating_12</th>\n",
       "      <td>1834.0</td>\n",
       "      <td>4.302449</td>\n",
       "      <td>0.378439</td>\n",
       "      <td>2.313341</td>\n",
       "      <td>4.050181</td>\n",
       "      <td>4.305078</td>\n",
       "      <td>4.550886</td>\n",
       "      <td>6.574597</td>\n",
       "    </tr>\n",
       "    <tr>\n",
       "      <th>is_personalized</th>\n",
       "      <td>1834.0</td>\n",
       "      <td>3.056707</td>\n",
       "      <td>1.078507</td>\n",
       "      <td>1.000000</td>\n",
       "      <td>2.000000</td>\n",
       "      <td>3.000000</td>\n",
       "      <td>4.000000</td>\n",
       "      <td>5.000000</td>\n",
       "    </tr>\n",
       "    <tr>\n",
       "      <th>enjoy_watching</th>\n",
       "      <td>1834.0</td>\n",
       "      <td>3.517993</td>\n",
       "      <td>1.059060</td>\n",
       "      <td>1.000000</td>\n",
       "      <td>3.000000</td>\n",
       "      <td>4.000000</td>\n",
       "      <td>4.000000</td>\n",
       "      <td>5.000000</td>\n",
       "    </tr>\n",
       "  </tbody>\n",
       "</table>\n",
       "</div>"
      ],
      "text/plain": [
       "                       count          mean           std       min  \\\n",
       " openness             1834.0      5.376499      1.042804  1.000000   \n",
       " agreeableness        1834.0      4.215921      1.137923  1.000000   \n",
       " emotional_stability  1834.0      4.561614      1.392548  1.000000   \n",
       " conscientiousness    1834.0      4.662486      1.311450  1.000000   \n",
       " extraversion         1834.0      3.485551      1.468503  1.000000   \n",
       " movie_1              1834.0  45669.233915  46612.744107  6.000000   \n",
       " predicted_rating_1   1834.0      4.362927      0.383549  2.510682   \n",
       " movie_2              1834.0  50656.360414  46669.152356  1.000000   \n",
       " predicted_rating_2   1834.0      4.322496      0.378746  2.423497   \n",
       " movie_3              1834.0  51791.061069  46172.769718  6.000000   \n",
       " predicted_rating_3   1834.0      4.310485      0.389661  2.334397   \n",
       " movie_4              1834.0  49927.826063  46546.840789  1.000000   \n",
       " predicted_rating_4   1834.0      4.302079      0.383807  2.446774   \n",
       " movie_5              1834.0  47616.419847  45936.397132  6.000000   \n",
       " predicted_rating_5   1834.0      4.299958      0.380832  2.606057   \n",
       " movie_6              1834.0  43602.852236  44956.663214  1.000000   \n",
       " predicted_rating_6   1834.0      4.300766      0.373970  2.378735   \n",
       " movie_7              1834.0  42005.860960  44992.309865  1.000000   \n",
       " predicted_rating_7   1834.0      4.297656      0.375688  2.401339   \n",
       " movie_8              1834.0  41146.596510  44318.996536  6.000000   \n",
       " predicted_rating_8   1834.0      4.296113      0.377126  2.320503   \n",
       " movie_9              1834.0  39458.009269  44511.776921  1.000000   \n",
       " predicted_rating_9   1834.0      4.302993      0.380281  2.483215   \n",
       " movie_10             1834.0  38493.352236  43444.149855  1.000000   \n",
       " predicted_rating_10  1834.0      4.301880      0.383848  2.799538   \n",
       " movie_11             1834.0  39280.998909  43446.111523  1.000000   \n",
       " predicted_rating_11  1834.0      4.300609      0.378476  2.375510   \n",
       " movie_12             1834.0  38871.924755  43486.579385  1.000000   \n",
       " predicted_rating_12  1834.0      4.302449      0.378439  2.313341   \n",
       " is_personalized      1834.0      3.056707      1.078507  1.000000   \n",
       " enjoy_watching       1834.0      3.517993      1.059060  1.000000   \n",
       "\n",
       "                              25%           50%           75%            max  \n",
       " openness                4.500000      5.500000      6.000000       7.000000  \n",
       " agreeableness           3.500000      4.000000      5.000000       7.000000  \n",
       " emotional_stability     3.500000      4.500000      5.500000       7.000000  \n",
       " conscientiousness       4.000000      4.500000      5.500000       7.000000  \n",
       " extraversion            2.500000      3.500000      4.500000       7.000000  \n",
       " movie_1              2019.000000  17392.000000  94466.000000  140737.000000  \n",
       " predicted_rating_1      4.110614      4.355815      4.618449       6.563889  \n",
       " movie_2              3307.750000  44377.000000  96606.000000  136445.000000  \n",
       " predicted_rating_2      4.084125      4.320721      4.556173       6.585588  \n",
       " movie_3              3031.250000  48780.000000  95311.000000  141761.000000  \n",
       " predicted_rating_3      4.059875      4.308237      4.572351       6.437737  \n",
       " movie_4              2918.000000  44197.000000  95604.000000  140265.000000  \n",
       " predicted_rating_4      4.043363      4.297630      4.549842       7.216901  \n",
       " movie_5              2423.250000  33779.000000  93006.000000  135567.000000  \n",
       " predicted_rating_5      4.042813      4.298478      4.559509       6.370870  \n",
       " movie_6              2020.500000  26614.000000  88531.000000  142871.000000  \n",
       " predicted_rating_6      4.053204      4.296220      4.545660       6.064117  \n",
       " movie_7              2019.000000   8364.000000  86528.000000  139855.000000  \n",
       " predicted_rating_7      4.051777      4.295978      4.545643       6.331396  \n",
       " movie_8              2283.500000   7767.000000  85774.000000  134853.000000  \n",
       " predicted_rating_8      4.041609      4.287963      4.552859       6.288501  \n",
       " movie_9              1766.750000   7156.000000  84847.000000  140359.000000  \n",
       " predicted_rating_9      4.049153      4.307194      4.545671       6.606617  \n",
       " movie_10             1302.000000   6964.000000  81847.000000  134853.000000  \n",
       " predicted_rating_10     4.059146      4.294702      4.539686       7.345432  \n",
       " movie_11             1466.000000   7505.000000  81845.000000  142115.000000  \n",
       " predicted_rating_11     4.052558      4.299400      4.549493       6.530355  \n",
       " movie_12             1256.000000   7361.000000  82069.000000  139195.000000  \n",
       " predicted_rating_12     4.050181      4.305078      4.550886       6.574597  \n",
       " is_personalized         2.000000      3.000000      4.000000       5.000000  \n",
       " enjoy_watching          3.000000      4.000000      4.000000       5.000000  "
      ]
     },
     "execution_count": 6,
     "metadata": {},
     "output_type": "execute_result"
    }
   ],
   "source": [
    "pers.describe().transpose()"
   ]
  },
  {
   "cell_type": "code",
   "execution_count": 7,
   "metadata": {},
   "outputs": [
    {
     "data": {
      "text/html": [
       "<div>\n",
       "<style scoped>\n",
       "    .dataframe tbody tr th:only-of-type {\n",
       "        vertical-align: middle;\n",
       "    }\n",
       "\n",
       "    .dataframe tbody tr th {\n",
       "        vertical-align: top;\n",
       "    }\n",
       "\n",
       "    .dataframe thead th {\n",
       "        text-align: right;\n",
       "    }\n",
       "</style>\n",
       "<table border=\"1\" class=\"dataframe\">\n",
       "  <thead>\n",
       "    <tr style=\"text-align: right;\">\n",
       "      <th></th>\n",
       "      <th>count</th>\n",
       "      <th>unique</th>\n",
       "      <th>top</th>\n",
       "      <th>freq</th>\n",
       "    </tr>\n",
       "  </thead>\n",
       "  <tbody>\n",
       "    <tr>\n",
       "      <th>assigned metric</th>\n",
       "      <td>1834</td>\n",
       "      <td>4</td>\n",
       "      <td>popularity</td>\n",
       "      <td>574</td>\n",
       "    </tr>\n",
       "    <tr>\n",
       "      <th>assigned condition</th>\n",
       "      <td>1834</td>\n",
       "      <td>4</td>\n",
       "      <td>high</td>\n",
       "      <td>554</td>\n",
       "    </tr>\n",
       "  </tbody>\n",
       "</table>\n",
       "</div>"
      ],
      "text/plain": [
       "                    count unique          top freq\n",
       " assigned metric     1834      4   popularity  574\n",
       " assigned condition  1834      4         high  554"
      ]
     },
     "execution_count": 7,
     "metadata": {},
     "output_type": "execute_result"
    }
   ],
   "source": [
    "pers.describe(exclude=np.number).transpose()"
   ]
  },
  {
   "cell_type": "code",
   "execution_count": 8,
   "metadata": {},
   "outputs": [
    {
     "data": {
      "text/plain": [
       "Index([' openness', ' agreeableness', ' emotional_stability',\n",
       "       ' conscientiousness', ' extraversion', ' assigned metric',\n",
       "       ' assigned condition', ' movie_1', ' predicted_rating_1', ' movie_2',\n",
       "       ' predicted_rating_2', ' movie_3', ' predicted_rating_3', ' movie_4',\n",
       "       ' predicted_rating_4', ' movie_5', ' predicted_rating_5', ' movie_6',\n",
       "       ' predicted_rating_6', ' movie_7', ' predicted_rating_7', ' movie_8',\n",
       "       ' predicted_rating_8', ' movie_9', ' predicted_rating_9', ' movie_10',\n",
       "       ' predicted_rating_10', ' movie_11', ' predicted_rating_11',\n",
       "       ' movie_12', ' predicted_rating_12', ' is_personalized',\n",
       "       ' enjoy_watching '],\n",
       "      dtype='object')"
      ]
     },
     "execution_count": 8,
     "metadata": {},
     "output_type": "execute_result"
    }
   ],
   "source": [
    "pers.columns"
   ]
  },
  {
   "cell_type": "markdown",
   "metadata": {},
   "source": [
    "<h4># HISTOGRAM</h4>\n",
    "<b>What are the overall tendencies in personalities?</b><br>\n",
    "<b>How prevalent is each personality trait?</b>"
   ]
  },
  {
   "cell_type": "code",
   "execution_count": 9,
   "metadata": {},
   "outputs": [],
   "source": [
    "from matplotlib import colors\n",
    "from matplotlib.ticker import PercentFormatter"
   ]
  },
  {
   "cell_type": "code",
   "execution_count": 10,
   "metadata": {},
   "outputs": [
    {
     "data": {
      "text/plain": [
       "Text(0.5, 1.0, 'Extraversion')"
      ]
     },
     "execution_count": 10,
     "metadata": {},
     "output_type": "execute_result"
    },
    {
     "data": {
      "image/png": "[encoded data removed]",
      "text/plain": [
       "<Figure size 1000x500 with 6 Axes>"
      ]
     },
     "metadata": {
      "needs_background": "light"
     },
     "output_type": "display_data"
    }
   ],
   "source": [
    "# Histogram plots\n",
    "fig,ax = plt.subplots(2,3, dpi=100, figsize=(10,5), sharey=True, sharex=True, tight_layout=True)\n",
    "\n",
    "# Openness\n",
    "ax[0,0].hist(pers[' openness'], bins=7, density=True, color='orange')\n",
    "ax[0,0].set_title('Openness')\n",
    "ax[0,0].yaxis.set_major_formatter(PercentFormatter(xmax=1,decimals=0))\n",
    "\n",
    "# Agreeableness\n",
    "ax[0,1].hist(pers[' agreeableness'], bins=7, density=True, color='green')\n",
    "ax[0,1].set_title('Agreeableness')\n",
    "\n",
    "# Emotional Stability\n",
    "ax[0,2].hist(pers[' emotional_stability'], bins=7, density=True)\n",
    "ax[0,2].set_title('Emotional Stability')\n",
    "\n",
    "# Conscientiousness\n",
    "ax[1,0].hist(pers[' conscientiousness'], bins=7, density=True, color='brown')\n",
    "ax[1,0].set_title('Conscientiousness')\n",
    "\n",
    "# Extraversion\n",
    "ax[1,1].hist(pers[' extraversion'], bins=7, density=True, color='purple')\n",
    "ax[1,1].set_title('Extraversion')"
   ]
  },
  {
   "cell_type": "markdown",
   "metadata": {},
   "source": [
    "<h4># BAR</h4>\n",
    "<b>Is personalization associated with higher movie enjoyment?</b><br>"
   ]
  },
  {
   "cell_type": "code",
   "execution_count": 11,
   "metadata": {},
   "outputs": [
    {
     "data": {
      "text/plain": [
       "4    639\n",
       "3    506\n",
       "2    419\n",
       "1    164\n",
       "5    106\n",
       "Name:  is_personalized, dtype: int64"
      ]
     },
     "execution_count": 11,
     "metadata": {},
     "output_type": "execute_result"
    }
   ],
   "source": [
    "pers[' is_personalized'].value_counts()"
   ]
  },
  {
   "cell_type": "code",
   "execution_count": 12,
   "metadata": {},
   "outputs": [
    {
     "data": {
      "text/plain": [
       "['1', '2', '3', '4', '5']"
      ]
     },
     "execution_count": 12,
     "metadata": {},
     "output_type": "execute_result"
    }
   ],
   "source": [
    "# Create label\n",
    "labels = '1 2 3 4 5'.split()\n",
    "labels"
   ]
  },
  {
   "cell_type": "code",
   "execution_count": 15,
   "metadata": {},
   "outputs": [
    {
     "data": {
      "text/plain": [
       " is_personalized\n",
       "1    2.225610\n",
       "2    2.825776\n",
       "3    3.525692\n",
       "4    4.097027\n",
       "5    4.726415\n",
       "Name:  enjoy_watching , dtype: float64"
      ]
     },
     "execution_count": 15,
     "metadata": {},
     "output_type": "execute_result"
    }
   ],
   "source": [
    "# Create series\n",
    "enjoy = pers[' enjoy_watching '].groupby(pers[' is_personalized']).mean()\n",
    "enjoy"
   ]
  },
  {
   "cell_type": "code",
   "execution_count": 16,
   "metadata": {},
   "outputs": [
    {
     "data": {
      "text/plain": [
       "Text(0.5, 1.0, 'Enjoyment vs. Personalization')"
      ]
     },
     "execution_count": 16,
     "metadata": {},
     "output_type": "execute_result"
    },
    {
     "data": {
      "image/png": "[encoded data removed]",
      "text/plain": [
       "<Figure size 432x288 with 1 Axes>"
      ]
     },
     "metadata": {
      "needs_background": "light"
     },
     "output_type": "display_data"
    }
   ],
   "source": [
    "# Create chart\n",
    "fig,ax = plt.subplots(1,1)\n",
    "ax.bar(labels,enjoy,color='purple', alpha=0.3)\n",
    "ax.set_xlabel('Perception of Personalization')\n",
    "ax.set_ylabel('Enjoyment (means)')\n",
    "ax.set_title('Enjoyment vs. Personalization')"
   ]
  },
  {
   "cell_type": "markdown",
   "metadata": {},
   "source": [
    "<h4># SCATTERPLOT</h4>\n",
    "<b>If someone is more agreeable, are they more likely to rate a movie higher?</b><br>"
   ]
  },
  {
   "cell_type": "code",
   "execution_count": 19,
   "metadata": {},
   "outputs": [
    {
     "data": {
      "text/plain": [
       "Text(0, 0.5, 'Movie Rating 1')"
      ]
     },
     "execution_count": 19,
     "metadata": {},
     "output_type": "execute_result"
    },
    {
     "data": {
      "image/png": "[encoded data removed]",
      "text/plain": [
       "<Figure size 432x288 with 1 Axes>"
      ]
     },
     "metadata": {
      "needs_background": "light"
     },
     "output_type": "display_data"
    }
   ],
   "source": [
    "# Create series\n",
    "x= pers[' agreeableness']\n",
    "y= pers[' predicted_rating_1']\n",
    "\n",
    "# Create scatterplot\n",
    "plt.scatter(x,y,c='black',marker='.',alpha=0.5)\n",
    "plt.xlabel('Agreeableness')\n",
    "plt.ylabel('Movie Rating 1')"
   ]
  },
  {
   "cell_type": "markdown",
   "metadata": {},
   "source": [
    "<h4># LINE GRAPH</h4>\n",
    "<b>How does movie ratings vary across the personality spectrum?</b>"
   ]
  },
  {
   "cell_type": "code",
   "execution_count": 18,
   "metadata": {},
   "outputs": [
    {
     "data": {
      "text/plain": [
       "<matplotlib.legend.Legend at 0x1c98e383148>"
      ]
     },
     "execution_count": 18,
     "metadata": {},
     "output_type": "execute_result"
    },
    {
     "data": {
      "image/png": "[encoded data removed]",
      "text/plain": [
       "<Figure size 432x288 with 1 Axes>"
      ]
     },
     "metadata": {
      "needs_background": "light"
     },
     "output_type": "display_data"
    }
   ],
   "source": [
    "# labels : personality scale\n",
    "label_17 = np.arange(1,7.5,0.5)\n",
    "\n",
    "# series : movie rating 1 by 'openness'\n",
    "y1 = pers[' predicted_rating_1'].groupby(pers[' emotional_stability']).mean()\n",
    "y2 = pers[' predicted_rating_1'].groupby(pers[' extraversion']).mean()\n",
    "\n",
    "# line graph\n",
    "plt.plot(label_17,y1,y2)\n",
    "plt.title('Avg Movie Rating by Personality')\n",
    "plt.xlabel('Personality Scale')\n",
    "plt.ylabel('Avg Movie Rating')\n",
    "plt.ylim(4,5)\n",
    "plt.legend(('Emotional Stability','Extraversion'))"
   ]
  },
  {
   "cell_type": "markdown",
   "metadata": {},
   "source": [
    "<h4># HEATMAP</h4>\n",
    "<b>How does movie ratings in different categories vary across Extraversion spectrum?</b>"
   ]
  },
  {
   "cell_type": "code",
   "execution_count": 20,
   "metadata": {},
   "outputs": [
    {
     "data": {
      "text/html": [
       "<div>\n",
       "<style scoped>\n",
       "    .dataframe tbody tr th:only-of-type {\n",
       "        vertical-align: middle;\n",
       "    }\n",
       "\n",
       "    .dataframe tbody tr th {\n",
       "        vertical-align: top;\n",
       "    }\n",
       "\n",
       "    .dataframe thead th {\n",
       "        text-align: right;\n",
       "    }\n",
       "</style>\n",
       "<table border=\"1\" class=\"dataframe\">\n",
       "  <thead>\n",
       "    <tr style=\"text-align: right;\">\n",
       "      <th>extraversion</th>\n",
       "      <th>1.0</th>\n",
       "      <th>1.5</th>\n",
       "      <th>2.0</th>\n",
       "      <th>2.5</th>\n",
       "      <th>3.0</th>\n",
       "      <th>3.5</th>\n",
       "      <th>4.0</th>\n",
       "      <th>4.5</th>\n",
       "      <th>5.0</th>\n",
       "      <th>5.5</th>\n",
       "      <th>6.0</th>\n",
       "      <th>6.5</th>\n",
       "      <th>7.0</th>\n",
       "    </tr>\n",
       "    <tr>\n",
       "      <th>assigned metric</th>\n",
       "      <th></th>\n",
       "      <th></th>\n",
       "      <th></th>\n",
       "      <th></th>\n",
       "      <th></th>\n",
       "      <th></th>\n",
       "      <th></th>\n",
       "      <th></th>\n",
       "      <th></th>\n",
       "      <th></th>\n",
       "      <th></th>\n",
       "      <th></th>\n",
       "      <th></th>\n",
       "    </tr>\n",
       "  </thead>\n",
       "  <tbody>\n",
       "    <tr>\n",
       "      <th>all</th>\n",
       "      <td>4.675868</td>\n",
       "      <td>4.701467</td>\n",
       "      <td>4.635019</td>\n",
       "      <td>4.474886</td>\n",
       "      <td>4.618950</td>\n",
       "      <td>4.566587</td>\n",
       "      <td>4.702947</td>\n",
       "      <td>4.359429</td>\n",
       "      <td>4.577358</td>\n",
       "      <td>4.644012</td>\n",
       "      <td>4.429635</td>\n",
       "      <td>4.481255</td>\n",
       "      <td>4.387798</td>\n",
       "    </tr>\n",
       "    <tr>\n",
       "      <th>diversity</th>\n",
       "      <td>4.412796</td>\n",
       "      <td>4.377436</td>\n",
       "      <td>4.380733</td>\n",
       "      <td>4.401446</td>\n",
       "      <td>4.539217</td>\n",
       "      <td>4.386003</td>\n",
       "      <td>4.443246</td>\n",
       "      <td>4.366475</td>\n",
       "      <td>4.458873</td>\n",
       "      <td>4.366465</td>\n",
       "      <td>4.423117</td>\n",
       "      <td>4.412450</td>\n",
       "      <td>4.466399</td>\n",
       "    </tr>\n",
       "    <tr>\n",
       "      <th>popularity</th>\n",
       "      <td>4.181090</td>\n",
       "      <td>4.287417</td>\n",
       "      <td>4.311429</td>\n",
       "      <td>4.296530</td>\n",
       "      <td>4.288392</td>\n",
       "      <td>4.255379</td>\n",
       "      <td>4.264720</td>\n",
       "      <td>4.146436</td>\n",
       "      <td>4.319958</td>\n",
       "      <td>4.368850</td>\n",
       "      <td>4.331476</td>\n",
       "      <td>4.306907</td>\n",
       "      <td>4.373904</td>\n",
       "    </tr>\n",
       "    <tr>\n",
       "      <th>serendipity</th>\n",
       "      <td>4.415623</td>\n",
       "      <td>4.245434</td>\n",
       "      <td>4.231956</td>\n",
       "      <td>4.295139</td>\n",
       "      <td>4.244086</td>\n",
       "      <td>4.323204</td>\n",
       "      <td>4.351514</td>\n",
       "      <td>4.469597</td>\n",
       "      <td>4.327386</td>\n",
       "      <td>4.293194</td>\n",
       "      <td>4.349425</td>\n",
       "      <td>4.384065</td>\n",
       "      <td>4.511510</td>\n",
       "    </tr>\n",
       "  </tbody>\n",
       "</table>\n",
       "</div>"
      ],
      "text/plain": [
       " extraversion          1.0       1.5       2.0       2.5       3.0       3.5  \\\n",
       " assigned metric                                                               \n",
       " all              4.675868  4.701467  4.635019  4.474886  4.618950  4.566587   \n",
       " diversity        4.412796  4.377436  4.380733  4.401446  4.539217  4.386003   \n",
       " popularity       4.181090  4.287417  4.311429  4.296530  4.288392  4.255379   \n",
       " serendipity      4.415623  4.245434  4.231956  4.295139  4.244086  4.323204   \n",
       "\n",
       " extraversion          4.0       4.5       5.0       5.5       6.0       6.5  \\\n",
       " assigned metric                                                               \n",
       " all              4.702947  4.359429  4.577358  4.644012  4.429635  4.481255   \n",
       " diversity        4.443246  4.366475  4.458873  4.366465  4.423117  4.412450   \n",
       " popularity       4.264720  4.146436  4.319958  4.368850  4.331476  4.306907   \n",
       " serendipity      4.351514  4.469597  4.327386  4.293194  4.349425  4.384065   \n",
       "\n",
       " extraversion          7.0  \n",
       " assigned metric            \n",
       " all              4.387798  \n",
       " diversity        4.466399  \n",
       " popularity       4.373904  \n",
       " serendipity      4.511510  "
      ]
     },
     "execution_count": 20,
     "metadata": {},
     "output_type": "execute_result"
    }
   ],
   "source": [
    "# Create dataframe for the heatmap\n",
    "piv = pd.DataFrame(pers.pivot_table(\n",
    "    values=' predicted_rating_1',\n",
    "    index=' assigned metric',\n",
    "    columns=' extraversion'))\n",
    "piv"
   ]
  },
  {
   "cell_type": "code",
   "execution_count": 21,
   "metadata": {},
   "outputs": [
    {
     "data": {
      "text/html": [
       "<div>\n",
       "<style scoped>\n",
       "    .dataframe tbody tr th:only-of-type {\n",
       "        vertical-align: middle;\n",
       "    }\n",
       "\n",
       "    .dataframe tbody tr th {\n",
       "        vertical-align: top;\n",
       "    }\n",
       "\n",
       "    .dataframe thead th {\n",
       "        text-align: right;\n",
       "    }\n",
       "</style>\n",
       "<table border=\"1\" class=\"dataframe\">\n",
       "  <thead>\n",
       "    <tr style=\"text-align: right;\">\n",
       "      <th>extraversion</th>\n",
       "      <th>1.0</th>\n",
       "      <th>1.5</th>\n",
       "      <th>2.0</th>\n",
       "      <th>2.5</th>\n",
       "      <th>3.0</th>\n",
       "      <th>3.5</th>\n",
       "      <th>4.0</th>\n",
       "      <th>4.5</th>\n",
       "      <th>5.0</th>\n",
       "      <th>5.5</th>\n",
       "      <th>6.0</th>\n",
       "      <th>6.5</th>\n",
       "      <th>7.0</th>\n",
       "    </tr>\n",
       "    <tr>\n",
       "      <th>assigned metric</th>\n",
       "      <th></th>\n",
       "      <th></th>\n",
       "      <th></th>\n",
       "      <th></th>\n",
       "      <th></th>\n",
       "      <th></th>\n",
       "      <th></th>\n",
       "      <th></th>\n",
       "      <th></th>\n",
       "      <th></th>\n",
       "      <th></th>\n",
       "      <th></th>\n",
       "      <th></th>\n",
       "    </tr>\n",
       "  </thead>\n",
       "  <tbody>\n",
       "    <tr>\n",
       "      <th>all</th>\n",
       "      <td>4.67</td>\n",
       "      <td>4.70</td>\n",
       "      <td>4.63</td>\n",
       "      <td>4.47</td>\n",
       "      <td>4.61</td>\n",
       "      <td>4.56</td>\n",
       "      <td>4.70</td>\n",
       "      <td>4.35</td>\n",
       "      <td>4.57</td>\n",
       "      <td>4.64</td>\n",
       "      <td>4.42</td>\n",
       "      <td>4.48</td>\n",
       "      <td>4.38</td>\n",
       "    </tr>\n",
       "    <tr>\n",
       "      <th>diversity</th>\n",
       "      <td>4.41</td>\n",
       "      <td>4.37</td>\n",
       "      <td>4.38</td>\n",
       "      <td>4.40</td>\n",
       "      <td>4.53</td>\n",
       "      <td>4.38</td>\n",
       "      <td>4.44</td>\n",
       "      <td>4.36</td>\n",
       "      <td>4.45</td>\n",
       "      <td>4.36</td>\n",
       "      <td>4.42</td>\n",
       "      <td>4.41</td>\n",
       "      <td>4.46</td>\n",
       "    </tr>\n",
       "    <tr>\n",
       "      <th>popularity</th>\n",
       "      <td>4.18</td>\n",
       "      <td>4.28</td>\n",
       "      <td>4.31</td>\n",
       "      <td>4.29</td>\n",
       "      <td>4.28</td>\n",
       "      <td>4.25</td>\n",
       "      <td>4.26</td>\n",
       "      <td>4.14</td>\n",
       "      <td>4.31</td>\n",
       "      <td>4.36</td>\n",
       "      <td>4.33</td>\n",
       "      <td>4.30</td>\n",
       "      <td>4.37</td>\n",
       "    </tr>\n",
       "    <tr>\n",
       "      <th>serendipity</th>\n",
       "      <td>4.41</td>\n",
       "      <td>4.24</td>\n",
       "      <td>4.23</td>\n",
       "      <td>4.29</td>\n",
       "      <td>4.24</td>\n",
       "      <td>4.32</td>\n",
       "      <td>4.35</td>\n",
       "      <td>4.46</td>\n",
       "      <td>4.32</td>\n",
       "      <td>4.29</td>\n",
       "      <td>4.34</td>\n",
       "      <td>4.38</td>\n",
       "      <td>4.51</td>\n",
       "    </tr>\n",
       "  </tbody>\n",
       "</table>\n",
       "</div>"
      ],
      "text/plain": [
       " extraversion      1.0   1.5   2.0   2.5   3.0   3.5   4.0   4.5   5.0   5.5  \\\n",
       " assigned metric                                                               \n",
       " all              4.67  4.70  4.63  4.47  4.61  4.56  4.70  4.35  4.57  4.64   \n",
       " diversity        4.41  4.37  4.38  4.40  4.53  4.38  4.44  4.36  4.45  4.36   \n",
       " popularity       4.18  4.28  4.31  4.29  4.28  4.25  4.26  4.14  4.31  4.36   \n",
       " serendipity      4.41  4.24  4.23  4.29  4.24  4.32  4.35  4.46  4.32  4.29   \n",
       "\n",
       " extraversion      6.0   6.5   7.0  \n",
       " assigned metric                    \n",
       " all              4.42  4.48  4.38  \n",
       " diversity        4.42  4.41  4.46  \n",
       " popularity       4.33  4.30  4.37  \n",
       " serendipity      4.34  4.38  4.51  "
      ]
     },
     "execution_count": 21,
     "metadata": {},
     "output_type": "execute_result"
    }
   ],
   "source": [
    "# remove decimals for shorter text\n",
    "piv2 = ((piv*100) - (piv*100%1))/100\n",
    "piv2"
   ]
  },
  {
   "cell_type": "code",
   "execution_count": 22,
   "metadata": {},
   "outputs": [
    {
     "data": {
      "image/png": "[encoded data removed]",
      "text/plain": [
       "<Figure size 720x360 with 1 Axes>"
      ]
     },
     "metadata": {
      "needs_background": "light"
     },
     "output_type": "display_data"
    }
   ],
   "source": [
    "# Create simple heatmap\n",
    "fig,ax = plt.subplots(figsize=(10,5))\n",
    "im = ax.imshow(piv)\n",
    "\n",
    "# Show all ticks\n",
    "ax.set_xticks(np.arange(len(piv2.columns)))\n",
    "ax.set_yticks(np.arange(len(piv2.index)))\n",
    "\n",
    "# Add labels\n",
    "ax.set_xticklabels(piv2.columns)\n",
    "ax.set_yticklabels(piv2.index)\n",
    "ax.set_title(\"Movie Category Scores according to Extraversion\")\n",
    "\n",
    "# Loop over data dimensions and create text annotations\n",
    "for i in range(len(piv2.index)):\n",
    "     for j in range(len(piv2.columns)):\n",
    "         text = ax.text(j, i, piv2.iloc[i, j],\n",
    "                       ha=\"center\",va=\"center\",color=\"white\")"
   ]
  }
 ],
 "metadata": {
  "kernelspec": {
   "display_name": "Python 3",
   "language": "python",
   "name": "python3"
  },
  "language_info": {
   "codemirror_mode": {
    "name": "ipython",
    "version": 3
   },
   "file_extension": ".py",
   "mimetype": "text/x-python",
   "name": "python",
   "nbconvert_exporter": "python",
   "pygments_lexer": "ipython3",
   "version": "3.7.6"
  }
 },
 "nbformat": 4,
 "nbformat_minor": 4
}
