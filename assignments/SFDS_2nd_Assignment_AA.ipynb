{
  "nbformat": 4,
  "nbformat_minor": 0,
  "metadata": {
    "kernelspec": {
      "display_name": "Python 3",
      "language": "python",
      "name": "python3"
    },
    "language_info": {
      "codemirror_mode": {
        "name": "ipython",
        "version": 3
      },
      "file_extension": ".py",
      "mimetype": "text/x-python",
      "name": "python",
      "nbconvert_exporter": "python",
      "pygments_lexer": "ipython3",
      "version": "3.7.1"
    },
    "colab": {
      "name": "SFDS 2nd Assignment AA.ipynb",
      "provenance": [],
      "collapsed_sections": [
        "RpOHhWW71_rv",
        "lYRBEHllhDDA",
        "b6i7f7WwhkK5",
        "wq2k8VLfhv5O",
        "UsZVgiHhiCXy",
        "jsa6K68DxDSn",
        "2A1z7OX2xtGb"
      ],
      "toc_visible": true
    }
  },
  "cells": [
    {
      "cell_type": "markdown",
      "metadata": {
        "id": "RpOHhWW71_rv"
      },
      "source": [
        "### Basics of inference"
      ]
    },
    {
      "cell_type": "code",
      "metadata": {
        "id": "yXB1n_Ba1_rx",
        "outputId": "76ef68af-d757-4965-cd15-c2dfed681c17",
        "colab": {
          "base_uri": "https://localhost:8080/"
        }
      },
      "source": [
        "import numpy as np\n",
        "\n",
        "sample = np.random.randint(18,45,50)\n",
        "print(sample)\n",
        "\n",
        "sample.mean()"
      ],
      "execution_count": 1,
      "outputs": [
        {
          "output_type": "stream",
          "text": [
            "[24 18 25 32 38 29 18 40 22 18 37 18 39 42 30 34 39 44 38 28 42 41 35 33\n",
            " 24 38 35 28 38 29 43 42 31 29 29 34 20 19 32 22 30 26 22 22 24 25 37 26\n",
            " 26 23]\n"
          ],
          "name": "stdout"
        },
        {
          "output_type": "execute_result",
          "data": {
            "text/plain": [
              "30.36"
            ]
          },
          "metadata": {
            "tags": []
          },
          "execution_count": 1
        }
      ]
    },
    {
      "cell_type": "code",
      "metadata": {
        "id": "FT7OKo511_r0",
        "outputId": "cce7f85e-d734-4a17-d87d-85da9af83714",
        "colab": {
          "base_uri": "https://localhost:8080/",
          "height": 265
        }
      },
      "source": [
        "import matplotlib.pyplot as plt\n",
        "\n",
        "plt.hist(sample)\n",
        "\n",
        "plt.show()"
      ],
      "execution_count": 2,
      "outputs": [
        {
          "output_type": "display_data",
          "data": {
            "image/png": "[encoded data removed]",
            "text/plain": [
              "<Figure size 432x288 with 1 Axes>"
            ]
          },
          "metadata": {
            "tags": [],
            "needs_background": "light"
          }
        }
      ]
    },
    {
      "cell_type": "code",
      "metadata": {
        "id": "Jjh_Jz9b1_r3",
        "outputId": "1ec7b09e-2127-4e7b-d2ab-336ab09492bf",
        "colab": {
          "base_uri": "https://localhost:8080/"
        }
      },
      "source": [
        "from statsmodels.stats.weightstats import ztest\n",
        "# statsmodels.stats.weightstats.ztest(x1, x2=None, value=0, alternative='two-sided', usevar='pooled', ddof=1.0)\n",
        "# https://www.statsmodels.org/stable/generated/statsmodels.stats.weightstats.ztest.html\n",
        "\n",
        "ztest(sample, value = 28)\n",
        "\n",
        "# H0: mu = 28\n",
        "# H1: mu != 28\n",
        "\n",
        "# alpha we choose alpha = 0.05 therefore, our confidence is 95%"
      ],
      "execution_count": 3,
      "outputs": [
        {
          "output_type": "stream",
          "text": [
            "/usr/local/lib/python3.6/dist-packages/statsmodels/tools/_testing.py:19: FutureWarning: pandas.util.testing is deprecated. Use the functions in the public API at pandas.testing instead.\n",
            "  import pandas.util.testing as tm\n"
          ],
          "name": "stderr"
        },
        {
          "output_type": "execute_result",
          "data": {
            "text/plain": [
              "(2.1516254116003863, 0.031426869037334666)"
            ]
          },
          "metadata": {
            "tags": []
          },
          "execution_count": 3
        }
      ]
    },
    {
      "cell_type": "code",
      "metadata": {
        "id": "9GZhNslm1_r5",
        "outputId": "26131d9c-ac01-4a55-b319-d4ba49a4dd97",
        "colab": {
          "base_uri": "https://localhost:8080/"
        }
      },
      "source": [
        "ztest(sample, value = 28, alternative=\"larger\")\n",
        "\n",
        "# H0: mu = 28\n",
        "# H1: mu > 28\n",
        "\n",
        "# alpha we choose alpha = 0.05 therefore, our confidence is 95%"
      ],
      "execution_count": 4,
      "outputs": [
        {
          "output_type": "execute_result",
          "data": {
            "text/plain": [
              "(2.1516254116003863, 0.015713434518667333)"
            ]
          },
          "metadata": {
            "tags": []
          },
          "execution_count": 4
        }
      ]
    },
    {
      "cell_type": "markdown",
      "metadata": {
        "id": "150vMrmr1_r7"
      },
      "source": [
        "If I have a p-value lower than 0.05, I would say:\n",
        "- I have enough evidence to reject H0, there fore, I assume H1 with a confidence of 95%\n",
        "\n",
        "If the p-value is larger than 0.05:\n",
        "- I don't have enough evidence to reject H0, so we accept is true with a confidence of 95%"
      ]
    },
    {
      "cell_type": "markdown",
      "metadata": {
        "id": "p4t9zana1_r7"
      },
      "source": [
        "# Assignment II\n",
        "\n",
        "Second graded assignment of the course. There is not only one way to do some of the sections. Feel free to add some extra sections if you consider them interesting!"
      ]
    },
    {
      "cell_type": "code",
      "metadata": {
        "id": "c3Z4XAnfMhyN"
      },
      "source": [
        "# Import libraries\n",
        "import numpy as np\n",
        "import matplotlib.pyplot as plt\n",
        "import seaborn as sns"
      ],
      "execution_count": 5,
      "outputs": []
    },
    {
      "cell_type": "code",
      "metadata": {
        "id": "sKlHhzoz5p_V"
      },
      "source": [
        "# Display settings\n",
        "%matplotlib inline\n",
        "sns.set_theme()\n",
        "from IPython.core.interactiveshell import InteractiveShell\n",
        "InteractiveShell.ast_node_interactivity = \"all\""
      ],
      "execution_count": 6,
      "outputs": []
    },
    {
      "cell_type": "markdown",
      "metadata": {
        "id": "lYRBEHllhDDA"
      },
      "source": [
        "##1. Generate population\n",
        "Generate a list/array with the height of the population of Barcelona (1620343 inhab), where the mean is 173 cm and the standard deviation is 9.5 cm. Height is normally distributed."
      ]
    },
    {
      "cell_type": "code",
      "metadata": {
        "id": "CvAy-_bW1_r8"
      },
      "source": [
        "pop_height = 9.5 * np.random.randn(1620343) + 173"
      ],
      "execution_count": 7,
      "outputs": []
    },
    {
      "cell_type": "code",
      "metadata": {
        "id": "96pBPHCq6F5w",
        "outputId": "4c5cc0e1-2dad-4de9-9723-326e4c8c9d66",
        "colab": {
          "base_uri": "https://localhost:8080/"
        }
      },
      "source": [
        "# check\n",
        "pop_height.mean()\n",
        "print(\"\")\n",
        "pop_height.std()"
      ],
      "execution_count": 8,
      "outputs": [
        {
          "output_type": "execute_result",
          "data": {
            "text/plain": [
              "172.99192327546874"
            ]
          },
          "metadata": {
            "tags": []
          },
          "execution_count": 8
        },
        {
          "output_type": "stream",
          "text": [
            "\n"
          ],
          "name": "stdout"
        },
        {
          "output_type": "execute_result",
          "data": {
            "text/plain": [
              "9.498043540849281"
            ]
          },
          "metadata": {
            "tags": []
          },
          "execution_count": 8
        }
      ]
    },
    {
      "cell_type": "code",
      "metadata": {
        "id": "Ja0gefj-OtoS",
        "outputId": "b56060ce-132e-4fbd-de5d-eb09fe650b68",
        "colab": {
          "base_uri": "https://localhost:8080/"
        }
      },
      "source": [
        "# sort and check min-max\n",
        "pop_height.sort()\n",
        "print(\"Min height:\", pop_height[0], \"\\t\"\n",
        "      \"Max height:\", pop_height[-1])"
      ],
      "execution_count": 9,
      "outputs": [
        {
          "output_type": "stream",
          "text": [
            "Min height: 127.06181624126413 \tMax height: 224.89468942138785\n"
          ],
          "name": "stdout"
        }
      ]
    },
    {
      "cell_type": "markdown",
      "metadata": {
        "id": "b6i7f7WwhkK5"
      },
      "source": [
        "##2. Plot distribution\n",
        "Plot the distribution of the population (not the mean)"
      ]
    },
    {
      "cell_type": "code",
      "metadata": {
        "id": "_2NgWt63NEce",
        "outputId": "02dc852a-e41a-4309-cb54-eff939ee8590",
        "colab": {
          "base_uri": "https://localhost:8080/",
          "height": 310
        }
      },
      "source": [
        "sns.displot(pop_height, kde=False, bins= 100, height=4, aspect=2.5)"
      ],
      "execution_count": 10,
      "outputs": [
        {
          "output_type": "execute_result",
          "data": {
            "text/plain": [
              "<seaborn.axisgrid.FacetGrid at 0x7fb8afd934e0>"
            ]
          },
          "metadata": {
            "tags": []
          },
          "execution_count": 10
        },
        {
          "output_type": "display_data",
          "data": {
            "image/png": "[encoded data removed]",
            "text/plain": [
              "<Figure size 720x288 with 1 Axes>"
            ]
          },
          "metadata": {
            "tags": []
          }
        }
      ]
    },
    {
      "cell_type": "markdown",
      "metadata": {
        "id": "wq2k8VLfhv5O"
      },
      "source": [
        "##3. Outliers\n",
        "How many cases are considered outliers? (we can use the definition of being above/below 1.5 x IQR, or 3 x IQR if we want to be more restrictive)"
      ]
    },
    {
      "cell_type": "code",
      "metadata": {
        "id": "WtT4ENLJUsb3",
        "outputId": "eb061ae4-2119-4e44-8352-623865d8ac75",
        "colab": {
          "base_uri": "https://localhost:8080/"
        }
      },
      "source": [
        "# Compute IQR (interquartile range)\n",
        "q1 = np.percentile(pop_height, 25, interpolation = 'midpoint')\n",
        "q3 = np.percentile(pop_height, 75, interpolation = 'midpoint')\n",
        "iqr = q3-q1\n",
        "print(f\"Q1= {q1}\\tQ3= {q3}\\tIQR= {iqr}\")"
      ],
      "execution_count": 11,
      "outputs": [
        {
          "output_type": "stream",
          "text": [
            "Q1= 166.59453022981901\tQ3= 179.39769219303622\tIQR= 12.803161963217207\n"
          ],
          "name": "stdout"
        }
      ]
    },
    {
      "cell_type": "code",
      "metadata": {
        "id": "QtexNxyPavkC",
        "outputId": "31510900-77b6-411a-f619-54f91d88c5b9",
        "colab": {
          "base_uri": "https://localhost:8080/"
        }
      },
      "source": [
        "# Outlier thresholds\n",
        "print(\"Threshold = 1.5*IQR\")\n",
        "print(\"Lower = \", (q1-1.5*iqr), \"\\tUpper = \",(q3+1.5*iqr))\n",
        "print(\"\")\n",
        "print(\"Threshold = 3*IQR\")\n",
        "print(\"Lower = \", (q1-3*iqr), \"\\tUpper = \",(q3+3*iqr))"
      ],
      "execution_count": 12,
      "outputs": [
        {
          "output_type": "stream",
          "text": [
            "Threshold = 1.5*IQR\n",
            "Lower =  147.3897872849932 \tUpper =  198.60243513786202\n",
            "\n",
            "Threshold = 3*IQR\n",
            "Lower =  128.1850443401674 \tUpper =  217.80717808268784\n"
          ],
          "name": "stdout"
        }
      ]
    },
    {
      "cell_type": "code",
      "metadata": {
        "id": "eQJGd0M43DVg",
        "outputId": "552dbea7-ba66-4b6d-b1d1-374e351ddc68",
        "colab": {
          "base_uri": "https://localhost:8080/",
          "height": 289
        }
      },
      "source": [
        "# Visual check with rugplot\n",
        "sns.rugplot(pop_height)"
      ],
      "execution_count": 13,
      "outputs": [
        {
          "output_type": "execute_result",
          "data": {
            "text/plain": [
              "<matplotlib.axes._subplots.AxesSubplot at 0x7fb8ae1d3080>"
            ]
          },
          "metadata": {
            "tags": []
          },
          "execution_count": 13
        },
        {
          "output_type": "display_data",
          "data": {
            "image/png": "[encoded data removed]",
            "text/plain": [
              "<Figure size 432x288 with 1 Axes>"
            ]
          },
          "metadata": {
            "tags": []
          }
        }
      ]
    },
    {
      "cell_type": "markdown",
      "metadata": {
        "id": "8T9UFFU-ddRq"
      },
      "source": [
        "NOTES\n",
        "\n",
        "Based on the upper/lower thresholds above, I'm opting for 1.5xIQR to define outliers. Why?\n",
        "\n",
        "On visual check, the 3xIQR seems a bit extreme. The 1.5xIQR thresholds also seem more intuitive based on what we may consider as 'outliers' in the adult population. Consider the Gasol brothers (NBA players) - Pau is 2.16m and Marc is 2.11m. I think most people will consider them unusually tall (\"outliers\") vs. the rest of Barcelones. As for the lower bound, unfortunately with this definition I can also be considered an outlier, but oh well ... "
      ]
    },
    {
      "cell_type": "code",
      "metadata": {
        "id": "t5CUEsovWQxP",
        "outputId": "26465cec-0fb2-4b02-ee62-890a4c56d830",
        "colab": {
          "base_uri": "https://localhost:8080/"
        }
      },
      "source": [
        "# Compute\n",
        "outlier_short = np.where(pop_height < (q1 - 1.5*iqr))\n",
        "nb_short = len(outlier_short[0])\n",
        "outlier_tall = np.where(pop_height > (q3 + 1.5*iqr))\n",
        "nb_tall = len(outlier_tall[0])\n",
        "# Output\n",
        "print(\"NUMBER OF OUTLIERS\")\n",
        "print(\"Lower outliers (very short):\", nb_short, \n",
        "      \" or \", round(100*nb_short/len(pop_height),2),\"%\")\n",
        "print(\"Upper outliers (very tall) :\", nb_tall, \n",
        "      \" or \", round(100*nb_tall/len(pop_height),2),\"%\")"
      ],
      "execution_count": 14,
      "outputs": [
        {
          "output_type": "stream",
          "text": [
            "NUMBER OF OUTLIERS\n",
            "Lower outliers (very short): 5857  or  0.36 %\n",
            "Upper outliers (very tall) : 5815  or  0.36 %\n"
          ],
          "name": "stdout"
        }
      ]
    },
    {
      "cell_type": "markdown",
      "metadata": {
        "id": "UsZVgiHhiCXy"
      },
      "source": [
        "##4. Significance testing\n",
        "**Generate a sample of 50 individuals, and using the Z-test, test $H_0 = 173$ against $H_1 \\neq 173$. Use a confidence of 90%, 95%, 95.5% and 99%. Do you get different conclusions?**\n",
        "\n",
        "*Remember: Confidence (and significance) are arbitrary values!! You use them as a threshold, but you never see them in the functions! Is what you use to decide if the values are extreme enough given some amount of risk*"
      ]
    },
    {
      "cell_type": "code",
      "metadata": {
        "id": "LvC8GQxO1_sE"
      },
      "source": [
        "# Select from population a random sample of n=50\n",
        "sample = np.random.choice(pop_height, size=50, replace=False)"
      ],
      "execution_count": 15,
      "outputs": []
    },
    {
      "cell_type": "code",
      "metadata": {
        "id": "fbQzU4_9oD3h",
        "outputId": "66a31505-217d-4c8a-fe1d-9f3e519ed98c",
        "colab": {
          "base_uri": "https://localhost:8080/"
        }
      },
      "source": [
        "# Check sample\n",
        "sample.sort()\n",
        "print(\"First 5\\t\", sample[0:5])\n",
        "print(\"Last 5\\t\", sample[-5:])\n",
        "print(\"Mean\\t\", sample.mean(), \"\\t\",\n",
        "      \"Min\", sample.min(), \"\\t\",\n",
        "      \"Max\", sample.max())"
      ],
      "execution_count": 16,
      "outputs": [
        {
          "output_type": "stream",
          "text": [
            "First 5\t [144.22888537 156.56202047 158.81454175 159.67075712 160.31090284]\n",
            "Last 5\t [185.5541032  185.57502664 189.5613715  192.42269159 195.20598049]\n",
            "Mean\t 172.78800874705402 \t Min 144.22888536658914 \t Max 195.20598048849612\n"
          ],
          "name": "stdout"
        }
      ]
    },
    {
      "cell_type": "code",
      "metadata": {
        "id": "hlfw6EaWpSHE",
        "outputId": "73d3e3c1-0b85-49e0-c5bb-399d1bcde32e",
        "colab": {
          "base_uri": "https://localhost:8080/"
        }
      },
      "source": [
        "# Get test statistics for sample, two-tail\n",
        "z, p = ztest(sample, value = 173, alternative=\"two-sided\")\n",
        "print(f\"z-value, 2-tail: {z} \\t p-value, 2-tail: {p}\")"
      ],
      "execution_count": 17,
      "outputs": [
        {
          "output_type": "stream",
          "text": [
            "z-value, 2-tail: -0.15985447468957764 \t p-value, 2-tail: 0.8729957111824965\n"
          ],
          "name": "stdout"
        }
      ]
    },
    {
      "cell_type": "code",
      "metadata": {
        "id": "_zjBFK3Rdn3B"
      },
      "source": [
        "# Sig test function\n",
        "def sig_test(p):\n",
        "  if p > 0.1:\n",
        "    print(\"p is greater than alpha = 0.1 : we accept H0 at 90% CL\")\n",
        "  elif p > 0.05:\n",
        "    print(\"p is greater than alpha = 0.05 : We accept H0 at 95% CL, but rejected at 90% CL\")\n",
        "  elif p > 0.045:\n",
        "    print(\"p is greater than alpha = 0.045 : We accept H0 at 95.5% CL, but rejected at 90% and 95% CL\")\n",
        "  elif p > 0.01:\n",
        "    print(\"p is greater than alpha = 0.01 : We accept H0 at 99% CL, but rejected at 90%, 95%, 95.5% CL\")\n",
        "  else:\n",
        "    print(\"p is equal to or lower than alpha = 0.01 : We rejected H0 at 99% CL\")"
      ],
      "execution_count": 18,
      "outputs": []
    },
    {
      "cell_type": "code",
      "metadata": {
        "id": "PXMaIPaVgCYW",
        "outputId": "2c6d14bb-137a-43c1-f4b4-e9b09abd5444",
        "colab": {
          "base_uri": "https://localhost:8080/"
        }
      },
      "source": [
        "sig_test(p)"
      ],
      "execution_count": 19,
      "outputs": [
        {
          "output_type": "stream",
          "text": [
            "p is greater than alpha = 0.1 : we accept H0 at 90% CL\n"
          ],
          "name": "stdout"
        }
      ]
    },
    {
      "cell_type": "markdown",
      "metadata": {
        "id": "9sisrrbZxSO0"
      },
      "source": [
        "CONCLUSION<br>\n",
        "Our null hypothesis (H0) states that the population mean is 173cm, while our sample has a mean of 175cm. Based on the test statistic on our sample, we can see that p-value > alpha, so there is not enough evidence to reject the null hypothesis. In this case we can accept that the average population height is 173cm. This conclusion is the same regardless of the confidence levels we applied (from 90% to 99%)."
      ]
    },
    {
      "cell_type": "markdown",
      "metadata": {
        "id": "2Pw4uiKD1_sG"
      },
      "source": [
        "**4.1 Draw the Z-test for the population mean**"
      ]
    },
    {
      "cell_type": "code",
      "metadata": {
        "id": "ErSfrTB61_sG"
      },
      "source": [
        "import scipy.stats as stats\n",
        "from scipy.stats import norm"
      ],
      "execution_count": 20,
      "outputs": []
    },
    {
      "cell_type": "code",
      "metadata": {
        "id": "H_h4lVDLAIyg",
        "outputId": "de6336f4-19c9-4c4a-9de1-c859f0b02e25",
        "colab": {
          "base_uri": "https://localhost:8080/",
          "height": 285
        }
      },
      "source": [
        "# Population stats\n",
        "pop_mean = pop_height.mean()\n",
        "pop_std = pop_height.std()\n",
        "pop_min = pop_height.min()\n",
        "pop_max = pop_height.max()\n",
        "\n",
        "# Plot input\n",
        "x = np.linspace(pop_min,pop_max, 100)\n",
        "xfill = np.linspace((pop_mean - z*pop_std), (pop_mean + z*pop_std), 20)\n",
        "\n",
        "# Draw (plot)\n",
        "# Shaded area shows the region of population mean +/- z*stdev\n",
        "plt.plot(x, stats.norm.pdf(x, pop_mean, pop_std), color='blue')\n",
        "plt.fill_between(xfill, stats.norm.pdf(xfill, pop_mean, pop_std), color='lightblue')\n",
        "plt.show()"
      ],
      "execution_count": 21,
      "outputs": [
        {
          "output_type": "execute_result",
          "data": {
            "text/plain": [
              "[<matplotlib.lines.Line2D at 0x7fb878a2cc50>]"
            ]
          },
          "metadata": {
            "tags": []
          },
          "execution_count": 21
        },
        {
          "output_type": "execute_result",
          "data": {
            "text/plain": [
              "<matplotlib.collections.PolyCollection at 0x7fb878a7dd30>"
            ]
          },
          "metadata": {
            "tags": []
          },
          "execution_count": 21
        },
        {
          "output_type": "display_data",
          "data": {
            "image/png": "[encoded data removed]",
            "text/plain": [
              "<Figure size 432x288 with 1 Axes>"
            ]
          },
          "metadata": {
            "tags": []
          }
        }
      ]
    },
    {
      "cell_type": "markdown",
      "metadata": {
        "id": "cpf51mmI1_sI"
      },
      "source": [
        "**4.2 Does it change a lot if we test $H_0 = 173$ against $H_1 > 173$ ? Explain the differences**"
      ]
    },
    {
      "cell_type": "code",
      "metadata": {
        "id": "WYToDTIrFQ50",
        "outputId": "2c0b470f-2a40-4e40-9439-de572063adf8",
        "colab": {
          "base_uri": "https://localhost:8080/"
        }
      },
      "source": [
        "# z and p from previous two-tail test\n",
        "print(f\"z-value, 2-tail: {z} \\t p-value, 2-tail: {p}\")"
      ],
      "execution_count": 22,
      "outputs": [
        {
          "output_type": "stream",
          "text": [
            "z-value, 2-tail: -0.15985447468957764 \t p-value, 2-tail: 0.8729957111824965\n"
          ],
          "name": "stdout"
        }
      ]
    },
    {
      "cell_type": "code",
      "metadata": {
        "id": "awFji3mSgh4R",
        "outputId": "2d6679a7-480e-45ed-83e4-ad57dfb8bae7",
        "colab": {
          "base_uri": "https://localhost:8080/"
        }
      },
      "source": [
        "sig_test(p)"
      ],
      "execution_count": 23,
      "outputs": [
        {
          "output_type": "stream",
          "text": [
            "p is greater than alpha = 0.1 : we accept H0 at 90% CL\n"
          ],
          "name": "stdout"
        }
      ]
    },
    {
      "cell_type": "code",
      "metadata": {
        "id": "1TqdMwZw1_sI",
        "outputId": "fbfb2693-f132-4d00-86f6-5bc51d48aa66",
        "colab": {
          "base_uri": "https://localhost:8080/"
        }
      },
      "source": [
        "# Get test statistics for one-tail test\n",
        "z1, p1 = ztest(sample, value = 173, alternative=\"larger\")\n",
        "print(f\"z-value, 1-tail: {z1} \\t p-value, 1-tail: {p1}\")"
      ],
      "execution_count": 24,
      "outputs": [
        {
          "output_type": "stream",
          "text": [
            "z-value, 1-tail: -0.15985447468957764 \t p-value, 1-tail: 0.5635021444087518\n"
          ],
          "name": "stdout"
        }
      ]
    },
    {
      "cell_type": "code",
      "metadata": {
        "id": "Bn-BHhLxgWq4",
        "outputId": "2410774f-a2dd-4b7e-b702-4c28550c7d6d",
        "colab": {
          "base_uri": "https://localhost:8080/"
        }
      },
      "source": [
        "sig_test(p1)"
      ],
      "execution_count": 25,
      "outputs": [
        {
          "output_type": "stream",
          "text": [
            "p is greater than alpha = 0.1 : we accept H0 at 90% CL\n"
          ],
          "name": "stdout"
        }
      ]
    },
    {
      "cell_type": "markdown",
      "metadata": {
        "id": "ezE2H5nDDLMg"
      },
      "source": [
        "CONCLUSION<br>\n",
        "* In the previous two-tail test, we did not have not enough evidence to reject the null hypothesis, so we accept that the average population height is 173cm.\n",
        "* With the one-tail test, the p-value is greater, but compared against the one-tail alpha (0.1 to 0.01, from 90% to 99% confidence level) we can still accept the null hypothesis."
      ]
    },
    {
      "cell_type": "markdown",
      "metadata": {
        "id": "jsa6K68DxDSn"
      },
      "source": [
        "##5. Multiple tests, $H_0 = 173$ \n",
        "**Now we are going to generate 10000 samples of 50 individuals. For each of them, I want to apply the previous procedure, Z-test with 90, 95, 95.5 and 99% confidence! At the end, I want to see how many times I accepted  H0  and how many times I rejected it (which means I assume  H1  is happening) for each of them. Does it fit what we should expect?**\n",
        "\n",
        "**Show it graphically**"
      ]
    },
    {
      "cell_type": "code",
      "metadata": {
        "id": "aMQlQW3FkRii"
      },
      "source": [
        "# Counters for various hypotheses tests; always reset before re-running loop\n",
        "accept_900=0\n",
        "accept_950=0\n",
        "accept_955=0\n",
        "accept_990=0\n",
        "reject_900=0\n",
        "reject_950=0\n",
        "reject_955=0\n",
        "reject_990=0\n",
        "\n",
        "# Testing 1000 samples (10K samples took too long!)\n",
        "# H0 = 173\n",
        "for i in range(1000):\n",
        "  sample = np.random.choice(pop_height, size=50, replace=False)\n",
        "  z, p = ztest(sample, value = 173, alternative=\"two-sided\")\n",
        "  \n",
        "  if(p > .1):\n",
        "    accept_900 +=1\n",
        "    \n",
        "  elif(p > .05):\n",
        "    accept_950 +=1\n",
        "    reject_900 +=1\n",
        "    \n",
        "  elif(p > .045):\n",
        "    accept_955 +=1\n",
        "    reject_900 +=1\n",
        "    reject_950 +=1\n",
        "    \n",
        "  elif(p > .01):\n",
        "    accept_990 +=1\n",
        "    reject_900 +=1\n",
        "    reject_950 +=1\n",
        "    reject_955 +=1\n",
        "  \n",
        "  else:\n",
        "    reject_990 +=1"
      ],
      "execution_count": 26,
      "outputs": []
    },
    {
      "cell_type": "code",
      "metadata": {
        "id": "SzuXJU8aqfx7",
        "outputId": "45edd2fc-2ede-4290-d35e-9205669ebebf",
        "colab": {
          "base_uri": "https://localhost:8080/",
          "height": 173
        }
      },
      "source": [
        "# Showing summary of result in table\n",
        "import pandas as pd\n",
        "\n",
        "confidence = ['90% CL', '95% CL', '95.5% CL', '99% CL']\n",
        "accept = [accept_900, accept_950, accept_955, accept_990]\n",
        "reject = [reject_900, reject_950, reject_955, reject_990]\n",
        "\n",
        "result = pd.DataFrame(np.zeros((4,2)), index= confidence, columns=['Accept','Reject'])\n",
        "result['Accept'] = accept\n",
        "result['Reject'] = reject\n",
        "result"
      ],
      "execution_count": 27,
      "outputs": [
        {
          "output_type": "execute_result",
          "data": {
            "text/html": [
              "<div>\n",
              "<style scoped>\n",
              "    .dataframe tbody tr th:only-of-type {\n",
              "        vertical-align: middle;\n",
              "    }\n",
              "\n",
              "    .dataframe tbody tr th {\n",
              "        vertical-align: top;\n",
              "    }\n",
              "\n",
              "    .dataframe thead th {\n",
              "        text-align: right;\n",
              "    }\n",
              "</style>\n",
              "<table border=\"1\" class=\"dataframe\">\n",
              "  <thead>\n",
              "    <tr style=\"text-align: right;\">\n",
              "      <th></th>\n",
              "      <th>Accept</th>\n",
              "      <th>Reject</th>\n",
              "    </tr>\n",
              "  </thead>\n",
              "  <tbody>\n",
              "    <tr>\n",
              "      <th>90% CL</th>\n",
              "      <td>887</td>\n",
              "      <td>93</td>\n",
              "    </tr>\n",
              "    <tr>\n",
              "      <th>95% CL</th>\n",
              "      <td>47</td>\n",
              "      <td>46</td>\n",
              "    </tr>\n",
              "    <tr>\n",
              "      <th>95.5% CL</th>\n",
              "      <td>4</td>\n",
              "      <td>42</td>\n",
              "    </tr>\n",
              "    <tr>\n",
              "      <th>99% CL</th>\n",
              "      <td>42</td>\n",
              "      <td>20</td>\n",
              "    </tr>\n",
              "  </tbody>\n",
              "</table>\n",
              "</div>"
            ],
            "text/plain": [
              "          Accept  Reject\n",
              "90% CL       887      93\n",
              "95% CL        47      46\n",
              "95.5% CL       4      42\n",
              "99% CL        42      20"
            ]
          },
          "metadata": {
            "tags": []
          },
          "execution_count": 27
        }
      ]
    },
    {
      "cell_type": "code",
      "metadata": {
        "id": "o4gO-5pemm5g",
        "outputId": "2fb74da0-9e82-4e30-fddb-85f65f33b4a6",
        "colab": {
          "base_uri": "https://localhost:8080/",
          "height": 285
        }
      },
      "source": [
        "# Showing summary of result in graph\n",
        "s1 = plt.bar(confidence, accept)\n",
        "s2 = plt.bar(confidence, reject)\n",
        "plt.legend((s1[0], s2[0]), ('Nb Accepted H0=173', 'Nb Rejected H0=173'))\n",
        "plt.show()"
      ],
      "execution_count": 28,
      "outputs": [
        {
          "output_type": "execute_result",
          "data": {
            "text/plain": [
              "<matplotlib.legend.Legend at 0x7fb8789a9278>"
            ]
          },
          "metadata": {
            "tags": []
          },
          "execution_count": 28
        },
        {
          "output_type": "display_data",
          "data": {
            "image/png": "[encoded data removed]",
            "text/plain": [
              "<Figure size 432x288 with 1 Axes>"
            ]
          },
          "metadata": {
            "tags": []
          }
        }
      ]
    },
    {
      "cell_type": "markdown",
      "metadata": {
        "id": "bZSlw7F7ssPT"
      },
      "source": [
        "CONCLUSION<br>\n",
        "The result is consistent with expectation - the value for testing is close to population mean so we saw in most cases we accept H0 even with the lowest confidence level (90%)"
      ]
    },
    {
      "cell_type": "markdown",
      "metadata": {
        "id": "2A1z7OX2xtGb"
      },
      "source": [
        "##6. Multiple tests, $H_0 = 180$\n",
        "**Replicate the previous point, testing  H0=180  against  H1≠180 . How many times have you accepted  H0 ? Can you link these results with the errors of type I and II?**"
      ]
    },
    {
      "cell_type": "code",
      "metadata": {
        "id": "VWZkkfW_1_sN"
      },
      "source": [
        "# Counters for various hypotheses tests; always reset before re-running loop\n",
        "accept_900=0\n",
        "accept_950=0\n",
        "accept_955=0\n",
        "accept_990=0\n",
        "reject_900=0\n",
        "reject_950=0\n",
        "reject_955=0\n",
        "reject_990=0\n",
        "\n",
        "# Testing 1000 samples (10K samples took too long!)\n",
        "# H0 = 180\n",
        "for i in range(1000):\n",
        "  sample = np.random.choice(pop_height, size=50, replace=False)\n",
        "  z, p = ztest(sample, value = 180, alternative=\"two-sided\")\n",
        "  \n",
        "  if(p > .1):\n",
        "    accept_900 +=1\n",
        "    \n",
        "  elif(p > .05):\n",
        "    accept_950 +=1\n",
        "    reject_900 +=1\n",
        "    \n",
        "  elif(p > .045):\n",
        "    accept_955 +=1\n",
        "    reject_900 +=1\n",
        "    reject_950 +=1\n",
        "    \n",
        "  elif(p > .01):\n",
        "    accept_990 +=1\n",
        "    reject_900 +=1\n",
        "    reject_950 +=1\n",
        "    reject_955 +=1\n",
        "  \n",
        "  else:\n",
        "    reject_990 +=1"
      ],
      "execution_count": 29,
      "outputs": []
    },
    {
      "cell_type": "code",
      "metadata": {
        "id": "i-vjwgYKvTpE",
        "outputId": "bb860b22-307c-41cd-bff7-d59ba2d11caf",
        "colab": {
          "base_uri": "https://localhost:8080/",
          "height": 173
        }
      },
      "source": [
        "# Showing summary of result in table\n",
        "confidence = ['90% CL', '95% CL', '95.5% CL', '99% CL']\n",
        "accept2 = [accept_900, accept_950, accept_955, accept_990]\n",
        "reject2 = [reject_900, reject_950, reject_955, reject_990]\n",
        "\n",
        "result2 = pd.DataFrame(np.zeros((4,2)), index= confidence, columns=['Accept','Reject'])\n",
        "result2['Accept'] = accept2\n",
        "result2['Reject'] = reject2\n",
        "result2"
      ],
      "execution_count": 30,
      "outputs": [
        {
          "output_type": "execute_result",
          "data": {
            "text/html": [
              "<div>\n",
              "<style scoped>\n",
              "    .dataframe tbody tr th:only-of-type {\n",
              "        vertical-align: middle;\n",
              "    }\n",
              "\n",
              "    .dataframe tbody tr th {\n",
              "        vertical-align: top;\n",
              "    }\n",
              "\n",
              "    .dataframe thead th {\n",
              "        text-align: right;\n",
              "    }\n",
              "</style>\n",
              "<table border=\"1\" class=\"dataframe\">\n",
              "  <thead>\n",
              "    <tr style=\"text-align: right;\">\n",
              "      <th></th>\n",
              "      <th>Accept</th>\n",
              "      <th>Reject</th>\n",
              "    </tr>\n",
              "  </thead>\n",
              "  <tbody>\n",
              "    <tr>\n",
              "      <th>90% CL</th>\n",
              "      <td>1</td>\n",
              "      <td>6</td>\n",
              "    </tr>\n",
              "    <tr>\n",
              "      <th>95% CL</th>\n",
              "      <td>1</td>\n",
              "      <td>5</td>\n",
              "    </tr>\n",
              "    <tr>\n",
              "      <th>95.5% CL</th>\n",
              "      <td>0</td>\n",
              "      <td>5</td>\n",
              "    </tr>\n",
              "    <tr>\n",
              "      <th>99% CL</th>\n",
              "      <td>5</td>\n",
              "      <td>993</td>\n",
              "    </tr>\n",
              "  </tbody>\n",
              "</table>\n",
              "</div>"
            ],
            "text/plain": [
              "          Accept  Reject\n",
              "90% CL         1       6\n",
              "95% CL         1       5\n",
              "95.5% CL       0       5\n",
              "99% CL         5     993"
            ]
          },
          "metadata": {
            "tags": []
          },
          "execution_count": 30
        }
      ]
    },
    {
      "cell_type": "code",
      "metadata": {
        "id": "4fd55Aljvhj4",
        "outputId": "f406faf0-8948-4175-9ec1-4ec2af80a540",
        "colab": {
          "base_uri": "https://localhost:8080/",
          "height": 285
        }
      },
      "source": [
        "# Showing summary of result in graph\n",
        "s1 = plt.bar(confidence, accept2)\n",
        "s2 = plt.bar(confidence, reject2)\n",
        "plt.legend((s1[0], s2[0]), ('Nb Accepted H0=180', 'Nb Rejected H0=180'))\n",
        "plt.show()"
      ],
      "execution_count": 31,
      "outputs": [
        {
          "output_type": "execute_result",
          "data": {
            "text/plain": [
              "<matplotlib.legend.Legend at 0x7fb87899de48>"
            ]
          },
          "metadata": {
            "tags": []
          },
          "execution_count": 31
        },
        {
          "output_type": "display_data",
          "data": {
            "image/png": "[encoded data removed]",
            "text/plain": [
              "<Figure size 432x288 with 1 Axes>"
            ]
          },
          "metadata": {
            "tags": []
          }
        }
      ]
    },
    {
      "cell_type": "markdown",
      "metadata": {
        "id": "v2G8H7ORvxJ4"
      },
      "source": [
        "CONCLUSION<br>\n",
        "This time, in virtually all cases we rejected H0=180 -- so the average height of the population is most likely not 180cm!"
      ]
    },
    {
      "cell_type": "markdown",
      "metadata": {
        "id": "UIYapiNXw5tC"
      },
      "source": [
        "TYPE I VS. TYPE 2 ERROR\n",
        "\n",
        "* **Type I Error** or a false positive occurs when the null hypothesis is true, but we rejected it. For example: in the first multiple test with H0 = 173, we rejected a few cases at 99% CL (17 out of 1000 tests in the first run).\n",
        "\n",
        "* **Type II Error** or a false negative occurs when the null hypothesis is false, but we didn't reject it. For example: in the second multiple test with H0 = 180, we didn't reject a few cases at 99% CL (6 out of 1000 in the first run). "
      ]
    },
    {
      "cell_type": "markdown",
      "metadata": {
        "id": "mnthgjhuyJ52"
      },
      "source": [
        "##7. (Extra) Outliers in multiple tests\n",
        "**Test if the amount of outliers you have affects the final outcome of the test (for example, in section 5). You should face it like \"is it more likely that I reject the null Hypothesis if I have more outliers?\". It is an open exercise, so there is no \"correct\" way**\n",
        "\n",
        "*HINT: Maybe this very last exercise makes more sense with only right-side outliers and the test suggested in section 4.2*"
      ]
    },
    {
      "cell_type": "code",
      "metadata": {
        "id": "JN4CQGWByhHE"
      },
      "source": [
        "# Creating a new population by artificially injecting extreme outliers\n",
        "more_short = np.linspace(pop_height.min(),(q1-3*iqr),1000)\n",
        "more_tall = np.linspace((q3+3*iqr),pop_height.max(),1000)\n",
        "pop_height_new = np.concatenate((pop_height,more_short,more_tall), axis=0)\n",
        "pop_height_new.sort()"
      ],
      "execution_count": 32,
      "outputs": []
    },
    {
      "cell_type": "code",
      "metadata": {
        "id": "74oYFTSX5O7T",
        "outputId": "93e84143-8d80-45db-e3f1-76e1f3a114ce",
        "colab": {
          "base_uri": "https://localhost:8080/"
        }
      },
      "source": [
        "# Compute number of outliers in the new population with more outliers\n",
        "outlier_short_new = np.where(pop_height_new < (q1 - 1.5*iqr))\n",
        "nb_short_new = len(outlier_short_new[0])\n",
        "outlier_tall_new = np.where(pop_height_new > (q3 + 1.5*iqr))\n",
        "nb_tall_new = len(outlier_tall_new[0])\n",
        "\n",
        "# Output - now we have more outliers\n",
        "print(\"NUMBER OF OUTLIERS\")\n",
        "print(\"Lower outliers (very short):\", nb_short_new, \n",
        "      \" or \", round(100*nb_short_new/len(pop_height_new),2),\"%\")\n",
        "print(\"Upper outliers (very tall) :\", nb_tall_new, \n",
        "      \" or \", round(100*nb_tall_new/len(pop_height_new),2),\"%\")"
      ],
      "execution_count": 33,
      "outputs": [
        {
          "output_type": "stream",
          "text": [
            "NUMBER OF OUTLIERS\n",
            "Lower outliers (very short): 6857  or  0.42 %\n",
            "Upper outliers (very tall) : 6815  or  0.42 %\n"
          ],
          "name": "stdout"
        }
      ]
    },
    {
      "cell_type": "markdown",
      "metadata": {
        "id": "wtAvOXNPAfQn"
      },
      "source": [
        "NOTE: in the original population, we have 0.7% outliers (0.35% each for very short and very tall members of the population)"
      ]
    },
    {
      "cell_type": "code",
      "metadata": {
        "id": "Kp5gvvHQ43oD"
      },
      "source": [
        "# Counters for various hypotheses tests; always reset before re-running loop\n",
        "accept_900=0\n",
        "accept_950=0\n",
        "accept_955=0\n",
        "accept_990=0\n",
        "reject_900=0\n",
        "reject_950=0\n",
        "reject_955=0\n",
        "reject_990=0\n",
        "\n",
        "# Testing 1000 samples\n",
        "# H0 = 173, two-sided test on the new population with outliers\n",
        "for i in range(1000):\n",
        "  sample = np.random.choice(pop_height_new, size=50, replace=False)\n",
        "  z, p = ztest(sample, value = 173, alternative=\"two-sided\")\n",
        "  \n",
        "  if(p > .1):\n",
        "    accept_900 +=1\n",
        "    \n",
        "  elif(p > .05):\n",
        "    accept_950 +=1\n",
        "    reject_900 +=1\n",
        "    \n",
        "  elif(p > .045):\n",
        "    accept_955 +=1\n",
        "    reject_900 +=1\n",
        "    reject_950 +=1\n",
        "    \n",
        "  elif(p > .01):\n",
        "    accept_990 +=1\n",
        "    reject_900 +=1\n",
        "    reject_950 +=1\n",
        "    reject_955 +=1\n",
        "  \n",
        "  else:\n",
        "    reject_990 +=1"
      ],
      "execution_count": 37,
      "outputs": []
    },
    {
      "cell_type": "code",
      "metadata": {
        "id": "26qIX5qU_ldy",
        "outputId": "fe6bc4a0-fcd7-4c1c-c37e-2bea2ed60ae1",
        "colab": {
          "base_uri": "https://localhost:8080/",
          "height": 173
        }
      },
      "source": [
        "# Summary of result from testing 1000 samples drawn from the population with more outliers\n",
        "# H0 = 173, two-tailed test\n",
        "confidence = ['90% CL', '95% CL', '95.5% CL', '99% CL']\n",
        "accept3 = [accept_900, accept_950, accept_955, accept_990]\n",
        "reject3 = [reject_900, reject_950, reject_955, reject_990]\n",
        "\n",
        "result3 = pd.DataFrame(np.zeros((4,2)), index= confidence, columns=['Accept','Reject'])\n",
        "result3['Accept'] = accept3\n",
        "result3['Reject'] = reject3\n",
        "result3"
      ],
      "execution_count": 38,
      "outputs": [
        {
          "output_type": "execute_result",
          "data": {
            "text/html": [
              "<div>\n",
              "<style scoped>\n",
              "    .dataframe tbody tr th:only-of-type {\n",
              "        vertical-align: middle;\n",
              "    }\n",
              "\n",
              "    .dataframe tbody tr th {\n",
              "        vertical-align: top;\n",
              "    }\n",
              "\n",
              "    .dataframe thead th {\n",
              "        text-align: right;\n",
              "    }\n",
              "</style>\n",
              "<table border=\"1\" class=\"dataframe\">\n",
              "  <thead>\n",
              "    <tr style=\"text-align: right;\">\n",
              "      <th></th>\n",
              "      <th>Accept</th>\n",
              "      <th>Reject</th>\n",
              "    </tr>\n",
              "  </thead>\n",
              "  <tbody>\n",
              "    <tr>\n",
              "      <th>90% CL</th>\n",
              "      <td>879</td>\n",
              "      <td>102</td>\n",
              "    </tr>\n",
              "    <tr>\n",
              "      <th>95% CL</th>\n",
              "      <td>49</td>\n",
              "      <td>53</td>\n",
              "    </tr>\n",
              "    <tr>\n",
              "      <th>95.5% CL</th>\n",
              "      <td>5</td>\n",
              "      <td>48</td>\n",
              "    </tr>\n",
              "    <tr>\n",
              "      <th>99% CL</th>\n",
              "      <td>48</td>\n",
              "      <td>19</td>\n",
              "    </tr>\n",
              "  </tbody>\n",
              "</table>\n",
              "</div>"
            ],
            "text/plain": [
              "          Accept  Reject\n",
              "90% CL       879     102\n",
              "95% CL        49      53\n",
              "95.5% CL       5      48\n",
              "99% CL        48      19"
            ]
          },
          "metadata": {
            "tags": []
          },
          "execution_count": 38
        }
      ]
    },
    {
      "cell_type": "code",
      "metadata": {
        "id": "-ird4KpVBhcr",
        "outputId": "8c2a87be-9480-45fb-ec93-9835596cdcd6",
        "colab": {
          "base_uri": "https://localhost:8080/",
          "height": 173
        }
      },
      "source": [
        "# Compare to previous result from testing 1000 samples drawn from the original population\n",
        "# H0 = 173, two-tailed test\n",
        "result"
      ],
      "execution_count": 36,
      "outputs": [
        {
          "output_type": "execute_result",
          "data": {
            "text/html": [
              "<div>\n",
              "<style scoped>\n",
              "    .dataframe tbody tr th:only-of-type {\n",
              "        vertical-align: middle;\n",
              "    }\n",
              "\n",
              "    .dataframe tbody tr th {\n",
              "        vertical-align: top;\n",
              "    }\n",
              "\n",
              "    .dataframe thead th {\n",
              "        text-align: right;\n",
              "    }\n",
              "</style>\n",
              "<table border=\"1\" class=\"dataframe\">\n",
              "  <thead>\n",
              "    <tr style=\"text-align: right;\">\n",
              "      <th></th>\n",
              "      <th>Accept</th>\n",
              "      <th>Reject</th>\n",
              "    </tr>\n",
              "  </thead>\n",
              "  <tbody>\n",
              "    <tr>\n",
              "      <th>90% CL</th>\n",
              "      <td>887</td>\n",
              "      <td>93</td>\n",
              "    </tr>\n",
              "    <tr>\n",
              "      <th>95% CL</th>\n",
              "      <td>47</td>\n",
              "      <td>46</td>\n",
              "    </tr>\n",
              "    <tr>\n",
              "      <th>95.5% CL</th>\n",
              "      <td>4</td>\n",
              "      <td>42</td>\n",
              "    </tr>\n",
              "    <tr>\n",
              "      <th>99% CL</th>\n",
              "      <td>42</td>\n",
              "      <td>20</td>\n",
              "    </tr>\n",
              "  </tbody>\n",
              "</table>\n",
              "</div>"
            ],
            "text/plain": [
              "          Accept  Reject\n",
              "90% CL       887      93\n",
              "95% CL        47      46\n",
              "95.5% CL       4      42\n",
              "99% CL        42      20"
            ]
          },
          "metadata": {
            "tags": []
          },
          "execution_count": 36
        }
      ]
    },
    {
      "cell_type": "markdown",
      "metadata": {
        "id": "-caQehUKBoqK"
      },
      "source": [
        "CHECKING FOR TYPE I ERROR<br>\n",
        "It seems that, when we have more outliers, we are *more likely to reject the null hypothesis* when it's true. In our two simulations with 1000 samples each, the likelihood of rejecting H0 at any confidence level went up from ~11% to 12% when the number of outliers went up from 0.35% to 0.42% of total sample. "
      ]
    },
    {
      "cell_type": "code",
      "metadata": {
        "id": "XmVqYMpXJBTc"
      },
      "source": [
        ""
      ],
      "execution_count": null,
      "outputs": []
    }
  ]
}